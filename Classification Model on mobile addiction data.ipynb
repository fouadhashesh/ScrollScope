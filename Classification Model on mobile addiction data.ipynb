{
 "cells": [
  {
   "cell_type": "code",
   "execution_count": 1,
   "id": "07471252",
   "metadata": {},
   "outputs": [
    {
     "name": "stdout",
     "output_type": "stream",
     "text": [
      "Requirement already satisfied: numpy in c:\\users\\salah elsayed\\appdata\\local\\programs\\python\\python311\\lib\\site-packages (1.26.4)\n"
     ]
    },
    {
     "name": "stderr",
     "output_type": "stream",
     "text": [
      "\n",
      "[notice] A new release of pip is available: 24.0 -> 25.1.1\n",
      "[notice] To update, run: python.exe -m pip install --upgrade pip\n"
     ]
    },
    {
     "name": "stdout",
     "output_type": "stream",
     "text": [
      "Requirement already satisfied: pandas in c:\\users\\salah elsayed\\appdata\\local\\programs\\python\\python311\\lib\\site-packages (2.2.3)\n",
      "Requirement already satisfied: numpy>=1.23.2 in c:\\users\\salah elsayed\\appdata\\local\\programs\\python\\python311\\lib\\site-packages (from pandas) (1.26.4)\n",
      "Requirement already satisfied: python-dateutil>=2.8.2 in c:\\users\\salah elsayed\\appdata\\local\\programs\\python\\python311\\lib\\site-packages (from pandas) (2.9.0.post0)\n",
      "Requirement already satisfied: pytz>=2020.1 in c:\\users\\salah elsayed\\appdata\\local\\programs\\python\\python311\\lib\\site-packages (from pandas) (2025.2)\n",
      "Requirement already satisfied: tzdata>=2022.7 in c:\\users\\salah elsayed\\appdata\\local\\programs\\python\\python311\\lib\\site-packages (from pandas) (2025.2)\n",
      "Requirement already satisfied: six>=1.5 in c:\\users\\salah elsayed\\appdata\\local\\programs\\python\\python311\\lib\\site-packages (from python-dateutil>=2.8.2->pandas) (1.17.0)\n"
     ]
    },
    {
     "name": "stderr",
     "output_type": "stream",
     "text": [
      "\n",
      "[notice] A new release of pip is available: 24.0 -> 25.1.1\n",
      "[notice] To update, run: python.exe -m pip install --upgrade pip\n",
      "ERROR: Could not find a version that satisfies the requirement matplotlib.pyplot (from versions: none)\n",
      "ERROR: No matching distribution found for matplotlib.pyplot\n",
      "\n",
      "[notice] A new release of pip is available: 24.0 -> 25.1.1\n",
      "[notice] To update, run: python.exe -m pip install --upgrade pip\n"
     ]
    },
    {
     "name": "stdout",
     "output_type": "stream",
     "text": [
      "Requirement already satisfied: seaborn in c:\\users\\salah elsayed\\appdata\\local\\programs\\python\\python311\\lib\\site-packages (0.13.2)\n",
      "Requirement already satisfied: numpy!=1.24.0,>=1.20 in c:\\users\\salah elsayed\\appdata\\local\\programs\\python\\python311\\lib\\site-packages (from seaborn) (1.26.4)\n",
      "Requirement already satisfied: pandas>=1.2 in c:\\users\\salah elsayed\\appdata\\local\\programs\\python\\python311\\lib\\site-packages (from seaborn) (2.2.3)\n",
      "Requirement already satisfied: matplotlib!=3.6.1,>=3.4 in c:\\users\\salah elsayed\\appdata\\local\\programs\\python\\python311\\lib\\site-packages (from seaborn) (3.10.1)\n",
      "Requirement already satisfied: contourpy>=1.0.1 in c:\\users\\salah elsayed\\appdata\\local\\programs\\python\\python311\\lib\\site-packages (from matplotlib!=3.6.1,>=3.4->seaborn) (1.3.2)\n",
      "Requirement already satisfied: cycler>=0.10 in c:\\users\\salah elsayed\\appdata\\local\\programs\\python\\python311\\lib\\site-packages (from matplotlib!=3.6.1,>=3.4->seaborn) (0.12.1)\n",
      "Requirement already satisfied: fonttools>=4.22.0 in c:\\users\\salah elsayed\\appdata\\local\\programs\\python\\python311\\lib\\site-packages (from matplotlib!=3.6.1,>=3.4->seaborn) (4.57.0)\n",
      "Requirement already satisfied: kiwisolver>=1.3.1 in c:\\users\\salah elsayed\\appdata\\local\\programs\\python\\python311\\lib\\site-packages (from matplotlib!=3.6.1,>=3.4->seaborn) (1.4.8)\n",
      "Requirement already satisfied: packaging>=20.0 in c:\\users\\salah elsayed\\appdata\\local\\programs\\python\\python311\\lib\\site-packages (from matplotlib!=3.6.1,>=3.4->seaborn) (24.2)\n",
      "Requirement already satisfied: pillow>=8 in c:\\users\\salah elsayed\\appdata\\local\\programs\\python\\python311\\lib\\site-packages (from matplotlib!=3.6.1,>=3.4->seaborn) (11.2.1)\n",
      "Requirement already satisfied: pyparsing>=2.3.1 in c:\\users\\salah elsayed\\appdata\\local\\programs\\python\\python311\\lib\\site-packages (from matplotlib!=3.6.1,>=3.4->seaborn) (3.2.3)\n",
      "Requirement already satisfied: python-dateutil>=2.7 in c:\\users\\salah elsayed\\appdata\\local\\programs\\python\\python311\\lib\\site-packages (from matplotlib!=3.6.1,>=3.4->seaborn) (2.9.0.post0)\n",
      "Requirement already satisfied: pytz>=2020.1 in c:\\users\\salah elsayed\\appdata\\local\\programs\\python\\python311\\lib\\site-packages (from pandas>=1.2->seaborn) (2025.2)\n",
      "Requirement already satisfied: tzdata>=2022.7 in c:\\users\\salah elsayed\\appdata\\local\\programs\\python\\python311\\lib\\site-packages (from pandas>=1.2->seaborn) (2025.2)\n",
      "Requirement already satisfied: six>=1.5 in c:\\users\\salah elsayed\\appdata\\local\\programs\\python\\python311\\lib\\site-packages (from python-dateutil>=2.7->matplotlib!=3.6.1,>=3.4->seaborn) (1.17.0)\n"
     ]
    },
    {
     "name": "stderr",
     "output_type": "stream",
     "text": [
      "\n",
      "[notice] A new release of pip is available: 24.0 -> 25.1.1\n",
      "[notice] To update, run: python.exe -m pip install --upgrade pip\n"
     ]
    },
    {
     "name": "stdout",
     "output_type": "stream",
     "text": [
      "Requirement already satisfied: scikit-learn in c:\\users\\salah elsayed\\appdata\\local\\programs\\python\\python311\\lib\\site-packages (1.5.2)\n",
      "Requirement already satisfied: numpy>=1.19.5 in c:\\users\\salah elsayed\\appdata\\local\\programs\\python\\python311\\lib\\site-packages (from scikit-learn) (1.26.4)\n",
      "Requirement already satisfied: scipy>=1.6.0 in c:\\users\\salah elsayed\\appdata\\local\\programs\\python\\python311\\lib\\site-packages (from scikit-learn) (1.15.2)\n",
      "Requirement already satisfied: joblib>=1.2.0 in c:\\users\\salah elsayed\\appdata\\local\\programs\\python\\python311\\lib\\site-packages (from scikit-learn) (1.4.2)\n",
      "Requirement already satisfied: threadpoolctl>=3.1.0 in c:\\users\\salah elsayed\\appdata\\local\\programs\\python\\python311\\lib\\site-packages (from scikit-learn) (3.6.0)\n"
     ]
    },
    {
     "name": "stderr",
     "output_type": "stream",
     "text": [
      "\n",
      "[notice] A new release of pip is available: 24.0 -> 25.1.1\n",
      "[notice] To update, run: python.exe -m pip install --upgrade pip\n"
     ]
    },
    {
     "name": "stdout",
     "output_type": "stream",
     "text": [
      "Requirement already satisfied: tensorflow in c:\\users\\salah elsayed\\appdata\\local\\programs\\python\\python311\\lib\\site-packages (2.19.0)\n",
      "Requirement already satisfied: absl-py>=1.0.0 in c:\\users\\salah elsayed\\appdata\\local\\programs\\python\\python311\\lib\\site-packages (from tensorflow) (2.2.2)\n",
      "Requirement already satisfied: astunparse>=1.6.0 in c:\\users\\salah elsayed\\appdata\\local\\programs\\python\\python311\\lib\\site-packages (from tensorflow) (1.6.3)\n",
      "Requirement already satisfied: flatbuffers>=24.3.25 in c:\\users\\salah elsayed\\appdata\\local\\programs\\python\\python311\\lib\\site-packages (from tensorflow) (25.2.10)\n",
      "Requirement already satisfied: gast!=0.5.0,!=0.5.1,!=0.5.2,>=0.2.1 in c:\\users\\salah elsayed\\appdata\\local\\programs\\python\\python311\\lib\\site-packages (from tensorflow) (0.6.0)\n",
      "Requirement already satisfied: google-pasta>=0.1.1 in c:\\users\\salah elsayed\\appdata\\local\\programs\\python\\python311\\lib\\site-packages (from tensorflow) (0.2.0)\n",
      "Requirement already satisfied: libclang>=13.0.0 in c:\\users\\salah elsayed\\appdata\\local\\programs\\python\\python311\\lib\\site-packages (from tensorflow) (18.1.1)\n",
      "Requirement already satisfied: opt-einsum>=2.3.2 in c:\\users\\salah elsayed\\appdata\\local\\programs\\python\\python311\\lib\\site-packages (from tensorflow) (3.4.0)\n",
      "Requirement already satisfied: packaging in c:\\users\\salah elsayed\\appdata\\local\\programs\\python\\python311\\lib\\site-packages (from tensorflow) (24.2)\n",
      "Requirement already satisfied: protobuf!=4.21.0,!=4.21.1,!=4.21.2,!=4.21.3,!=4.21.4,!=4.21.5,<6.0.0dev,>=3.20.3 in c:\\users\\salah elsayed\\appdata\\local\\programs\\python\\python311\\lib\\site-packages (from tensorflow) (5.29.4)\n",
      "Requirement already satisfied: requests<3,>=2.21.0 in c:\\users\\salah elsayed\\appdata\\local\\programs\\python\\python311\\lib\\site-packages (from tensorflow) (2.32.3)\n",
      "Requirement already satisfied: setuptools in c:\\users\\salah elsayed\\appdata\\local\\programs\\python\\python311\\lib\\site-packages (from tensorflow) (65.5.0)\n",
      "Requirement already satisfied: six>=1.12.0 in c:\\users\\salah elsayed\\appdata\\local\\programs\\python\\python311\\lib\\site-packages (from tensorflow) (1.17.0)\n",
      "Requirement already satisfied: termcolor>=1.1.0 in c:\\users\\salah elsayed\\appdata\\local\\programs\\python\\python311\\lib\\site-packages (from tensorflow) (3.1.0)\n",
      "Requirement already satisfied: typing-extensions>=3.6.6 in c:\\users\\salah elsayed\\appdata\\local\\programs\\python\\python311\\lib\\site-packages (from tensorflow) (4.12.2)\n",
      "Requirement already satisfied: wrapt>=1.11.0 in c:\\users\\salah elsayed\\appdata\\local\\programs\\python\\python311\\lib\\site-packages (from tensorflow) (1.17.2)\n",
      "Requirement already satisfied: grpcio<2.0,>=1.24.3 in c:\\users\\salah elsayed\\appdata\\local\\programs\\python\\python311\\lib\\site-packages (from tensorflow) (1.71.0)\n",
      "Requirement already satisfied: tensorboard~=2.19.0 in c:\\users\\salah elsayed\\appdata\\local\\programs\\python\\python311\\lib\\site-packages (from tensorflow) (2.19.0)\n",
      "Requirement already satisfied: keras>=3.5.0 in c:\\users\\salah elsayed\\appdata\\local\\programs\\python\\python311\\lib\\site-packages (from tensorflow) (3.9.2)\n",
      "Requirement already satisfied: numpy<2.2.0,>=1.26.0 in c:\\users\\salah elsayed\\appdata\\local\\programs\\python\\python311\\lib\\site-packages (from tensorflow) (1.26.4)\n",
      "Requirement already satisfied: h5py>=3.11.0 in c:\\users\\salah elsayed\\appdata\\local\\programs\\python\\python311\\lib\\site-packages (from tensorflow) (3.13.0)\n",
      "Requirement already satisfied: ml-dtypes<1.0.0,>=0.5.1 in c:\\users\\salah elsayed\\appdata\\local\\programs\\python\\python311\\lib\\site-packages (from tensorflow) (0.5.1)\n",
      "Requirement already satisfied: tensorflow-io-gcs-filesystem>=0.23.1 in c:\\users\\salah elsayed\\appdata\\local\\programs\\python\\python311\\lib\\site-packages (from tensorflow) (0.31.0)\n",
      "Requirement already satisfied: wheel<1.0,>=0.23.0 in c:\\users\\salah elsayed\\appdata\\local\\programs\\python\\python311\\lib\\site-packages (from astunparse>=1.6.0->tensorflow) (0.45.1)\n",
      "Requirement already satisfied: rich in c:\\users\\salah elsayed\\appdata\\local\\programs\\python\\python311\\lib\\site-packages (from keras>=3.5.0->tensorflow) (14.0.0)\n",
      "Requirement already satisfied: namex in c:\\users\\salah elsayed\\appdata\\local\\programs\\python\\python311\\lib\\site-packages (from keras>=3.5.0->tensorflow) (0.0.9)\n",
      "Requirement already satisfied: optree in c:\\users\\salah elsayed\\appdata\\local\\programs\\python\\python311\\lib\\site-packages (from keras>=3.5.0->tensorflow) (0.15.0)\n",
      "Requirement already satisfied: charset-normalizer<4,>=2 in c:\\users\\salah elsayed\\appdata\\local\\programs\\python\\python311\\lib\\site-packages (from requests<3,>=2.21.0->tensorflow) (3.4.1)\n",
      "Requirement already satisfied: idna<4,>=2.5 in c:\\users\\salah elsayed\\appdata\\local\\programs\\python\\python311\\lib\\site-packages (from requests<3,>=2.21.0->tensorflow) (3.10)\n",
      "Requirement already satisfied: urllib3<3,>=1.21.1 in c:\\users\\salah elsayed\\appdata\\local\\programs\\python\\python311\\lib\\site-packages (from requests<3,>=2.21.0->tensorflow) (2.3.0)\n",
      "Requirement already satisfied: certifi>=2017.4.17 in c:\\users\\salah elsayed\\appdata\\local\\programs\\python\\python311\\lib\\site-packages (from requests<3,>=2.21.0->tensorflow) (2024.12.14)\n",
      "Requirement already satisfied: markdown>=2.6.8 in c:\\users\\salah elsayed\\appdata\\local\\programs\\python\\python311\\lib\\site-packages (from tensorboard~=2.19.0->tensorflow) (3.8)\n",
      "Requirement already satisfied: tensorboard-data-server<0.8.0,>=0.7.0 in c:\\users\\salah elsayed\\appdata\\local\\programs\\python\\python311\\lib\\site-packages (from tensorboard~=2.19.0->tensorflow) (0.7.2)\n",
      "Requirement already satisfied: werkzeug>=1.0.1 in c:\\users\\salah elsayed\\appdata\\local\\programs\\python\\python311\\lib\\site-packages (from tensorboard~=2.19.0->tensorflow) (3.0.6)\n",
      "Requirement already satisfied: MarkupSafe>=2.1.1 in c:\\users\\salah elsayed\\appdata\\local\\programs\\python\\python311\\lib\\site-packages (from werkzeug>=1.0.1->tensorboard~=2.19.0->tensorflow) (3.0.2)\n",
      "Requirement already satisfied: markdown-it-py>=2.2.0 in c:\\users\\salah elsayed\\appdata\\local\\programs\\python\\python311\\lib\\site-packages (from rich->keras>=3.5.0->tensorflow) (3.0.0)\n",
      "Requirement already satisfied: pygments<3.0.0,>=2.13.0 in c:\\users\\salah elsayed\\appdata\\roaming\\python\\python311\\site-packages (from rich->keras>=3.5.0->tensorflow) (2.19.1)\n",
      "Requirement already satisfied: mdurl~=0.1 in c:\\users\\salah elsayed\\appdata\\local\\programs\\python\\python311\\lib\\site-packages (from markdown-it-py>=2.2.0->rich->keras>=3.5.0->tensorflow) (0.1.2)\n"
     ]
    },
    {
     "name": "stderr",
     "output_type": "stream",
     "text": [
      "\n",
      "[notice] A new release of pip is available: 24.0 -> 25.1.1\n",
      "[notice] To update, run: python.exe -m pip install --upgrade pip\n"
     ]
    },
    {
     "name": "stdout",
     "output_type": "stream",
     "text": [
      "Requirement already satisfied: keras in c:\\users\\salah elsayed\\appdata\\local\\programs\\python\\python311\\lib\\site-packages (3.9.2)\n",
      "Requirement already satisfied: absl-py in c:\\users\\salah elsayed\\appdata\\local\\programs\\python\\python311\\lib\\site-packages (from keras) (2.2.2)\n",
      "Requirement already satisfied: numpy in c:\\users\\salah elsayed\\appdata\\local\\programs\\python\\python311\\lib\\site-packages (from keras) (1.26.4)\n",
      "Requirement already satisfied: rich in c:\\users\\salah elsayed\\appdata\\local\\programs\\python\\python311\\lib\\site-packages (from keras) (14.0.0)\n",
      "Requirement already satisfied: namex in c:\\users\\salah elsayed\\appdata\\local\\programs\\python\\python311\\lib\\site-packages (from keras) (0.0.9)\n",
      "Requirement already satisfied: h5py in c:\\users\\salah elsayed\\appdata\\local\\programs\\python\\python311\\lib\\site-packages (from keras) (3.13.0)\n",
      "Requirement already satisfied: optree in c:\\users\\salah elsayed\\appdata\\local\\programs\\python\\python311\\lib\\site-packages (from keras) (0.15.0)\n",
      "Requirement already satisfied: ml-dtypes in c:\\users\\salah elsayed\\appdata\\local\\programs\\python\\python311\\lib\\site-packages (from keras) (0.5.1)\n",
      "Requirement already satisfied: packaging in c:\\users\\salah elsayed\\appdata\\local\\programs\\python\\python311\\lib\\site-packages (from keras) (24.2)\n",
      "Requirement already satisfied: typing-extensions>=4.5.0 in c:\\users\\salah elsayed\\appdata\\local\\programs\\python\\python311\\lib\\site-packages (from optree->keras) (4.12.2)\n",
      "Requirement already satisfied: markdown-it-py>=2.2.0 in c:\\users\\salah elsayed\\appdata\\local\\programs\\python\\python311\\lib\\site-packages (from rich->keras) (3.0.0)\n",
      "Requirement already satisfied: pygments<3.0.0,>=2.13.0 in c:\\users\\salah elsayed\\appdata\\roaming\\python\\python311\\site-packages (from rich->keras) (2.19.1)\n",
      "Requirement already satisfied: mdurl~=0.1 in c:\\users\\salah elsayed\\appdata\\local\\programs\\python\\python311\\lib\\site-packages (from markdown-it-py>=2.2.0->rich->keras) (0.1.2)\n"
     ]
    },
    {
     "name": "stderr",
     "output_type": "stream",
     "text": [
      "\n",
      "[notice] A new release of pip is available: 24.0 -> 25.1.1\n",
      "[notice] To update, run: python.exe -m pip install --upgrade pip\n",
      "ERROR: Could not find a version that satisfies the requirement collections (from versions: none)\n",
      "ERROR: No matching distribution found for collections\n",
      "\n",
      "[notice] A new release of pip is available: 24.0 -> 25.1.1\n",
      "[notice] To update, run: python.exe -m pip install --upgrade pip\n"
     ]
    },
    {
     "name": "stdout",
     "output_type": "stream",
     "text": [
      "Requirement already satisfied: xgboost in c:\\users\\salah elsayed\\appdata\\local\\programs\\python\\python311\\lib\\site-packages (3.0.0)\n",
      "Requirement already satisfied: numpy in c:\\users\\salah elsayed\\appdata\\local\\programs\\python\\python311\\lib\\site-packages (from xgboost) (1.26.4)\n",
      "Requirement already satisfied: scipy in c:\\users\\salah elsayed\\appdata\\local\\programs\\python\\python311\\lib\\site-packages (from xgboost) (1.15.2)\n"
     ]
    },
    {
     "name": "stderr",
     "output_type": "stream",
     "text": [
      "\n",
      "[notice] A new release of pip is available: 24.0 -> 25.1.1\n",
      "[notice] To update, run: python.exe -m pip install --upgrade pip\n"
     ]
    },
    {
     "name": "stdout",
     "output_type": "stream",
     "text": [
      "Requirement already satisfied: tpot in c:\\users\\salah elsayed\\appdata\\local\\programs\\python\\python311\\lib\\site-packages (1.0.0)\n",
      "Requirement already satisfied: numpy==1.26.4 in c:\\users\\salah elsayed\\appdata\\local\\programs\\python\\python311\\lib\\site-packages (from tpot) (1.26.4)\n",
      "Requirement already satisfied: scipy>=1.3.1 in c:\\users\\salah elsayed\\appdata\\local\\programs\\python\\python311\\lib\\site-packages (from tpot) (1.15.2)\n",
      "Requirement already satisfied: scikit-learn<1.6,>=1.4.2 in c:\\users\\salah elsayed\\appdata\\local\\programs\\python\\python311\\lib\\site-packages (from tpot) (1.5.2)\n",
      "Requirement already satisfied: update_checker>=0.16 in c:\\users\\salah elsayed\\appdata\\local\\programs\\python\\python311\\lib\\site-packages (from tpot) (0.18.0)\n",
      "Requirement already satisfied: tqdm>=4.36.1 in c:\\users\\salah elsayed\\appdata\\local\\programs\\python\\python311\\lib\\site-packages (from tpot) (4.67.1)\n",
      "Requirement already satisfied: stopit>=1.1.1 in c:\\users\\salah elsayed\\appdata\\local\\programs\\python\\python311\\lib\\site-packages (from tpot) (1.1.2)\n",
      "Requirement already satisfied: pandas>=2.2.0 in c:\\users\\salah elsayed\\appdata\\local\\programs\\python\\python311\\lib\\site-packages (from tpot) (2.2.3)\n",
      "Requirement already satisfied: joblib>=1.1.1 in c:\\users\\salah elsayed\\appdata\\local\\programs\\python\\python311\\lib\\site-packages (from tpot) (1.4.2)\n",
      "Requirement already satisfied: xgboost>=1.7.0 in c:\\users\\salah elsayed\\appdata\\local\\programs\\python\\python311\\lib\\site-packages (from tpot) (3.0.0)\n",
      "Requirement already satisfied: matplotlib>=3.6.2 in c:\\users\\salah elsayed\\appdata\\local\\programs\\python\\python311\\lib\\site-packages (from tpot) (3.10.1)\n",
      "Requirement already satisfied: traitlets>=5.8.0 in c:\\users\\salah elsayed\\appdata\\local\\programs\\python\\python311\\lib\\site-packages (from tpot) (5.14.3)\n",
      "Requirement already satisfied: lightgbm>=3.3.3 in c:\\users\\salah elsayed\\appdata\\local\\programs\\python\\python311\\lib\\site-packages (from tpot) (4.6.0)\n",
      "Requirement already satisfied: optuna>=3.0.5 in c:\\users\\salah elsayed\\appdata\\local\\programs\\python\\python311\\lib\\site-packages (from tpot) (4.3.0)\n",
      "Requirement already satisfied: networkx>=3.0 in c:\\users\\salah elsayed\\appdata\\local\\programs\\python\\python311\\lib\\site-packages (from tpot) (3.4.2)\n",
      "Requirement already satisfied: dask>=2024.4.2 in c:\\users\\salah elsayed\\appdata\\local\\programs\\python\\python311\\lib\\site-packages (from tpot) (2025.4.1)\n",
      "Requirement already satisfied: distributed>=2024.4.2 in c:\\users\\salah elsayed\\appdata\\local\\programs\\python\\python311\\lib\\site-packages (from tpot) (2025.4.1)\n",
      "Requirement already satisfied: dask-expr>=1.0.12 in c:\\users\\salah elsayed\\appdata\\local\\programs\\python\\python311\\lib\\site-packages (from tpot) (2.0.0)\n",
      "Requirement already satisfied: dask-jobqueue>=0.8.5 in c:\\users\\salah elsayed\\appdata\\local\\programs\\python\\python311\\lib\\site-packages (from tpot) (0.9.0)\n",
      "Requirement already satisfied: func_timeout>=4.3.5 in c:\\users\\salah elsayed\\appdata\\local\\programs\\python\\python311\\lib\\site-packages (from tpot) (4.3.5)\n",
      "Requirement already satisfied: configspace>=1.1.1 in c:\\users\\salah elsayed\\appdata\\local\\programs\\python\\python311\\lib\\site-packages (from tpot) (1.2.1)\n",
      "Requirement already satisfied: dill>=0.3.9 in c:\\users\\salah elsayed\\appdata\\local\\programs\\python\\python311\\lib\\site-packages (from tpot) (0.4.0)\n",
      "Requirement already satisfied: seaborn>=0.13.2 in c:\\users\\salah elsayed\\appdata\\local\\programs\\python\\python311\\lib\\site-packages (from tpot) (0.13.2)\n",
      "Requirement already satisfied: pyparsing in c:\\users\\salah elsayed\\appdata\\local\\programs\\python\\python311\\lib\\site-packages (from configspace>=1.1.1->tpot) (3.2.3)\n",
      "Requirement already satisfied: typing_extensions in c:\\users\\salah elsayed\\appdata\\local\\programs\\python\\python311\\lib\\site-packages (from configspace>=1.1.1->tpot) (4.12.2)\n",
      "Requirement already satisfied: more_itertools in c:\\users\\salah elsayed\\appdata\\local\\programs\\python\\python311\\lib\\site-packages (from configspace>=1.1.1->tpot) (10.7.0)\n",
      "Requirement already satisfied: click>=8.1 in c:\\users\\salah elsayed\\appdata\\local\\programs\\python\\python311\\lib\\site-packages (from dask>=2024.4.2->tpot) (8.1.8)\n",
      "Requirement already satisfied: cloudpickle>=3.0.0 in c:\\users\\salah elsayed\\appdata\\local\\programs\\python\\python311\\lib\\site-packages (from dask>=2024.4.2->tpot) (3.1.1)\n",
      "Requirement already satisfied: fsspec>=2021.09.0 in c:\\users\\salah elsayed\\appdata\\local\\programs\\python\\python311\\lib\\site-packages (from dask>=2024.4.2->tpot) (2025.3.2)\n",
      "Requirement already satisfied: packaging>=20.0 in c:\\users\\salah elsayed\\appdata\\local\\programs\\python\\python311\\lib\\site-packages (from dask>=2024.4.2->tpot) (24.2)\n",
      "Requirement already satisfied: partd>=1.4.0 in c:\\users\\salah elsayed\\appdata\\local\\programs\\python\\python311\\lib\\site-packages (from dask>=2024.4.2->tpot) (1.4.2)\n",
      "Requirement already satisfied: pyyaml>=5.3.1 in c:\\users\\salah elsayed\\appdata\\local\\programs\\python\\python311\\lib\\site-packages (from dask>=2024.4.2->tpot) (6.0.2)\n",
      "Requirement already satisfied: toolz>=0.10.0 in c:\\users\\salah elsayed\\appdata\\local\\programs\\python\\python311\\lib\\site-packages (from dask>=2024.4.2->tpot) (1.0.0)\n",
      "Requirement already satisfied: importlib_metadata>=4.13.0 in c:\\users\\salah elsayed\\appdata\\local\\programs\\python\\python311\\lib\\site-packages (from dask>=2024.4.2->tpot) (8.5.0)\n",
      "Requirement already satisfied: jinja2>=2.10.3 in c:\\users\\salah elsayed\\appdata\\local\\programs\\python\\python311\\lib\\site-packages (from distributed>=2024.4.2->tpot) (3.1.5)\n",
      "Requirement already satisfied: locket>=1.0.0 in c:\\users\\salah elsayed\\appdata\\local\\programs\\python\\python311\\lib\\site-packages (from distributed>=2024.4.2->tpot) (1.0.0)\n",
      "Requirement already satisfied: msgpack>=1.0.2 in c:\\users\\salah elsayed\\appdata\\local\\programs\\python\\python311\\lib\\site-packages (from distributed>=2024.4.2->tpot) (1.1.0)\n",
      "Requirement already satisfied: psutil>=5.8.0 in c:\\users\\salah elsayed\\appdata\\local\\programs\\python\\python311\\lib\\site-packages (from distributed>=2024.4.2->tpot) (7.0.0)\n",
      "Requirement already satisfied: sortedcontainers>=2.0.5 in c:\\users\\salah elsayed\\appdata\\local\\programs\\python\\python311\\lib\\site-packages (from distributed>=2024.4.2->tpot) (2.4.0)\n",
      "Requirement already satisfied: tblib>=1.6.0 in c:\\users\\salah elsayed\\appdata\\local\\programs\\python\\python311\\lib\\site-packages (from distributed>=2024.4.2->tpot) (3.1.0)\n",
      "Requirement already satisfied: tornado>=6.2.0 in c:\\users\\salah elsayed\\appdata\\local\\programs\\python\\python311\\lib\\site-packages (from distributed>=2024.4.2->tpot) (6.4.2)\n",
      "Requirement already satisfied: urllib3>=1.26.5 in c:\\users\\salah elsayed\\appdata\\local\\programs\\python\\python311\\lib\\site-packages (from distributed>=2024.4.2->tpot) (2.3.0)\n",
      "Requirement already satisfied: zict>=3.0.0 in c:\\users\\salah elsayed\\appdata\\local\\programs\\python\\python311\\lib\\site-packages (from distributed>=2024.4.2->tpot) (3.0.0)\n",
      "Requirement already satisfied: contourpy>=1.0.1 in c:\\users\\salah elsayed\\appdata\\local\\programs\\python\\python311\\lib\\site-packages (from matplotlib>=3.6.2->tpot) (1.3.2)\n",
      "Requirement already satisfied: cycler>=0.10 in c:\\users\\salah elsayed\\appdata\\local\\programs\\python\\python311\\lib\\site-packages (from matplotlib>=3.6.2->tpot) (0.12.1)\n",
      "Requirement already satisfied: fonttools>=4.22.0 in c:\\users\\salah elsayed\\appdata\\local\\programs\\python\\python311\\lib\\site-packages (from matplotlib>=3.6.2->tpot) (4.57.0)\n",
      "Requirement already satisfied: kiwisolver>=1.3.1 in c:\\users\\salah elsayed\\appdata\\local\\programs\\python\\python311\\lib\\site-packages (from matplotlib>=3.6.2->tpot) (1.4.8)\n",
      "Requirement already satisfied: pillow>=8 in c:\\users\\salah elsayed\\appdata\\local\\programs\\python\\python311\\lib\\site-packages (from matplotlib>=3.6.2->tpot) (11.2.1)\n",
      "Requirement already satisfied: python-dateutil>=2.7 in c:\\users\\salah elsayed\\appdata\\local\\programs\\python\\python311\\lib\\site-packages (from matplotlib>=3.6.2->tpot) (2.9.0.post0)\n",
      "Requirement already satisfied: alembic>=1.5.0 in c:\\users\\salah elsayed\\appdata\\local\\programs\\python\\python311\\lib\\site-packages (from optuna>=3.0.5->tpot) (1.15.2)\n",
      "Requirement already satisfied: colorlog in c:\\users\\salah elsayed\\appdata\\local\\programs\\python\\python311\\lib\\site-packages (from optuna>=3.0.5->tpot) (6.9.0)\n",
      "Requirement already satisfied: sqlalchemy>=1.4.2 in c:\\users\\salah elsayed\\appdata\\local\\programs\\python\\python311\\lib\\site-packages (from optuna>=3.0.5->tpot) (2.0.40)\n",
      "Requirement already satisfied: pytz>=2020.1 in c:\\users\\salah elsayed\\appdata\\local\\programs\\python\\python311\\lib\\site-packages (from pandas>=2.2.0->tpot) (2025.2)\n",
      "Requirement already satisfied: tzdata>=2022.7 in c:\\users\\salah elsayed\\appdata\\local\\programs\\python\\python311\\lib\\site-packages (from pandas>=2.2.0->tpot) (2025.2)\n",
      "Requirement already satisfied: threadpoolctl>=3.1.0 in c:\\users\\salah elsayed\\appdata\\local\\programs\\python\\python311\\lib\\site-packages (from scikit-learn<1.6,>=1.4.2->tpot) (3.6.0)\n",
      "Requirement already satisfied: colorama in c:\\users\\salah elsayed\\appdata\\local\\programs\\python\\python311\\lib\\site-packages (from tqdm>=4.36.1->tpot) (0.4.6)\n",
      "Requirement already satisfied: requests>=2.3.0 in c:\\users\\salah elsayed\\appdata\\local\\programs\\python\\python311\\lib\\site-packages (from update_checker>=0.16->tpot) (2.32.3)\n",
      "Requirement already satisfied: Mako in c:\\users\\salah elsayed\\appdata\\local\\programs\\python\\python311\\lib\\site-packages (from alembic>=1.5.0->optuna>=3.0.5->tpot) (1.3.10)\n",
      "Requirement already satisfied: zipp>=3.20 in c:\\users\\salah elsayed\\appdata\\local\\programs\\python\\python311\\lib\\site-packages (from importlib_metadata>=4.13.0->dask>=2024.4.2->tpot) (3.21.0)\n",
      "Requirement already satisfied: MarkupSafe>=2.0 in c:\\users\\salah elsayed\\appdata\\local\\programs\\python\\python311\\lib\\site-packages (from jinja2>=2.10.3->distributed>=2024.4.2->tpot) (3.0.2)\n",
      "Requirement already satisfied: six>=1.5 in c:\\users\\salah elsayed\\appdata\\local\\programs\\python\\python311\\lib\\site-packages (from python-dateutil>=2.7->matplotlib>=3.6.2->tpot) (1.17.0)\n",
      "Requirement already satisfied: charset-normalizer<4,>=2 in c:\\users\\salah elsayed\\appdata\\local\\programs\\python\\python311\\lib\\site-packages (from requests>=2.3.0->update_checker>=0.16->tpot) (3.4.1)\n",
      "Requirement already satisfied: idna<4,>=2.5 in c:\\users\\salah elsayed\\appdata\\local\\programs\\python\\python311\\lib\\site-packages (from requests>=2.3.0->update_checker>=0.16->tpot) (3.10)\n",
      "Requirement already satisfied: certifi>=2017.4.17 in c:\\users\\salah elsayed\\appdata\\local\\programs\\python\\python311\\lib\\site-packages (from requests>=2.3.0->update_checker>=0.16->tpot) (2024.12.14)\n",
      "Requirement already satisfied: greenlet>=1 in c:\\users\\salah elsayed\\appdata\\local\\programs\\python\\python311\\lib\\site-packages (from sqlalchemy>=1.4.2->optuna>=3.0.5->tpot) (3.2.1)\n"
     ]
    },
    {
     "name": "stderr",
     "output_type": "stream",
     "text": [
      "\n",
      "[notice] A new release of pip is available: 24.0 -> 25.1.1\n",
      "[notice] To update, run: python.exe -m pip install --upgrade pip\n"
     ]
    }
   ],
   "source": [
    "!pip install numpy\n",
    "!pip install pandas\n",
    "!pip install matplotlib.pyplot\n",
    "!pip install seaborn\n",
    "!pip install scikit-learn\n",
    "!pip install tensorflow\n",
    "!pip install keras\n",
    "!pip install collections\n",
    "!pip install xgboost\n",
    "!pip install tpot"
   ]
  },
  {
   "cell_type": "code",
   "execution_count": 2,
   "id": "784c29e5",
   "metadata": {},
   "outputs": [
    {
     "name": "stderr",
     "output_type": "stream",
     "text": [
      "usage: jupyter [-h] [--version] [--config-dir] [--data-dir] [--runtime-dir]\n",
      "               [--paths] [--json] [--debug]\n",
      "               [subcommand]\n",
      "\n",
      "Jupyter: Interactive Computing\n",
      "\n",
      "positional arguments:\n",
      "  subcommand     the subcommand to launch\n",
      "\n",
      "options:\n",
      "  -h, --help     show this help message and exit\n",
      "  --version      show the versions of core jupyter packages and exit\n",
      "  --config-dir   show Jupyter config dir\n",
      "  --data-dir     show Jupyter data dir\n",
      "  --runtime-dir  show Jupyter runtime dir\n",
      "  --paths        show all Jupyter paths. Add --json for machine-readable\n",
      "                 format.\n",
      "  --json         output paths as machine-readable json\n",
      "  --debug        output debug information about paths\n",
      "\n",
      "Available subcommands: console dejavu events execute kernel kernelspec lab\n",
      "labextension labhub migrate nbconvert notebook run server troubleshoot trust\n",
      "\n",
      "Jupyter command `jupyter-nbextension` not found.\n"
     ]
    }
   ],
   "source": [
    "# Enable the widget extension\n",
    "!jupyter nbextension enable --py widgetsnbextension --sys-prefix"
   ]
  },
  {
   "cell_type": "code",
   "execution_count": 3,
   "id": "b596af24",
   "metadata": {},
   "outputs": [],
   "source": [
    "import numpy as np\n",
    "import pandas as pd\n",
    "import matplotlib.pyplot as plt\n",
    "import seaborn as sns\n",
    "import plotly.express as px"
   ]
  },
  {
   "cell_type": "code",
   "execution_count": 4,
   "id": "69aad789",
   "metadata": {},
   "outputs": [],
   "source": [
    "df=pd.read_csv(\"D:\\\\down\\\\mobile_addiction.csv\")"
   ]
  },
  {
   "cell_type": "code",
   "execution_count": 5,
   "id": "67d29bb1",
   "metadata": {},
   "outputs": [
    {
     "data": {
      "text/plain": [
       "(13589, 12)"
      ]
     },
     "execution_count": 5,
     "metadata": {},
     "output_type": "execute_result"
    }
   ],
   "source": [
    "df.shape"
   ]
  },
  {
   "cell_type": "code",
   "execution_count": 6,
   "id": "1940bcb8",
   "metadata": {},
   "outputs": [
    {
     "data": {
      "application/vnd.microsoft.datawrangler.viewer.v0+json": {
       "columns": [
        {
         "name": "index",
         "rawType": "int64",
         "type": "integer"
        },
        {
         "name": "Unnamed: 0",
         "rawType": "int64",
         "type": "integer"
        },
        {
         "name": "daily_screen_time",
         "rawType": "int64",
         "type": "integer"
        },
        {
         "name": "app_sessions",
         "rawType": "int64",
         "type": "integer"
        },
        {
         "name": "social_media_usage",
         "rawType": "int64",
         "type": "integer"
        },
        {
         "name": "gaming_time",
         "rawType": "int64",
         "type": "integer"
        },
        {
         "name": "notifications",
         "rawType": "int64",
         "type": "integer"
        },
        {
         "name": "night_usage",
         "rawType": "int64",
         "type": "integer"
        },
        {
         "name": "age",
         "rawType": "int64",
         "type": "integer"
        },
        {
         "name": "work_study_hours",
         "rawType": "int64",
         "type": "integer"
        },
        {
         "name": "stress_level",
         "rawType": "int64",
         "type": "integer"
        },
        {
         "name": "apps_installed",
         "rawType": "int64",
         "type": "integer"
        },
        {
         "name": "addicted",
         "rawType": "object",
         "type": "string"
        }
       ],
       "conversionMethod": "pd.DataFrame",
       "ref": "e1e00bfb-2455-4ba2-ae36-09ecea380677",
       "rows": [
        [
         "0",
         "0",
         "2",
         "29",
         "0",
         "0",
         "49",
         "0",
         "44",
         "5",
         "3",
         "35",
         "not addicted"
        ],
        [
         "1",
         "1",
         "6",
         "29",
         "1",
         "2",
         "65",
         "1",
         "29",
         "5",
         "9",
         "21",
         "addicted"
        ],
        [
         "2",
         "2",
         "9",
         "28",
         "2",
         "0",
         "57",
         "3",
         "28",
         "7",
         "5",
         "39",
         "addicted"
        ],
        [
         "3",
         "3",
         "6",
         "39",
         "2",
         "0",
         "69",
         "1",
         "28",
         "6",
         "8",
         "24",
         "addicted"
        ],
        [
         "4",
         "4",
         "5",
         "37",
         "3",
         "1",
         "64",
         "2",
         "27",
         "4",
         "5",
         "26",
         "addicted"
        ],
        [
         "5",
         "5",
         "4",
         "29",
         "0",
         "0",
         "59",
         "1",
         "42",
         "6",
         "5",
         "22",
         "not addicted"
        ],
        [
         "6",
         "6",
         "4",
         "32",
         "0",
         "3",
         "63",
         "2",
         "41",
         "2",
         "4",
         "30",
         "addicted"
        ],
        [
         "7",
         "7",
         "7",
         "37",
         "4",
         "1",
         "63",
         "1",
         "21",
         "7",
         "5",
         "33",
         "addicted"
        ],
        [
         "8",
         "8",
         "5",
         "29",
         "3",
         "3",
         "83",
         "1",
         "15",
         "7",
         "4",
         "29",
         "addicted"
        ],
        [
         "9",
         "9",
         "0",
         "22",
         "2",
         "0",
         "51",
         "0",
         "32",
         "6",
         "5",
         "28",
         "not addicted"
        ]
       ],
       "shape": {
        "columns": 12,
        "rows": 10
       }
      },
      "text/html": [
       "<div>\n",
       "<style scoped>\n",
       "    .dataframe tbody tr th:only-of-type {\n",
       "        vertical-align: middle;\n",
       "    }\n",
       "\n",
       "    .dataframe tbody tr th {\n",
       "        vertical-align: top;\n",
       "    }\n",
       "\n",
       "    .dataframe thead th {\n",
       "        text-align: right;\n",
       "    }\n",
       "</style>\n",
       "<table border=\"1\" class=\"dataframe\">\n",
       "  <thead>\n",
       "    <tr style=\"text-align: right;\">\n",
       "      <th></th>\n",
       "      <th>Unnamed: 0</th>\n",
       "      <th>daily_screen_time</th>\n",
       "      <th>app_sessions</th>\n",
       "      <th>social_media_usage</th>\n",
       "      <th>gaming_time</th>\n",
       "      <th>notifications</th>\n",
       "      <th>night_usage</th>\n",
       "      <th>age</th>\n",
       "      <th>work_study_hours</th>\n",
       "      <th>stress_level</th>\n",
       "      <th>apps_installed</th>\n",
       "      <th>addicted</th>\n",
       "    </tr>\n",
       "  </thead>\n",
       "  <tbody>\n",
       "    <tr>\n",
       "      <th>0</th>\n",
       "      <td>0</td>\n",
       "      <td>2</td>\n",
       "      <td>29</td>\n",
       "      <td>0</td>\n",
       "      <td>0</td>\n",
       "      <td>49</td>\n",
       "      <td>0</td>\n",
       "      <td>44</td>\n",
       "      <td>5</td>\n",
       "      <td>3</td>\n",
       "      <td>35</td>\n",
       "      <td>not addicted</td>\n",
       "    </tr>\n",
       "    <tr>\n",
       "      <th>1</th>\n",
       "      <td>1</td>\n",
       "      <td>6</td>\n",
       "      <td>29</td>\n",
       "      <td>1</td>\n",
       "      <td>2</td>\n",
       "      <td>65</td>\n",
       "      <td>1</td>\n",
       "      <td>29</td>\n",
       "      <td>5</td>\n",
       "      <td>9</td>\n",
       "      <td>21</td>\n",
       "      <td>addicted</td>\n",
       "    </tr>\n",
       "    <tr>\n",
       "      <th>2</th>\n",
       "      <td>2</td>\n",
       "      <td>9</td>\n",
       "      <td>28</td>\n",
       "      <td>2</td>\n",
       "      <td>0</td>\n",
       "      <td>57</td>\n",
       "      <td>3</td>\n",
       "      <td>28</td>\n",
       "      <td>7</td>\n",
       "      <td>5</td>\n",
       "      <td>39</td>\n",
       "      <td>addicted</td>\n",
       "    </tr>\n",
       "    <tr>\n",
       "      <th>3</th>\n",
       "      <td>3</td>\n",
       "      <td>6</td>\n",
       "      <td>39</td>\n",
       "      <td>2</td>\n",
       "      <td>0</td>\n",
       "      <td>69</td>\n",
       "      <td>1</td>\n",
       "      <td>28</td>\n",
       "      <td>6</td>\n",
       "      <td>8</td>\n",
       "      <td>24</td>\n",
       "      <td>addicted</td>\n",
       "    </tr>\n",
       "    <tr>\n",
       "      <th>4</th>\n",
       "      <td>4</td>\n",
       "      <td>5</td>\n",
       "      <td>37</td>\n",
       "      <td>3</td>\n",
       "      <td>1</td>\n",
       "      <td>64</td>\n",
       "      <td>2</td>\n",
       "      <td>27</td>\n",
       "      <td>4</td>\n",
       "      <td>5</td>\n",
       "      <td>26</td>\n",
       "      <td>addicted</td>\n",
       "    </tr>\n",
       "    <tr>\n",
       "      <th>5</th>\n",
       "      <td>5</td>\n",
       "      <td>4</td>\n",
       "      <td>29</td>\n",
       "      <td>0</td>\n",
       "      <td>0</td>\n",
       "      <td>59</td>\n",
       "      <td>1</td>\n",
       "      <td>42</td>\n",
       "      <td>6</td>\n",
       "      <td>5</td>\n",
       "      <td>22</td>\n",
       "      <td>not addicted</td>\n",
       "    </tr>\n",
       "    <tr>\n",
       "      <th>6</th>\n",
       "      <td>6</td>\n",
       "      <td>4</td>\n",
       "      <td>32</td>\n",
       "      <td>0</td>\n",
       "      <td>3</td>\n",
       "      <td>63</td>\n",
       "      <td>2</td>\n",
       "      <td>41</td>\n",
       "      <td>2</td>\n",
       "      <td>4</td>\n",
       "      <td>30</td>\n",
       "      <td>addicted</td>\n",
       "    </tr>\n",
       "    <tr>\n",
       "      <th>7</th>\n",
       "      <td>7</td>\n",
       "      <td>7</td>\n",
       "      <td>37</td>\n",
       "      <td>4</td>\n",
       "      <td>1</td>\n",
       "      <td>63</td>\n",
       "      <td>1</td>\n",
       "      <td>21</td>\n",
       "      <td>7</td>\n",
       "      <td>5</td>\n",
       "      <td>33</td>\n",
       "      <td>addicted</td>\n",
       "    </tr>\n",
       "    <tr>\n",
       "      <th>8</th>\n",
       "      <td>8</td>\n",
       "      <td>5</td>\n",
       "      <td>29</td>\n",
       "      <td>3</td>\n",
       "      <td>3</td>\n",
       "      <td>83</td>\n",
       "      <td>1</td>\n",
       "      <td>15</td>\n",
       "      <td>7</td>\n",
       "      <td>4</td>\n",
       "      <td>29</td>\n",
       "      <td>addicted</td>\n",
       "    </tr>\n",
       "    <tr>\n",
       "      <th>9</th>\n",
       "      <td>9</td>\n",
       "      <td>0</td>\n",
       "      <td>22</td>\n",
       "      <td>2</td>\n",
       "      <td>0</td>\n",
       "      <td>51</td>\n",
       "      <td>0</td>\n",
       "      <td>32</td>\n",
       "      <td>6</td>\n",
       "      <td>5</td>\n",
       "      <td>28</td>\n",
       "      <td>not addicted</td>\n",
       "    </tr>\n",
       "  </tbody>\n",
       "</table>\n",
       "</div>"
      ],
      "text/plain": [
       "   Unnamed: 0  daily_screen_time  app_sessions  social_media_usage  \\\n",
       "0           0                  2            29                   0   \n",
       "1           1                  6            29                   1   \n",
       "2           2                  9            28                   2   \n",
       "3           3                  6            39                   2   \n",
       "4           4                  5            37                   3   \n",
       "5           5                  4            29                   0   \n",
       "6           6                  4            32                   0   \n",
       "7           7                  7            37                   4   \n",
       "8           8                  5            29                   3   \n",
       "9           9                  0            22                   2   \n",
       "\n",
       "   gaming_time  notifications  night_usage  age  work_study_hours  \\\n",
       "0            0             49            0   44                 5   \n",
       "1            2             65            1   29                 5   \n",
       "2            0             57            3   28                 7   \n",
       "3            0             69            1   28                 6   \n",
       "4            1             64            2   27                 4   \n",
       "5            0             59            1   42                 6   \n",
       "6            3             63            2   41                 2   \n",
       "7            1             63            1   21                 7   \n",
       "8            3             83            1   15                 7   \n",
       "9            0             51            0   32                 6   \n",
       "\n",
       "   stress_level  apps_installed      addicted  \n",
       "0             3              35  not addicted  \n",
       "1             9              21      addicted  \n",
       "2             5              39      addicted  \n",
       "3             8              24      addicted  \n",
       "4             5              26      addicted  \n",
       "5             5              22  not addicted  \n",
       "6             4              30      addicted  \n",
       "7             5              33      addicted  \n",
       "8             4              29      addicted  \n",
       "9             5              28  not addicted  "
      ]
     },
     "execution_count": 6,
     "metadata": {},
     "output_type": "execute_result"
    }
   ],
   "source": [
    "df.head(10)"
   ]
  },
  {
   "cell_type": "code",
   "execution_count": 7,
   "id": "2d47c782",
   "metadata": {},
   "outputs": [
    {
     "name": "stdout",
     "output_type": "stream",
     "text": [
      "<class 'pandas.core.frame.DataFrame'>\n",
      "RangeIndex: 13589 entries, 0 to 13588\n",
      "Data columns (total 12 columns):\n",
      " #   Column              Non-Null Count  Dtype \n",
      "---  ------              --------------  ----- \n",
      " 0   Unnamed: 0          13589 non-null  int64 \n",
      " 1   daily_screen_time   13589 non-null  int64 \n",
      " 2   app_sessions        13589 non-null  int64 \n",
      " 3   social_media_usage  13589 non-null  int64 \n",
      " 4   gaming_time         13589 non-null  int64 \n",
      " 5   notifications       13589 non-null  int64 \n",
      " 6   night_usage         13589 non-null  int64 \n",
      " 7   age                 13589 non-null  int64 \n",
      " 8   work_study_hours    13589 non-null  int64 \n",
      " 9   stress_level        13589 non-null  int64 \n",
      " 10  apps_installed      13589 non-null  int64 \n",
      " 11  addicted            13589 non-null  object\n",
      "dtypes: int64(11), object(1)\n",
      "memory usage: 1.2+ MB\n"
     ]
    }
   ],
   "source": [
    "df.info()"
   ]
  },
  {
   "cell_type": "code",
   "execution_count": 8,
   "id": "2ece2ffc",
   "metadata": {},
   "outputs": [],
   "source": [
    "df = df.drop(df.columns[0], axis=1) # remove id column "
   ]
  },
  {
   "cell_type": "code",
   "execution_count": 9,
   "id": "d1eb209d",
   "metadata": {},
   "outputs": [
    {
     "data": {
      "application/vnd.microsoft.datawrangler.viewer.v0+json": {
       "columns": [
        {
         "name": "index",
         "rawType": "object",
         "type": "string"
        },
        {
         "name": "daily_screen_time",
         "rawType": "float64",
         "type": "float"
        },
        {
         "name": "app_sessions",
         "rawType": "float64",
         "type": "float"
        },
        {
         "name": "social_media_usage",
         "rawType": "float64",
         "type": "float"
        },
        {
         "name": "gaming_time",
         "rawType": "float64",
         "type": "float"
        },
        {
         "name": "notifications",
         "rawType": "float64",
         "type": "float"
        },
        {
         "name": "night_usage",
         "rawType": "float64",
         "type": "float"
        },
        {
         "name": "age",
         "rawType": "float64",
         "type": "float"
        },
        {
         "name": "work_study_hours",
         "rawType": "float64",
         "type": "float"
        },
        {
         "name": "stress_level",
         "rawType": "float64",
         "type": "float"
        },
        {
         "name": "apps_installed",
         "rawType": "float64",
         "type": "float"
        }
       ],
       "conversionMethod": "pd.DataFrame",
       "ref": "5cd4f037-7484-4aa3-92ae-0c6b5b621397",
       "rows": [
        [
         "count",
         "13589.0",
         "13589.0",
         "13589.0",
         "13589.0",
         "13589.0",
         "13589.0",
         "13589.0",
         "13589.0",
         "13589.0",
         "13589.0"
        ],
        [
         "mean",
         "3.7681212745603063",
         "30.03760394436677",
         "1.5459562881742586",
         "1.0342188534844359",
         "60.01530649790271",
         "0.9902126720141291",
         "33.05570682169402",
         "5.978070498197071",
         "4.265288100669659",
         "27.532047979983812"
        ],
        [
         "std",
         "1.8972802943083302",
         "7.40658527759409",
         "1.2048300369227587",
         "0.9931724619058598",
         "12.732063743853221",
         "0.9466058188063075",
         "10.11814529151079",
         "2.071390427240905",
         "2.288453765239906",
         "5.894790045785469"
        ],
        [
         "min",
         "0.0",
         "8.0",
         "0.0",
         "0.0",
         "25.0",
         "0.0",
         "15.0",
         "0.0",
         "0.0",
         "10.0"
        ],
        [
         "25%",
         "2.0",
         "25.0",
         "1.0",
         "0.0",
         "50.0",
         "0.0",
         "25.0",
         "5.0",
         "3.0",
         "23.0"
        ],
        [
         "50%",
         "4.0",
         "30.0",
         "1.0",
         "1.0",
         "59.0",
         "1.0",
         "33.0",
         "6.0",
         "4.0",
         "27.0"
        ],
        [
         "75%",
         "5.0",
         "35.0",
         "2.0",
         "2.0",
         "70.0",
         "2.0",
         "41.0",
         "7.0",
         "6.0",
         "31.0"
        ],
        [
         "max",
         "12.0",
         "60.0",
         "7.0",
         "6.0",
         "103.0",
         "6.0",
         "55.0",
         "14.0",
         "10.0",
         "55.0"
        ]
       ],
       "shape": {
        "columns": 10,
        "rows": 8
       }
      },
      "text/html": [
       "<div>\n",
       "<style scoped>\n",
       "    .dataframe tbody tr th:only-of-type {\n",
       "        vertical-align: middle;\n",
       "    }\n",
       "\n",
       "    .dataframe tbody tr th {\n",
       "        vertical-align: top;\n",
       "    }\n",
       "\n",
       "    .dataframe thead th {\n",
       "        text-align: right;\n",
       "    }\n",
       "</style>\n",
       "<table border=\"1\" class=\"dataframe\">\n",
       "  <thead>\n",
       "    <tr style=\"text-align: right;\">\n",
       "      <th></th>\n",
       "      <th>daily_screen_time</th>\n",
       "      <th>app_sessions</th>\n",
       "      <th>social_media_usage</th>\n",
       "      <th>gaming_time</th>\n",
       "      <th>notifications</th>\n",
       "      <th>night_usage</th>\n",
       "      <th>age</th>\n",
       "      <th>work_study_hours</th>\n",
       "      <th>stress_level</th>\n",
       "      <th>apps_installed</th>\n",
       "    </tr>\n",
       "  </thead>\n",
       "  <tbody>\n",
       "    <tr>\n",
       "      <th>count</th>\n",
       "      <td>13589.000000</td>\n",
       "      <td>13589.000000</td>\n",
       "      <td>13589.000000</td>\n",
       "      <td>13589.000000</td>\n",
       "      <td>13589.000000</td>\n",
       "      <td>13589.000000</td>\n",
       "      <td>13589.000000</td>\n",
       "      <td>13589.00000</td>\n",
       "      <td>13589.000000</td>\n",
       "      <td>13589.000000</td>\n",
       "    </tr>\n",
       "    <tr>\n",
       "      <th>mean</th>\n",
       "      <td>3.768121</td>\n",
       "      <td>30.037604</td>\n",
       "      <td>1.545956</td>\n",
       "      <td>1.034219</td>\n",
       "      <td>60.015306</td>\n",
       "      <td>0.990213</td>\n",
       "      <td>33.055707</td>\n",
       "      <td>5.97807</td>\n",
       "      <td>4.265288</td>\n",
       "      <td>27.532048</td>\n",
       "    </tr>\n",
       "    <tr>\n",
       "      <th>std</th>\n",
       "      <td>1.897280</td>\n",
       "      <td>7.406585</td>\n",
       "      <td>1.204830</td>\n",
       "      <td>0.993172</td>\n",
       "      <td>12.732064</td>\n",
       "      <td>0.946606</td>\n",
       "      <td>10.118145</td>\n",
       "      <td>2.07139</td>\n",
       "      <td>2.288454</td>\n",
       "      <td>5.894790</td>\n",
       "    </tr>\n",
       "    <tr>\n",
       "      <th>min</th>\n",
       "      <td>0.000000</td>\n",
       "      <td>8.000000</td>\n",
       "      <td>0.000000</td>\n",
       "      <td>0.000000</td>\n",
       "      <td>25.000000</td>\n",
       "      <td>0.000000</td>\n",
       "      <td>15.000000</td>\n",
       "      <td>0.00000</td>\n",
       "      <td>0.000000</td>\n",
       "      <td>10.000000</td>\n",
       "    </tr>\n",
       "    <tr>\n",
       "      <th>25%</th>\n",
       "      <td>2.000000</td>\n",
       "      <td>25.000000</td>\n",
       "      <td>1.000000</td>\n",
       "      <td>0.000000</td>\n",
       "      <td>50.000000</td>\n",
       "      <td>0.000000</td>\n",
       "      <td>25.000000</td>\n",
       "      <td>5.00000</td>\n",
       "      <td>3.000000</td>\n",
       "      <td>23.000000</td>\n",
       "    </tr>\n",
       "    <tr>\n",
       "      <th>50%</th>\n",
       "      <td>4.000000</td>\n",
       "      <td>30.000000</td>\n",
       "      <td>1.000000</td>\n",
       "      <td>1.000000</td>\n",
       "      <td>59.000000</td>\n",
       "      <td>1.000000</td>\n",
       "      <td>33.000000</td>\n",
       "      <td>6.00000</td>\n",
       "      <td>4.000000</td>\n",
       "      <td>27.000000</td>\n",
       "    </tr>\n",
       "    <tr>\n",
       "      <th>75%</th>\n",
       "      <td>5.000000</td>\n",
       "      <td>35.000000</td>\n",
       "      <td>2.000000</td>\n",
       "      <td>2.000000</td>\n",
       "      <td>70.000000</td>\n",
       "      <td>2.000000</td>\n",
       "      <td>41.000000</td>\n",
       "      <td>7.00000</td>\n",
       "      <td>6.000000</td>\n",
       "      <td>31.000000</td>\n",
       "    </tr>\n",
       "    <tr>\n",
       "      <th>max</th>\n",
       "      <td>12.000000</td>\n",
       "      <td>60.000000</td>\n",
       "      <td>7.000000</td>\n",
       "      <td>6.000000</td>\n",
       "      <td>103.000000</td>\n",
       "      <td>6.000000</td>\n",
       "      <td>55.000000</td>\n",
       "      <td>14.00000</td>\n",
       "      <td>10.000000</td>\n",
       "      <td>55.000000</td>\n",
       "    </tr>\n",
       "  </tbody>\n",
       "</table>\n",
       "</div>"
      ],
      "text/plain": [
       "       daily_screen_time  app_sessions  social_media_usage   gaming_time  \\\n",
       "count       13589.000000  13589.000000        13589.000000  13589.000000   \n",
       "mean            3.768121     30.037604            1.545956      1.034219   \n",
       "std             1.897280      7.406585            1.204830      0.993172   \n",
       "min             0.000000      8.000000            0.000000      0.000000   \n",
       "25%             2.000000     25.000000            1.000000      0.000000   \n",
       "50%             4.000000     30.000000            1.000000      1.000000   \n",
       "75%             5.000000     35.000000            2.000000      2.000000   \n",
       "max            12.000000     60.000000            7.000000      6.000000   \n",
       "\n",
       "       notifications   night_usage           age  work_study_hours  \\\n",
       "count   13589.000000  13589.000000  13589.000000       13589.00000   \n",
       "mean       60.015306      0.990213     33.055707           5.97807   \n",
       "std        12.732064      0.946606     10.118145           2.07139   \n",
       "min        25.000000      0.000000     15.000000           0.00000   \n",
       "25%        50.000000      0.000000     25.000000           5.00000   \n",
       "50%        59.000000      1.000000     33.000000           6.00000   \n",
       "75%        70.000000      2.000000     41.000000           7.00000   \n",
       "max       103.000000      6.000000     55.000000          14.00000   \n",
       "\n",
       "       stress_level  apps_installed  \n",
       "count  13589.000000    13589.000000  \n",
       "mean       4.265288       27.532048  \n",
       "std        2.288454        5.894790  \n",
       "min        0.000000       10.000000  \n",
       "25%        3.000000       23.000000  \n",
       "50%        4.000000       27.000000  \n",
       "75%        6.000000       31.000000  \n",
       "max       10.000000       55.000000  "
      ]
     },
     "execution_count": 9,
     "metadata": {},
     "output_type": "execute_result"
    }
   ],
   "source": [
    "df.describe()"
   ]
  },
  {
   "cell_type": "code",
   "execution_count": 10,
   "id": "9102f5bc",
   "metadata": {},
   "outputs": [
    {
     "data": {
      "text/plain": [
       "daily_screen_time     0\n",
       "app_sessions          0\n",
       "social_media_usage    0\n",
       "gaming_time           0\n",
       "notifications         0\n",
       "night_usage           0\n",
       "age                   0\n",
       "work_study_hours      0\n",
       "stress_level          0\n",
       "apps_installed        0\n",
       "addicted              0\n",
       "dtype: int64"
      ]
     },
     "execution_count": 10,
     "metadata": {},
     "output_type": "execute_result"
    }
   ],
   "source": [
    "df.isnull().sum()"
   ]
  },
  {
   "cell_type": "markdown",
   "id": "05ac64c3",
   "metadata": {},
   "source": [
    "### Data Visualisation"
   ]
  },
  {
   "cell_type": "code",
   "execution_count": 11,
   "id": "3b54e55b",
   "metadata": {},
   "outputs": [
    {
     "data": {
      "application/vnd.jupyter.widget-view+json": {
       "model_id": "c758c32723684e8682f1824612e548df",
       "version_major": 2,
       "version_minor": 0
      },
      "text/plain": [
       "interactive(children=(Dropdown(description='Column:', options=('daily_screen_time', 'app_sessions', 'social_me…"
      ]
     },
     "metadata": {},
     "output_type": "display_data"
    },
    {
     "data": {
      "text/plain": [
       "<function __main__.update_plot(column)>"
      ]
     },
     "execution_count": 11,
     "metadata": {},
     "output_type": "execute_result"
    }
   ],
   "source": [
    "import ipywidgets as widgets\n",
    "from IPython.display import display\n",
    "dropdown = widgets.Dropdown(\n",
    "    options=df.columns,\n",
    "    description='Column:',\n",
    "    continuous_update=False\n",
    ")\n",
    "\n",
    "# Function to update the plot\n",
    "def update_plot(column):\n",
    "    fig = px.histogram(df, x=column, title=f'Count plot of {column}')\n",
    "    fig.update_layout(xaxis_title=column, yaxis_title='Count', bargap=0.1)\n",
    "    fig.show()\n",
    "\n",
    "# Bind the function to the dropdown\n",
    "widgets.interact(update_plot, column=dropdown)"
   ]
  },
  {
   "cell_type": "markdown",
   "id": "149d1339",
   "metadata": {},
   "source": [
    "# We can see most of the features are closly normally distributed. We can also see that the 2 classes (not addicted and addicted) are balanced.\n"
   ]
  },
  {
   "cell_type": "code",
   "execution_count": 12,
   "id": "6a6c07ef",
   "metadata": {},
   "outputs": [
    {
     "data": {
      "application/vnd.jupyter.widget-view+json": {
       "model_id": "e677299d6c3042be9a28eeb8201b6830",
       "version_major": 2,
       "version_minor": 0
      },
      "text/plain": [
       "interactive(children=(Dropdown(description='Feature:', options=('daily_screen_time', 'app_sessions', 'social_m…"
      ]
     },
     "metadata": {},
     "output_type": "display_data"
    },
    {
     "data": {
      "text/plain": [
       "<function __main__.update_plot(feature)>"
      ]
     },
     "execution_count": 12,
     "metadata": {},
     "output_type": "execute_result"
    }
   ],
   "source": [
    "pred = 'addicted'  \n",
    "\n",
    "options = [col for col in df.columns if col != pred]\n",
    "\n",
    "\n",
    "dropdown = widgets.Dropdown(\n",
    "    options=options,\n",
    "    description='Feature:',\n",
    "    continuous_update=False\n",
    ")\n",
    "\n",
    "def update_plot(feature):\n",
    "    if df[feature].dtype == 'object' or df[feature].nunique() < 10:\n",
    "        fig = px.histogram(df, x=feature, color=pred, barmode='group',\n",
    "                           title=f'{feature} vs {pred}')\n",
    "    else:\n",
    "        fig = px.box(df, x=pred, y=feature, points='all',\n",
    "                     title=f'{feature} distribution by {pred}')\n",
    "\n",
    "    fig.update_layout(xaxis_title=feature, yaxis_title='Count' if df[feature].dtype == 'object' else feature)\n",
    "    fig.show()\n",
    "\n",
    "# Show interactive widget\n",
    "widgets.interact(update_plot, feature=dropdown)"
   ]
  },
  {
   "cell_type": "markdown",
   "id": "7d99bd95",
   "metadata": {},
   "source": [
    "### We can see that mostly bad habits like late night usage and screen time are weighted towards the addicted people. We can also see that the age feature and the work study feature is inversely correlated with the addiction."
   ]
  },
  {
   "cell_type": "code",
   "execution_count": 13,
   "id": "f76d07ba",
   "metadata": {},
   "outputs": [
    {
     "data": {
      "text/html": [
       "\n",
       "        <iframe\n",
       "            width=\"100%\"\n",
       "            height=\"650\"\n",
       "            src=\"http://127.0.0.1:8050/\"\n",
       "            frameborder=\"0\"\n",
       "            allowfullscreen\n",
       "            \n",
       "        ></iframe>\n",
       "        "
      ],
      "text/plain": [
       "<IPython.lib.display.IFrame at 0x18614115210>"
      ]
     },
     "metadata": {},
     "output_type": "display_data"
    }
   ],
   "source": [
    "import dash\n",
    "from dash import dcc, html\n",
    "\n",
    "app = dash.Dash(__name__)\n",
    "\n",
    "\n",
    "app.layout = html.Div([\n",
    "    html.H1(\"Addiction Classification Dashboard\"),\n",
    "    \n",
    "    dcc.Graph(\n",
    "        id='hist-age',\n",
    "        figure=px.histogram(df, x='age', color='addicted', barmode='overlay', title='Age Distribution')\n",
    "    )\n",
    "])\n",
    "\n",
    "if __name__ == '__main__':\n",
    "    app.run_server(debug=True)\n"
   ]
  },
  {
   "cell_type": "code",
   "execution_count": 14,
   "id": "52def132",
   "metadata": {},
   "outputs": [
    {
     "data": {
      "image/png": "[encoded data removed]",
      "text/plain": [
       "<Figure size 800x600 with 2 Axes>"
      ]
     },
     "metadata": {},
     "output_type": "display_data"
    }
   ],
   "source": [
    "numerical_df = df.select_dtypes(include='number')\n",
    "corr = numerical_df = df.select_dtypes(include='number').corr()\n",
    "\n",
    "plt.figure(figsize=(8,6))\n",
    "sns.heatmap(corr, annot=True, cmap=\"coolwarm\", fmt=\".2f\", linewidths=0.5)\n",
    "plt.title(\"Correlation Heatmap\")\n",
    "plt.show()"
   ]
  },
  {
   "cell_type": "code",
   "execution_count": 15,
   "id": "bd021837",
   "metadata": {},
   "outputs": [
    {
     "data": {
      "application/vnd.plotly.v1+json": {
       "config": {
        "plotlyServerURL": "https://plot.ly"
       },
       "data": [
        {
         "alignmentgroup": "True",
         "hovertemplate": "feature=%{x}<br>VIF=%{text}<extra></extra>",
         "legendgroup": "",
         "marker": {
          "color": "#636efa",
          "pattern": {
           "shape": ""
          }
         },
         "name": "",
         "offsetgroup": "",
         "orientation": "v",
         "showlegend": false,
         "text": [
          1.7975607947481103,
          1.5244638167439437,
          1.2918158939729787,
          1.1666921665948178,
          1.142742135824756,
          1.1337088621464702,
          1.1333581514428974,
          1.1224481709718552,
          1.1128871786202483,
          1.0507177325015529
         ],
         "textposition": "outside",
         "texttemplate": "%{text:.2f}",
         "type": "bar",
         "x": [
          "notifications",
          "app_sessions",
          "stress_level",
          "apps_installed",
          "social_media_usage",
          "daily_screen_time",
          "night_usage",
          "age",
          "gaming_time",
          "work_study_hours"
         ],
         "xaxis": "x",
         "y": [
          1.7975607947481103,
          1.5244638167439437,
          1.2918158939729787,
          1.1666921665948178,
          1.142742135824756,
          1.1337088621464702,
          1.1333581514428974,
          1.1224481709718552,
          1.1128871786202483,
          1.0507177325015529
         ],
         "yaxis": "y"
        }
       ],
       "layout": {
        "barmode": "relative",
        "legend": {
         "tracegroupgap": 0
        },
        "template": {
         "data": {
          "bar": [
           {
            "error_x": {
             "color": "#2a3f5f"
            },
            "error_y": {
             "color": "#2a3f5f"
            },
            "marker": {
             "line": {
              "color": "#E5ECF6",
              "width": 0.5
             },
             "pattern": {
              "fillmode": "overlay",
              "size": 10,
              "solidity": 0.2
             }
            },
            "type": "bar"
           }
          ],
          "barpolar": [
           {
            "marker": {
             "line": {
              "color": "#E5ECF6",
              "width": 0.5
             },
             "pattern": {
              "fillmode": "overlay",
              "size": 10,
              "solidity": 0.2
             }
            },
            "type": "barpolar"
           }
          ],
          "carpet": [
           {
            "aaxis": {
             "endlinecolor": "#2a3f5f",
             "gridcolor": "white",
             "linecolor": "white",
             "minorgridcolor": "white",
             "startlinecolor": "#2a3f5f"
            },
            "baxis": {
             "endlinecolor": "#2a3f5f",
             "gridcolor": "white",
             "linecolor": "white",
             "minorgridcolor": "white",
             "startlinecolor": "#2a3f5f"
            },
            "type": "carpet"
           }
          ],
          "choropleth": [
           {
            "colorbar": {
             "outlinewidth": 0,
             "ticks": ""
            },
            "type": "choropleth"
           }
          ],
          "contour": [
           {
            "colorbar": {
             "outlinewidth": 0,
             "ticks": ""
            },
            "colorscale": [
             [
              0,
              "#0d0887"
             ],
             [
              0.1111111111111111,
              "#46039f"
             ],
             [
              0.2222222222222222,
              "#7201a8"
             ],
             [
              0.3333333333333333,
              "#9c179e"
             ],
             [
              0.4444444444444444,
              "#bd3786"
             ],
             [
              0.5555555555555556,
              "#d8576b"
             ],
             [
              0.6666666666666666,
              "#ed7953"
             ],
             [
              0.7777777777777778,
              "#fb9f3a"
             ],
             [
              0.8888888888888888,
              "#fdca26"
             ],
             [
              1,
              "#f0f921"
             ]
            ],
            "type": "contour"
           }
          ],
          "contourcarpet": [
           {
            "colorbar": {
             "outlinewidth": 0,
             "ticks": ""
            },
            "type": "contourcarpet"
           }
          ],
          "heatmap": [
           {
            "colorbar": {
             "outlinewidth": 0,
             "ticks": ""
            },
            "colorscale": [
             [
              0,
              "#0d0887"
             ],
             [
              0.1111111111111111,
              "#46039f"
             ],
             [
              0.2222222222222222,
              "#7201a8"
             ],
             [
              0.3333333333333333,
              "#9c179e"
             ],
             [
              0.4444444444444444,
              "#bd3786"
             ],
             [
              0.5555555555555556,
              "#d8576b"
             ],
             [
              0.6666666666666666,
              "#ed7953"
             ],
             [
              0.7777777777777778,
              "#fb9f3a"
             ],
             [
              0.8888888888888888,
              "#fdca26"
             ],
             [
              1,
              "#f0f921"
             ]
            ],
            "type": "heatmap"
           }
          ],
          "heatmapgl": [
           {
            "colorbar": {
             "outlinewidth": 0,
             "ticks": ""
            },
            "colorscale": [
             [
              0,
              "#0d0887"
             ],
             [
              0.1111111111111111,
              "#46039f"
             ],
             [
              0.2222222222222222,
              "#7201a8"
             ],
             [
              0.3333333333333333,
              "#9c179e"
             ],
             [
              0.4444444444444444,
              "#bd3786"
             ],
             [
              0.5555555555555556,
              "#d8576b"
             ],
             [
              0.6666666666666666,
              "#ed7953"
             ],
             [
              0.7777777777777778,
              "#fb9f3a"
             ],
             [
              0.8888888888888888,
              "#fdca26"
             ],
             [
              1,
              "#f0f921"
             ]
            ],
            "type": "heatmapgl"
           }
          ],
          "histogram": [
           {
            "marker": {
             "pattern": {
              "fillmode": "overlay",
              "size": 10,
              "solidity": 0.2
             }
            },
            "type": "histogram"
           }
          ],
          "histogram2d": [
           {
            "colorbar": {
             "outlinewidth": 0,
             "ticks": ""
            },
            "colorscale": [
             [
              0,
              "#0d0887"
             ],
             [
              0.1111111111111111,
              "#46039f"
             ],
             [
              0.2222222222222222,
              "#7201a8"
             ],
             [
              0.3333333333333333,
              "#9c179e"
             ],
             [
              0.4444444444444444,
              "#bd3786"
             ],
             [
              0.5555555555555556,
              "#d8576b"
             ],
             [
              0.6666666666666666,
              "#ed7953"
             ],
             [
              0.7777777777777778,
              "#fb9f3a"
             ],
             [
              0.8888888888888888,
              "#fdca26"
             ],
             [
              1,
              "#f0f921"
             ]
            ],
            "type": "histogram2d"
           }
          ],
          "histogram2dcontour": [
           {
            "colorbar": {
             "outlinewidth": 0,
             "ticks": ""
            },
            "colorscale": [
             [
              0,
              "#0d0887"
             ],
             [
              0.1111111111111111,
              "#46039f"
             ],
             [
              0.2222222222222222,
              "#7201a8"
             ],
             [
              0.3333333333333333,
              "#9c179e"
             ],
             [
              0.4444444444444444,
              "#bd3786"
             ],
             [
              0.5555555555555556,
              "#d8576b"
             ],
             [
              0.6666666666666666,
              "#ed7953"
             ],
             [
              0.7777777777777778,
              "#fb9f3a"
             ],
             [
              0.8888888888888888,
              "#fdca26"
             ],
             [
              1,
              "#f0f921"
             ]
            ],
            "type": "histogram2dcontour"
           }
          ],
          "mesh3d": [
           {
            "colorbar": {
             "outlinewidth": 0,
             "ticks": ""
            },
            "type": "mesh3d"
           }
          ],
          "parcoords": [
           {
            "line": {
             "colorbar": {
              "outlinewidth": 0,
              "ticks": ""
             }
            },
            "type": "parcoords"
           }
          ],
          "pie": [
           {
            "automargin": true,
            "type": "pie"
           }
          ],
          "scatter": [
           {
            "fillpattern": {
             "fillmode": "overlay",
             "size": 10,
             "solidity": 0.2
            },
            "type": "scatter"
           }
          ],
          "scatter3d": [
           {
            "line": {
             "colorbar": {
              "outlinewidth": 0,
              "ticks": ""
             }
            },
            "marker": {
             "colorbar": {
              "outlinewidth": 0,
              "ticks": ""
             }
            },
            "type": "scatter3d"
           }
          ],
          "scattercarpet": [
           {
            "marker": {
             "colorbar": {
              "outlinewidth": 0,
              "ticks": ""
             }
            },
            "type": "scattercarpet"
           }
          ],
          "scattergeo": [
           {
            "marker": {
             "colorbar": {
              "outlinewidth": 0,
              "ticks": ""
             }
            },
            "type": "scattergeo"
           }
          ],
          "scattergl": [
           {
            "marker": {
             "colorbar": {
              "outlinewidth": 0,
              "ticks": ""
             }
            },
            "type": "scattergl"
           }
          ],
          "scattermapbox": [
           {
            "marker": {
             "colorbar": {
              "outlinewidth": 0,
              "ticks": ""
             }
            },
            "type": "scattermapbox"
           }
          ],
          "scatterpolar": [
           {
            "marker": {
             "colorbar": {
              "outlinewidth": 0,
              "ticks": ""
             }
            },
            "type": "scatterpolar"
           }
          ],
          "scatterpolargl": [
           {
            "marker": {
             "colorbar": {
              "outlinewidth": 0,
              "ticks": ""
             }
            },
            "type": "scatterpolargl"
           }
          ],
          "scatterternary": [
           {
            "marker": {
             "colorbar": {
              "outlinewidth": 0,
              "ticks": ""
             }
            },
            "type": "scatterternary"
           }
          ],
          "surface": [
           {
            "colorbar": {
             "outlinewidth": 0,
             "ticks": ""
            },
            "colorscale": [
             [
              0,
              "#0d0887"
             ],
             [
              0.1111111111111111,
              "#46039f"
             ],
             [
              0.2222222222222222,
              "#7201a8"
             ],
             [
              0.3333333333333333,
              "#9c179e"
             ],
             [
              0.4444444444444444,
              "#bd3786"
             ],
             [
              0.5555555555555556,
              "#d8576b"
             ],
             [
              0.6666666666666666,
              "#ed7953"
             ],
             [
              0.7777777777777778,
              "#fb9f3a"
             ],
             [
              0.8888888888888888,
              "#fdca26"
             ],
             [
              1,
              "#f0f921"
             ]
            ],
            "type": "surface"
           }
          ],
          "table": [
           {
            "cells": {
             "fill": {
              "color": "#EBF0F8"
             },
             "line": {
              "color": "white"
             }
            },
            "header": {
             "fill": {
              "color": "#C8D4E3"
             },
             "line": {
              "color": "white"
             }
            },
            "type": "table"
           }
          ]
         },
         "layout": {
          "annotationdefaults": {
           "arrowcolor": "#2a3f5f",
           "arrowhead": 0,
           "arrowwidth": 1
          },
          "autotypenumbers": "strict",
          "coloraxis": {
           "colorbar": {
            "outlinewidth": 0,
            "ticks": ""
           }
          },
          "colorscale": {
           "diverging": [
            [
             0,
             "#8e0152"
            ],
            [
             0.1,
             "#c51b7d"
            ],
            [
             0.2,
             "#de77ae"
            ],
            [
             0.3,
             "#f1b6da"
            ],
            [
             0.4,
             "#fde0ef"
            ],
            [
             0.5,
             "#f7f7f7"
            ],
            [
             0.6,
             "#e6f5d0"
            ],
            [
             0.7,
             "#b8e186"
            ],
            [
             0.8,
             "#7fbc41"
            ],
            [
             0.9,
             "#4d9221"
            ],
            [
             1,
             "#276419"
            ]
           ],
           "sequential": [
            [
             0,
             "#0d0887"
            ],
            [
             0.1111111111111111,
             "#46039f"
            ],
            [
             0.2222222222222222,
             "#7201a8"
            ],
            [
             0.3333333333333333,
             "#9c179e"
            ],
            [
             0.4444444444444444,
             "#bd3786"
            ],
            [
             0.5555555555555556,
             "#d8576b"
            ],
            [
             0.6666666666666666,
             "#ed7953"
            ],
            [
             0.7777777777777778,
             "#fb9f3a"
            ],
            [
             0.8888888888888888,
             "#fdca26"
            ],
            [
             1,
             "#f0f921"
            ]
           ],
           "sequentialminus": [
            [
             0,
             "#0d0887"
            ],
            [
             0.1111111111111111,
             "#46039f"
            ],
            [
             0.2222222222222222,
             "#7201a8"
            ],
            [
             0.3333333333333333,
             "#9c179e"
            ],
            [
             0.4444444444444444,
             "#bd3786"
            ],
            [
             0.5555555555555556,
             "#d8576b"
            ],
            [
             0.6666666666666666,
             "#ed7953"
            ],
            [
             0.7777777777777778,
             "#fb9f3a"
            ],
            [
             0.8888888888888888,
             "#fdca26"
            ],
            [
             1,
             "#f0f921"
            ]
           ]
          },
          "colorway": [
           "#636efa",
           "#EF553B",
           "#00cc96",
           "#ab63fa",
           "#FFA15A",
           "#19d3f3",
           "#FF6692",
           "#B6E880",
           "#FF97FF",
           "#FECB52"
          ],
          "font": {
           "color": "#2a3f5f"
          },
          "geo": {
           "bgcolor": "white",
           "lakecolor": "white",
           "landcolor": "#E5ECF6",
           "showlakes": true,
           "showland": true,
           "subunitcolor": "white"
          },
          "hoverlabel": {
           "align": "left"
          },
          "hovermode": "closest",
          "mapbox": {
           "style": "light"
          },
          "paper_bgcolor": "white",
          "plot_bgcolor": "#E5ECF6",
          "polar": {
           "angularaxis": {
            "gridcolor": "white",
            "linecolor": "white",
            "ticks": ""
           },
           "bgcolor": "#E5ECF6",
           "radialaxis": {
            "gridcolor": "white",
            "linecolor": "white",
            "ticks": ""
           }
          },
          "scene": {
           "xaxis": {
            "backgroundcolor": "#E5ECF6",
            "gridcolor": "white",
            "gridwidth": 2,
            "linecolor": "white",
            "showbackground": true,
            "ticks": "",
            "zerolinecolor": "white"
           },
           "yaxis": {
            "backgroundcolor": "#E5ECF6",
            "gridcolor": "white",
            "gridwidth": 2,
            "linecolor": "white",
            "showbackground": true,
            "ticks": "",
            "zerolinecolor": "white"
           },
           "zaxis": {
            "backgroundcolor": "#E5ECF6",
            "gridcolor": "white",
            "gridwidth": 2,
            "linecolor": "white",
            "showbackground": true,
            "ticks": "",
            "zerolinecolor": "white"
           }
          },
          "shapedefaults": {
           "line": {
            "color": "#2a3f5f"
           }
          },
          "ternary": {
           "aaxis": {
            "gridcolor": "white",
            "linecolor": "white",
            "ticks": ""
           },
           "baxis": {
            "gridcolor": "white",
            "linecolor": "white",
            "ticks": ""
           },
           "bgcolor": "#E5ECF6",
           "caxis": {
            "gridcolor": "white",
            "linecolor": "white",
            "ticks": ""
           }
          },
          "title": {
           "x": 0.05
          },
          "xaxis": {
           "automargin": true,
           "gridcolor": "white",
           "linecolor": "white",
           "ticks": "",
           "title": {
            "standoff": 15
           },
           "zerolinecolor": "white",
           "zerolinewidth": 2
          },
          "yaxis": {
           "automargin": true,
           "gridcolor": "white",
           "linecolor": "white",
           "ticks": "",
           "title": {
            "standoff": 15
           },
           "zerolinecolor": "white",
           "zerolinewidth": 2
          }
         }
        },
        "title": {
         "text": "Variance Inflation Factor (VIF) per Feature"
        },
        "xaxis": {
         "anchor": "y",
         "domain": [
          0,
          1
         ],
         "tickangle": 45,
         "title": {
          "text": "Feature"
         }
        },
        "yaxis": {
         "anchor": "x",
         "domain": [
          0,
          1
         ],
         "title": {
          "text": "VIF Value"
         }
        }
       }
      }
     },
     "metadata": {},
     "output_type": "display_data"
    }
   ],
   "source": [
    "from statsmodels.stats.outliers_influence import variance_inflation_factor\n",
    "from statsmodels.tools.tools import add_constant\n",
    "\n",
    "# Drop the target column\n",
    "dfcopy = df.drop('addicted', axis=1)\n",
    "\n",
    "# Add constant\n",
    "df_with_const = add_constant(dfcopy)\n",
    "\n",
    "# Calculate VIF\n",
    "vif_data = pd.DataFrame()\n",
    "vif_data['feature'] = df_with_const.columns\n",
    "vif_data['VIF'] = [variance_inflation_factor(df_with_const.values, i) for i in range(df_with_const.shape[1])]\n",
    "# Remove the constant column\n",
    "vif_data = vif_data[vif_data['feature'] != 'const']\n",
    "# Bar chart for VIF values\n",
    "fig = px.bar(vif_data.sort_values('VIF', ascending=False), \n",
    "             x='feature', y='VIF', \n",
    "             title='Variance Inflation Factor (VIF) per Feature',\n",
    "             text='VIF')\n",
    "fig.update_traces(texttemplate='%{text:.2f}', textposition='outside')\n",
    "fig.update_layout(xaxis_tickangle=45, yaxis_title='VIF Value', xaxis_title='Feature')\n",
    "fig.show()"
   ]
  },
  {
   "cell_type": "markdown",
   "id": "6ef052d3",
   "metadata": {},
   "source": [
    "few features and low corrineality, no PCA is needed.\n",
    "1<VIF<5 ---> low to moderate corrineality "
   ]
  },
  {
   "cell_type": "code",
   "execution_count": 16,
   "id": "1c57d1b6",
   "metadata": {},
   "outputs": [
    {
     "data": {
      "application/vnd.jupyter.widget-view+json": {
       "model_id": "1e3185206cc049cf988f5170aa6930f1",
       "version_major": 2,
       "version_minor": 0
      },
      "text/plain": [
       "interactive(children=(Dropdown(description='Column:', options=('daily_screen_time', 'app_sessions', 'social_me…"
      ]
     },
     "metadata": {},
     "output_type": "display_data"
    },
    {
     "data": {
      "text/plain": [
       "<function __main__.update_boxplot(column)>"
      ]
     },
     "execution_count": 16,
     "metadata": {},
     "output_type": "execute_result"
    }
   ],
   "source": [
    "numeric_cols = df.select_dtypes(include=['number']).columns\n",
    "dropdown = widgets.Dropdown(\n",
    "    options=numeric_cols,\n",
    "    description='Column:',\n",
    "    continuous_update=False\n",
    ")\n",
    "def update_boxplot(column):\n",
    "    fig = px.box(df, x=column, title=f'Box plot for {column}')\n",
    "    fig.update_layout(yaxis_title=column)\n",
    "    fig.show()\n",
    "\n",
    "widgets.interact(update_boxplot, column=dropdown)"
   ]
  },
  {
   "cell_type": "markdown",
   "id": "9ceeeb76",
   "metadata": {},
   "source": [
    "Only a few outlier points but we currently choose not to remove them as they are meaningful outliers"
   ]
  },
  {
   "cell_type": "code",
   "execution_count": 17,
   "id": "757957d6",
   "metadata": {},
   "outputs": [
    {
     "name": "stdout",
     "output_type": "stream",
     "text": [
      "Unique values after cleaning:\n",
      "['not addicted' 'addicted']\n"
     ]
    }
   ],
   "source": [
    "# 1. Force everything to string\n",
    "df['addicted'] = df['addicted'].astype(str).str.strip().str.lower()\n",
    "\n",
    "# 2. Show ALL unique values\n",
    "print(\"Unique values after cleaning:\")\n",
    "print(df['addicted'].unique())\n"
   ]
  },
  {
   "cell_type": "code",
   "execution_count": 18,
   "id": "5a48bb81",
   "metadata": {},
   "outputs": [
    {
     "data": {
      "application/vnd.microsoft.datawrangler.viewer.v0+json": {
       "columns": [
        {
         "name": "index",
         "rawType": "int64",
         "type": "integer"
        },
        {
         "name": "daily_screen_time",
         "rawType": "int64",
         "type": "integer"
        },
        {
         "name": "app_sessions",
         "rawType": "int64",
         "type": "integer"
        },
        {
         "name": "social_media_usage",
         "rawType": "int64",
         "type": "integer"
        },
        {
         "name": "gaming_time",
         "rawType": "int64",
         "type": "integer"
        },
        {
         "name": "notifications",
         "rawType": "int64",
         "type": "integer"
        },
        {
         "name": "night_usage",
         "rawType": "int64",
         "type": "integer"
        },
        {
         "name": "age",
         "rawType": "int64",
         "type": "integer"
        },
        {
         "name": "work_study_hours",
         "rawType": "int64",
         "type": "integer"
        },
        {
         "name": "stress_level",
         "rawType": "int64",
         "type": "integer"
        },
        {
         "name": "apps_installed",
         "rawType": "int64",
         "type": "integer"
        },
        {
         "name": "addicted",
         "rawType": "int64",
         "type": "integer"
        }
       ],
       "conversionMethod": "pd.DataFrame",
       "ref": "fe470897-2dc5-4444-9a29-2f68095c206f",
       "rows": [
        [
         "0",
         "2",
         "29",
         "0",
         "0",
         "49",
         "0",
         "44",
         "5",
         "3",
         "35",
         "1"
        ],
        [
         "1",
         "6",
         "29",
         "1",
         "2",
         "65",
         "1",
         "29",
         "5",
         "9",
         "21",
         "0"
        ],
        [
         "2",
         "9",
         "28",
         "2",
         "0",
         "57",
         "3",
         "28",
         "7",
         "5",
         "39",
         "0"
        ],
        [
         "3",
         "6",
         "39",
         "2",
         "0",
         "69",
         "1",
         "28",
         "6",
         "8",
         "24",
         "0"
        ],
        [
         "4",
         "5",
         "37",
         "3",
         "1",
         "64",
         "2",
         "27",
         "4",
         "5",
         "26",
         "0"
        ]
       ],
       "shape": {
        "columns": 11,
        "rows": 5
       }
      },
      "text/html": [
       "<div>\n",
       "<style scoped>\n",
       "    .dataframe tbody tr th:only-of-type {\n",
       "        vertical-align: middle;\n",
       "    }\n",
       "\n",
       "    .dataframe tbody tr th {\n",
       "        vertical-align: top;\n",
       "    }\n",
       "\n",
       "    .dataframe thead th {\n",
       "        text-align: right;\n",
       "    }\n",
       "</style>\n",
       "<table border=\"1\" class=\"dataframe\">\n",
       "  <thead>\n",
       "    <tr style=\"text-align: right;\">\n",
       "      <th></th>\n",
       "      <th>daily_screen_time</th>\n",
       "      <th>app_sessions</th>\n",
       "      <th>social_media_usage</th>\n",
       "      <th>gaming_time</th>\n",
       "      <th>notifications</th>\n",
       "      <th>night_usage</th>\n",
       "      <th>age</th>\n",
       "      <th>work_study_hours</th>\n",
       "      <th>stress_level</th>\n",
       "      <th>apps_installed</th>\n",
       "      <th>addicted</th>\n",
       "    </tr>\n",
       "  </thead>\n",
       "  <tbody>\n",
       "    <tr>\n",
       "      <th>0</th>\n",
       "      <td>2</td>\n",
       "      <td>29</td>\n",
       "      <td>0</td>\n",
       "      <td>0</td>\n",
       "      <td>49</td>\n",
       "      <td>0</td>\n",
       "      <td>44</td>\n",
       "      <td>5</td>\n",
       "      <td>3</td>\n",
       "      <td>35</td>\n",
       "      <td>1</td>\n",
       "    </tr>\n",
       "    <tr>\n",
       "      <th>1</th>\n",
       "      <td>6</td>\n",
       "      <td>29</td>\n",
       "      <td>1</td>\n",
       "      <td>2</td>\n",
       "      <td>65</td>\n",
       "      <td>1</td>\n",
       "      <td>29</td>\n",
       "      <td>5</td>\n",
       "      <td>9</td>\n",
       "      <td>21</td>\n",
       "      <td>0</td>\n",
       "    </tr>\n",
       "    <tr>\n",
       "      <th>2</th>\n",
       "      <td>9</td>\n",
       "      <td>28</td>\n",
       "      <td>2</td>\n",
       "      <td>0</td>\n",
       "      <td>57</td>\n",
       "      <td>3</td>\n",
       "      <td>28</td>\n",
       "      <td>7</td>\n",
       "      <td>5</td>\n",
       "      <td>39</td>\n",
       "      <td>0</td>\n",
       "    </tr>\n",
       "    <tr>\n",
       "      <th>3</th>\n",
       "      <td>6</td>\n",
       "      <td>39</td>\n",
       "      <td>2</td>\n",
       "      <td>0</td>\n",
       "      <td>69</td>\n",
       "      <td>1</td>\n",
       "      <td>28</td>\n",
       "      <td>6</td>\n",
       "      <td>8</td>\n",
       "      <td>24</td>\n",
       "      <td>0</td>\n",
       "    </tr>\n",
       "    <tr>\n",
       "      <th>4</th>\n",
       "      <td>5</td>\n",
       "      <td>37</td>\n",
       "      <td>3</td>\n",
       "      <td>1</td>\n",
       "      <td>64</td>\n",
       "      <td>2</td>\n",
       "      <td>27</td>\n",
       "      <td>4</td>\n",
       "      <td>5</td>\n",
       "      <td>26</td>\n",
       "      <td>0</td>\n",
       "    </tr>\n",
       "  </tbody>\n",
       "</table>\n",
       "</div>"
      ],
      "text/plain": [
       "   daily_screen_time  app_sessions  social_media_usage  gaming_time  \\\n",
       "0                  2            29                   0            0   \n",
       "1                  6            29                   1            2   \n",
       "2                  9            28                   2            0   \n",
       "3                  6            39                   2            0   \n",
       "4                  5            37                   3            1   \n",
       "\n",
       "   notifications  night_usage  age  work_study_hours  stress_level  \\\n",
       "0             49            0   44                 5             3   \n",
       "1             65            1   29                 5             9   \n",
       "2             57            3   28                 7             5   \n",
       "3             69            1   28                 6             8   \n",
       "4             64            2   27                 4             5   \n",
       "\n",
       "   apps_installed  addicted  \n",
       "0              35         1  \n",
       "1              21         0  \n",
       "2              39         0  \n",
       "3              24         0  \n",
       "4              26         0  "
      ]
     },
     "execution_count": 18,
     "metadata": {},
     "output_type": "execute_result"
    }
   ],
   "source": [
    "df['addicted'] = df['addicted'].map({'addicted': 0, 'not addicted': 1})\n",
    "df.head()"
   ]
  },
  {
   "cell_type": "markdown",
   "id": "388d474a",
   "metadata": {},
   "source": [
    "# Manual "
   ]
  },
  {
   "cell_type": "code",
   "execution_count": 19,
   "id": "16a4d783",
   "metadata": {},
   "outputs": [],
   "source": [
    "df_man = df.copy()\n",
    "\n",
    "# Separate features\n",
    "man_cols = df.drop(\"addicted\", axis=1)\n",
    "\n",
    "# Compute sample mean and std\n",
    "mean = np.mean(man_cols, axis=0)\n",
    "std = np.std(man_cols, axis=0, ddof=1)\n",
    "\n",
    "# Standardize manually\n",
    "df_man_std = (man_cols - mean) / std\n",
    "\n",
    "# Add back target\n",
    "df_man_std[\"addicted\"] = df[\"addicted\"]\n",
    "\n",
    "# Final standardized DataFrame\n",
    "df_man = df_man_std.copy()\n"
   ]
  },
  {
   "cell_type": "code",
   "execution_count": 20,
   "id": "b051d60f",
   "metadata": {},
   "outputs": [],
   "source": [
    "class LogRegression:\n",
    "    def __init__(self, lr=0.01, n_iters=1000):\n",
    "        self.lr = lr                  # learning rate\n",
    "        self.n_iters = n_iters        # number of iterations\n",
    "        self.weights = None           # weight vector\n",
    "        self.bias = None              # bias term\n",
    "\n",
    "    def sigmoid(self, z):\n",
    "        # Sigmoid activation function\n",
    "        return 1 / (1 + np.exp(-z))\n",
    "\n",
    "    def fit(self, X, y):\n",
    "        n_samples, n_features = X.shape\n",
    "        self.weights = np.zeros(n_features)  # initialize weights\n",
    "        self.bias = 0                        # initialize bias\n",
    "\n",
    "        # Gradient descent\n",
    "        for _ in range(self.n_iters):\n",
    "            linear_model = np.dot(X, self.weights) + self.bias\n",
    "            y_predicted = self.sigmoid(linear_model)\n",
    "\n",
    "            # Gradients\n",
    "            dw = (1 / n_samples) * np.dot(X.T, (y_predicted - y))\n",
    "            db = (1 / n_samples) * np.sum(y_predicted - y)\n",
    "\n",
    "            # Update weights\n",
    "            self.weights -= self.lr * dw\n",
    "            self.bias -= self.lr * db\n",
    "\n",
    "    def predict_proba(self, X):\n",
    "        # Predict probabilities\n",
    "        linear_model = np.dot(X, self.weights) + self.bias\n",
    "        return self.sigmoid(linear_model)\n",
    "\n",
    "    def predict(self, X):\n",
    "        # Classify based on 0.5 threshold\n",
    "        proba = self.predict_proba(X)\n",
    "        return np.where(proba >= 0.5, 1, 0)\n",
    "    def accuracy(y_true, y_pred):\n",
    "        return np.sum(y_true == y_pred) / len(y_true)\n",
    "    def precision(y_true, y_pred):\n",
    "        true_positive = np.sum((y_pred == 1) & (y_true == 1))\n",
    "        predicted_positive = np.sum(y_pred == 1)\n",
    "        return true_positive / predicted_positive if predicted_positive > 0 else 0\n",
    "\n",
    "    def recall(y_true, y_pred):\n",
    "        true_positive = np.sum((y_pred == 1) & (y_true == 1))\n",
    "        actual_positive = np.sum(y_true == 1)\n",
    "        return true_positive / actual_positive if actual_positive > 0 else 0\n",
    "\n",
    "    def f1_score(y_true, y_pred):\n",
    "        precision = LogRegression.precision(y_true, y_pred)\n",
    "        recall = LogRegression.recall(y_true, y_pred)\n",
    "        if precision + recall == 0:\n",
    "            return 0\n",
    "        return 2 * (precision * recall) / (precision + recall)\n"
   ]
  },
  {
   "cell_type": "code",
   "execution_count": null,
   "id": "f7af48b3",
   "metadata": {},
   "outputs": [],
   "source": [
    "from collections import Counter\n",
    "\n",
    "class KNN:\n",
    "    def __init__(self, k=3):\n",
    "        self.k = k  # number of neighbors\n",
    "\n",
    "    def fit(self, X, y):\n",
    "        self.X_train = X\n",
    "        self.y_train = np.array(y)  # Ensure numeric indexing works\n",
    "\n",
    "\n",
    "    def euclidean_distance(self, x1, x2):\n",
    "        return np.sqrt(np.sum((x1 - x2) ** 2))\n",
    "\n",
    "    def predict(self, X):\n",
    "        predictions = []\n",
    "\n",
    "        for x in X:\n",
    "            # Compute distances from x to all training samples\n",
    "            distances = [self.euclidean_distance(x, x_train) for x_train in self.X_train]\n",
    "            \n",
    "            # Get indices of k nearest neighbors\n",
    "            k_indices = np.argsort(distances)[:self.k]\n",
    "            \n",
    "            # Get their labels\n",
    "            k_labels = [self.y_train[i] for i in k_indices]\n",
    "            \n",
    "            # Majority vote\n",
    "            most_common = Counter(k_labels).most_common(1)\n",
    "            predictions.append(most_common[0][0])\n",
    "\n",
    "        return np.array(predictions)\n",
    "    def accuracy(y_true, y_pred):\n",
    "        return np.sum(y_true == y_pred) / len(y_true)\n",
    "    def precision(y_true, y_pred):\n",
    "        true_positive = np.sum((y_pred == 1) & (y_true == 1))\n",
    "        predicted_positive = np.sum(y_pred == 1)\n",
    "        return true_positive / predicted_positive if predicted_positive > 0 else 0\n",
    "\n",
    "    def recall(y_true, y_pred):\n",
    "        true_positive = np.sum((y_pred == 1) & (y_true == 1))\n",
    "        actual_positive = np.sum(y_true == 1)\n",
    "        return true_positive / actual_positive if actual_positive > 0 else 0\n",
    "\n",
    "    def f1_score(y_true, y_pred):\n",
    "        precision = KNN.precision(y_true, y_pred)\n",
    "        recall = KNN.recall(y_true, y_pred)\n",
    "        if precision + recall == 0:\n",
    "            return 0\n",
    "        return 2 * (precision * recall) / (precision + recall)"
   ]
  },
  {
   "cell_type": "code",
   "execution_count": 23,
   "id": "14c5c6cd",
   "metadata": {},
   "outputs": [
    {
     "data": {
      "application/vnd.jupyter.widget-view+json": {
       "model_id": "8cd844c0d5c342e5a8fc881627fb003a",
       "version_major": 2,
       "version_minor": 0
      },
      "text/plain": [
       "VBox(children=(Text(value='0.1', description='Learning Rate:', placeholder='e.g. 0.01'), Text(value='1000', de…"
      ]
     },
     "metadata": {},
     "output_type": "display_data"
    }
   ],
   "source": [
    "X1 = df.drop(columns='addicted')\n",
    "y1 = df['addicted']\n",
    "\n",
    "from sklearn.preprocessing import StandardScaler\n",
    "from sklearn.model_selection import train_test_split\n",
    "\n",
    "scaler = StandardScaler()\n",
    "X1_train, X1_test, y1_train, y1_test = train_test_split(X1, y1, test_size=0.25, random_state=0)\n",
    "X1_train = scaler.fit_transform(X1_train)\n",
    "X1_test = scaler.transform(X1_test)\n",
    "\n",
    "# Text inputs for lr and n_iters\n",
    "lr_input = widgets.Text(\n",
    "    value='0.1',\n",
    "    description='Learning Rate:',\n",
    "    placeholder='e.g. 0.01',\n",
    ")\n",
    "\n",
    "iter_input = widgets.Text(\n",
    "    value='1000',\n",
    "    description='Iterations:',\n",
    "    placeholder='e.g. 1000',\n",
    ")\n",
    "\n",
    "# Button to trigger evaluation\n",
    "run_button = widgets.Button(description=\"Run Model\")\n",
    "\n",
    "# Output area for results\n",
    "output = widgets.Output()\n",
    "\n",
    "def run_model(b):\n",
    "    with output:\n",
    "        output.clear_output()\n",
    "        try:\n",
    "            lr = float(lr_input.value)\n",
    "            n_iters = int(iter_input.value)\n",
    "\n",
    "            model = LogRegression(lr=lr, n_iters=n_iters)\n",
    "            model.fit(X1_train, y1_train)\n",
    "            predictions = model.predict(X1_test)\n",
    "\n",
    "            acc = LogRegression.accuracy(y1_test, predictions)\n",
    "            prec = LogRegression.precision(y1_test, predictions)\n",
    "            rec = LogRegression.recall(y1_test, predictions)\n",
    "            f1 = LogRegression.f1_score(y1_test, predictions)\n",
    "            \n",
    "\n",
    "            # Show metrics in a bar chart\n",
    "            fig = go.Figure(data=[\n",
    "                go.Bar(name='Metrics', \n",
    "                       x=['Accuracy', 'Precision', 'Recall', 'F1-score'],\n",
    "                       y=[acc, prec, rec, f1],\n",
    "                       text=[f'{v*100:.2f}%' for v in [acc, prec, rec, f1]],\n",
    "                       textposition='auto')\n",
    "            ])\n",
    "            fig.update_layout(title=f\"Model Performance (lr={lr}, iter={n_iters})\",\n",
    "                              yaxis=dict(title='Score', range=[0, 1]))\n",
    "            fig.show()\n",
    "\n",
    "        except ValueError:\n",
    "            print(\"Please enter valid numeric values for learning rate and iterations.\")\n",
    "\n",
    "# Link button click to function\n",
    "run_button.on_click(run_model)\n",
    "\n",
    "# Display the UI\n",
    "display(widgets.VBox([lr_input, iter_input, run_button, output]))"
   ]
  },
  {
   "cell_type": "code",
   "execution_count": 24,
   "id": "cc8f9da1",
   "metadata": {},
   "outputs": [],
   "source": [
    "#print(accuracy,precision, recall, f1)"
   ]
  },
  {
   "cell_type": "markdown",
   "id": "754bc19e",
   "metadata": {},
   "source": [
    "## KNN"
   ]
  },
  {
   "cell_type": "code",
   "execution_count": 25,
   "id": "a63d641f",
   "metadata": {},
   "outputs": [
    {
     "data": {
      "application/vnd.jupyter.widget-view+json": {
       "model_id": "ff3f81b3aa5847de94ec9a1a38e0f67b",
       "version_major": 2,
       "version_minor": 0
      },
      "text/plain": [
       "VBox(children=(Text(value='5', description='k (neighbors):'), Button(description='Run KNN', style=ButtonStyle(…"
      ]
     },
     "metadata": {},
     "output_type": "display_data"
    }
   ],
   "source": [
    "import numpy as np\n",
    "import pandas as pd\n",
    "import plotly.graph_objects as go\n",
    "import ipywidgets as widgets\n",
    "from IPython.display import display, clear_output\n",
    "X1 = df.drop(columns='addicted')\n",
    "y1 = df['addicted']\n",
    "\n",
    "from sklearn.preprocessing import StandardScaler\n",
    "from sklearn.model_selection import train_test_split\n",
    "\n",
    "scaler = StandardScaler()\n",
    "X1_train, X1_test, y1_train, y1_test = train_test_split(X1, y1, test_size=0.25, random_state=0)\n",
    "X1_train = scaler.fit_transform(X1_train)\n",
    "X1_test = scaler.transform(X1_test)\n",
    "k_input    = widgets.Text(value='5', description='k (neighbors):')\n",
    "run_button = widgets.Button(description=\"Run KNN\")\n",
    "output     = widgets.Output()\n",
    "\n",
    "def run_knn(_):\n",
    "    with output:\n",
    "        clear_output()\n",
    "        try:\n",
    "            k = int(k_input.value)\n",
    "\n",
    "            # 1) Train & predict\n",
    "            model = KNN(k=k)\n",
    "            model.fit(X1_train, y1_train)\n",
    "            preds = model.predict(X1_test)\n",
    "\n",
    "            # 2) Compute & print metrics\n",
    "            acc  = KNN.accuracy(y1_test, preds)\n",
    "            prec = KNN.precision(y1_test, preds)\n",
    "            rec  = KNN.recall(y1_test, preds)\n",
    "            f1   = KNN.f1_score(y1_test, preds)\n",
    "\n",
    "            print(f\"Accuracy:  {acc:.4f}\")\n",
    "            print(f\"Precision: {prec:.4f}\")\n",
    "            print(f\"Recall:    {rec:.4f}\")\n",
    "            print(f\"F1 Score:  {f1:.4f}\")\n",
    "\n",
    "            # 3) Compute k-NN votes for the first test sample\n",
    "            x0 = X1_test[100]\n",
    "            dists     = np.linalg.norm(X1_train - x0, axis=1)\n",
    "            neigh_idx = np.argsort(dists)[:k]\n",
    "            neigh_lbl = y1_train[neigh_idx]\n",
    "            zeros = np.sum(neigh_lbl == 0)\n",
    "            ones  = np.sum(neigh_lbl == 1)\n",
    "\n",
    "            # 4) Inline bar chart of those votes\n",
    "            fig = go.Figure(\n",
    "                go.Bar(\n",
    "                    x=['Class 0','Class 1'],\n",
    "                    y=[zeros,ones],\n",
    "                    text=[zeros,ones],\n",
    "                    textposition='auto'\n",
    "                )\n",
    "            )\n",
    "            fig.update_layout(\n",
    "                title=f'k={k} Neighbors Votes for Test Sample ',\n",
    "                xaxis_title='Class Label',\n",
    "                yaxis_title='Vote Count',\n",
    "                yaxis=dict(dtick=1)\n",
    "            )\n",
    "            fig.show()\n",
    "\n",
    "        except ValueError:\n",
    "            print(\"❌ Please enter a valid integer for k.\")\n",
    "\n",
    "# Hook up and display\n",
    "run_button.on_click(run_knn)\n",
    "display(widgets.VBox([k_input, run_button, output]))\n"
   ]
  },
  {
   "cell_type": "code",
   "execution_count": 26,
   "id": "12815e12",
   "metadata": {},
   "outputs": [
    {
     "data": {
      "text/plain": [
       "0"
      ]
     },
     "execution_count": 26,
     "metadata": {},
     "output_type": "execute_result"
    }
   ],
   "source": [
    "y1_test.iloc[100]"
   ]
  },
  {
   "cell_type": "markdown",
   "id": "c5e092e6",
   "metadata": {},
   "source": [
    "# Standarisation"
   ]
  },
  {
   "cell_type": "code",
   "execution_count": 27,
   "id": "90dbc0fa",
   "metadata": {},
   "outputs": [],
   "source": [
    "X = df.drop(columns='addicted')\n",
    "y = df['addicted']"
   ]
  },
  {
   "cell_type": "code",
   "execution_count": 28,
   "id": "9674740f",
   "metadata": {},
   "outputs": [],
   "source": [
    "X1_train, X1_test, y1_train, y1_test = train_test_split(\n",
    "    X, y, test_size=0.25, random_state=0\n",
    ")\n",
    "\n",
    "scaler = StandardScaler()\n",
    "X1_train = scaler.fit_transform(X1_train)  \n",
    "X1_test  = scaler.transform(X1_test)        \n",
    "\n"
   ]
  },
  {
   "cell_type": "code",
   "execution_count": 29,
   "id": "cd9e0144",
   "metadata": {},
   "outputs": [
    {
     "data": {
      "application/vnd.jupyter.widget-view+json": {
       "model_id": "acde12d34e134cb29e7baa8e6688668a",
       "version_major": 2,
       "version_minor": 0
      },
      "text/plain": [
       "Dropdown(description='Column:', options=('daily_screen_time', 'app_sessions', 'social_media_usage', 'gaming_ti…"
      ]
     },
     "metadata": {},
     "output_type": "display_data"
    },
    {
     "data": {
      "application/vnd.jupyter.widget-view+json": {
       "model_id": "6962a65b6f6a4580b6e049cb61acbc98",
       "version_major": 2,
       "version_minor": 0
      },
      "text/plain": [
       "Output()"
      ]
     },
     "metadata": {},
     "output_type": "display_data"
    }
   ],
   "source": [
    "import pandas as pd\n",
    "import matplotlib.pyplot as plt\n",
    "import seaborn as sns\n",
    "from matplotlib.ticker import FuncFormatter\n",
    "import ipywidgets as widgets\n",
    "from IPython.display import display, clear_output\n",
    "\n",
    "\n",
    "X1_train_df = pd.DataFrame(X1_train, columns=X1.columns)\n",
    "\n",
    "col_dropdown = widgets.Dropdown(\n",
    "    options=X1_train_df.columns.tolist(),\n",
    "    description='Column:',\n",
    ")\n",
    "\n",
    "out = widgets.Output()\n",
    "\n",
    "def update_histogram(col):\n",
    "    with out:\n",
    "        clear_output(wait=True)\n",
    "        fig, ax = plt.subplots(figsize=(6, 4))\n",
    "        sns.histplot(x=X1_train_df[col], bins=15, ax=ax)\n",
    "        ax.set_title(f'Count plot of {col}')\n",
    "        ax.set_xlabel(col)\n",
    "        ax.set_ylabel('Count')\n",
    "        plt.setp(ax.get_xticklabels(), rotation=45)\n",
    "        ax.xaxis.set_major_formatter(FuncFormatter(lambda x, _: f'{x:.2f}'))\n",
    "        plt.tight_layout()\n",
    "        plt.show()\n",
    "\n",
    "col_dropdown.observe(lambda change: update_histogram(change.new), names='value')\n",
    "\n",
    "display(col_dropdown, out)\n",
    "\n",
    "update_histogram(col_dropdown.value)\n"
   ]
  },
  {
   "cell_type": "markdown",
   "id": "994e4793",
   "metadata": {},
   "source": [
    "### Classification Models"
   ]
  },
  {
   "cell_type": "code",
   "execution_count": 30,
   "id": "9fa909fa",
   "metadata": {},
   "outputs": [
    {
     "name": "stderr",
     "output_type": "stream",
     "text": [
      "c:\\Users\\salah elsayed\\AppData\\Local\\Programs\\Python\\Python311\\Lib\\site-packages\\sklearn\\model_selection\\_validation.py:540: FitFailedWarning:\n",
      "\n",
      "\n",
      "50 fits failed out of a total of 2940.\n",
      "The score on these train-test partitions for these parameters will be set to nan.\n",
      "If these failures are not expected, you can try to debug them by setting error_score='raise'.\n",
      "\n",
      "Below are more details about the failures:\n",
      "--------------------------------------------------------------------------------\n",
      "50 fits failed with the following error:\n",
      "Traceback (most recent call last):\n",
      "  File \"c:\\Users\\salah elsayed\\AppData\\Local\\Programs\\Python\\Python311\\Lib\\site-packages\\sklearn\\model_selection\\_validation.py\", line 888, in _fit_and_score\n",
      "    estimator.fit(X_train, y_train, **fit_params)\n",
      "  File \"c:\\Users\\salah elsayed\\AppData\\Local\\Programs\\Python\\Python311\\Lib\\site-packages\\sklearn\\base.py\", line 1473, in wrapper\n",
      "    return fit_method(estimator, *args, **kwargs)\n",
      "           ^^^^^^^^^^^^^^^^^^^^^^^^^^^^^^^^^^^^^^\n",
      "  File \"c:\\Users\\salah elsayed\\AppData\\Local\\Programs\\Python\\Python311\\Lib\\site-packages\\sklearn\\pipeline.py\", line 473, in fit\n",
      "    self._final_estimator.fit(Xt, y, **last_step_params[\"fit\"])\n",
      "  File \"C:\\Users\\salah elsayed\\AppData\\Local\\Temp\\ipykernel_8040\\784939266.py\", line 25, in fit\n",
      "  File \"c:\\Users\\salah elsayed\\AppData\\Local\\Programs\\Python\\Python311\\Lib\\site-packages\\sklearn\\base.py\", line 1473, in wrapper\n",
      "    return fit_method(estimator, *args, **kwargs)\n",
      "           ^^^^^^^^^^^^^^^^^^^^^^^^^^^^^^^^^^^^^^\n",
      "  File \"c:\\Users\\salah elsayed\\AppData\\Local\\Programs\\Python\\Python311\\Lib\\site-packages\\sklearn\\linear_model\\_logistic.py\", line 1194, in fit\n",
      "    solver = _check_solver(self.solver, self.penalty, self.dual)\n",
      "             ^^^^^^^^^^^^^^^^^^^^^^^^^^^^^^^^^^^^^^^^^^^^^^^^^^^\n",
      "  File \"c:\\Users\\salah elsayed\\AppData\\Local\\Programs\\Python\\Python311\\Lib\\site-packages\\sklearn\\linear_model\\_logistic.py\", line 67, in _check_solver\n",
      "    raise ValueError(\n",
      "ValueError: Solver lbfgs supports only 'l2' or None penalties, got l1 penalty.\n",
      "\n",
      "\n",
      "c:\\Users\\salah elsayed\\AppData\\Local\\Programs\\Python\\Python311\\Lib\\site-packages\\sklearn\\model_selection\\_search.py:1103: UserWarning:\n",
      "\n",
      "One or more of the test scores are non-finite: [0.97851089 0.97223047        nan 0.9750761         nan 0.97684269\n",
      "        nan 0.97752959        nan 0.97782399        nan 0.97733336\n",
      "        nan 0.97733336        nan 0.97733336        nan 0.97733336\n",
      "        nan 0.97733336        nan 0.95437237 0.95633469 0.95986709\n",
      " 0.95957282 0.96241822 0.9626144  0.96241817 0.96124065 0.95898353\n",
      " 0.95947459 0.95839481 0.97370293 0.97497821 0.97537075 0.97615583\n",
      " 0.97537085 0.9760576  0.96349843 0.96438088 0.96546057 0.96604919\n",
      " 0.96644153 0.96928741 0.96909085 0.96918933 0.96771763 0.96830596\n",
      " 0.96811013 0.97036681 0.96909081 0.96909158 0.96781553 0.96820797\n",
      " 0.96791333 0.96928727 0.9689932  0.96987589 0.96732504 0.97085753\n",
      " 0.97144639 0.97066121 0.97115155 0.96997422 0.97144606 0.96987642\n",
      " 0.97252531 0.97174061 0.97134826 0.97085729 0.96781543 0.96987574\n",
      " 0.96879688 0.97203477 0.97252531 0.97291799 0.97262363 0.9742916\n",
      " 0.97252598 0.97340848 0.97380116 0.97350647 0.97331053 0.97242722\n",
      " 0.97370283 0.97331034 0.97046513 0.97350627 0.97321201 0.97331068\n",
      " 0.97429189 0.97321269 0.97380107 0.97458596 0.97507659 0.97537099\n",
      " 0.97409566 0.97360499 0.97635268 0.97517496 0.97458596 0.97399734\n",
      " 0.97242712 0.97105327 0.97350676 0.97448768 0.97448777 0.97507692\n",
      " 0.97468424 0.97556697 0.97654857 0.97566554 0.9756654  0.97517482\n",
      " 0.97497855 0.9759599  0.97507673 0.97654852 0.97105347 0.97448792\n",
      " 0.97350695 0.97429155 0.9732124  0.97488046 0.97527315 0.97635239\n",
      " 0.97743179 0.97546908 0.97645058 0.97595947 0.97654871 0.97625397\n",
      " 0.97713733 0.97556726 0.97193654 0.97213296 0.9746839  0.97360513\n",
      " 0.97556673 0.97586128 0.97566535 0.97645043 0.97468404 0.97723523\n",
      " 0.97615608 0.97645034 0.97664642 0.97654867 0.97802031 0.9780205\n",
      " 0.97282    0.97203458 0.97448782 0.9738991  0.97488027 0.9755675\n",
      " 0.9749784  0.97615608 0.97488046 0.97723523 0.97762767 0.97684278\n",
      " 0.97733356 0.97664666 0.97723532 0.97752983 0.97252516 0.97232889\n",
      " 0.97331048 0.97527281 0.97497816 0.97586143 0.97625421 0.97654867\n",
      " 0.9767447  0.97635196 0.97605794 0.97576334 0.97703925 0.97733346\n",
      " 0.97635235 0.97684317 0.97272182 0.97193673 0.97576324 0.97409566\n",
      " 0.97438959 0.97566574 0.9759599  0.97527334 0.97566564 0.97596005\n",
      " 0.97684288 0.97753012 0.97733346 0.97713729 0.97713724 0.97733365\n",
      " 0.96958192 0.97370274 0.97301608 0.9738993  0.97419341 0.97566535\n",
      " 0.97546913 0.97674479 0.97546918 0.97664651 0.97595966 0.97654857\n",
      " 0.97635211 0.97566554 0.97645072 0.97595952 0.97085768 0.97399738\n",
      " 0.97262339 0.97468443 0.97517506 0.97595985 0.97556712 0.97654852\n",
      " 0.9763523  0.97556731 0.97762787 0.97811883 0.97811864 0.97694116\n",
      " 0.97703915 0.97802065 0.97124979 0.97380097 0.97488089 0.97331053\n",
      " 0.97566564 0.97478237 0.9766469  0.97654857 0.97723528 0.97664675\n",
      " 0.97625392 0.97615612 0.97703949 0.9787076  0.9763523  0.97723537\n",
      " 0.9690909  0.97124974 0.97370307 0.97389901 0.97497859 0.97458615\n",
      " 0.97458629 0.97703896 0.97674494 0.97703925 0.97645077 0.97841276\n",
      " 0.97743169 0.97752983 0.97772619 0.9770392  0.97281947 0.97007216\n",
      " 0.97566554 0.97301574 0.97576339 0.97517525 0.97713714 0.97399738\n",
      " 0.97595971 0.97713724 0.97586167 0.9777261  0.97743169 0.97694097\n",
      " 0.97743174 0.97811864 0.97203439 0.97183836 0.97223085 0.97360494\n",
      " 0.9752731  0.97438973 0.97546932 0.97458649 0.97586162 0.97694111\n",
      " 0.97654895 0.97635201 0.97713709 0.97664685 0.97684326 0.97684302\n",
      " 0.94750318 0.94681618 0.94750308 0.94848444 0.95191884 0.95191884\n",
      " 0.9518207  0.95162443 0.95535334 0.95535343 0.95515726 0.95594215\n",
      " 0.95996537 0.95937665 0.96025982 0.96025977 0.96094677 0.96006365\n",
      " 0.9593767  0.95800309 0.9655587  0.96487195 0.96398897 0.96330207\n",
      " 0.96850252 0.96801194 0.96752141 0.96683432 0.97066112 0.96987618\n",
      " 0.96958182 0.96909109 0.9686986  0.96899296 0.96683436 0.96447921\n",
      " 0.97144625 0.97125003 0.97075944 0.96899306 0.97321225 0.9728199\n",
      " 0.97262378 0.97115184 0.97497864 0.97468424 0.97389925 0.97331068\n",
      " 0.97164242 0.97164257 0.97046499 0.96732499 0.97291823 0.97321254\n",
      " 0.97272206 0.97075949 0.97537118 0.97566574 0.97537152 0.97439031\n",
      " 0.97596009 0.97654895 0.97635278 0.97537152 0.97164242 0.97193693\n",
      " 0.97066126 0.96830625 0.97429189 0.97399758 0.97360523 0.9718386\n",
      " 0.97596005 0.97635263 0.97546975 0.97380155 0.97615627 0.97713757\n",
      " 0.97645087 0.97497888 0.97193683 0.97174065 0.9707594  0.96850257\n",
      " 0.97399748 0.97399753 0.97321273 0.97154434 0.97586186 0.97645077\n",
      " 0.97546975 0.9738016  0.97645067 0.97713753 0.97645082 0.97517525\n",
      " 0.97556746 0.97595976 0.97497859 0.9748807  0.97998283 0.9801791\n",
      " 0.97968852 0.97939406 0.98008087 0.98008101 0.9801791  0.9794922\n",
      " 0.98008111 0.98037547 0.98008101 0.97929593 0.97939426 0.97890363\n",
      " 0.9780206  0.97733346 0.98008116 0.98076791 0.97968871 0.97988479\n",
      " 0.97959053 0.98017924 0.97939426 0.97968852 0.9797867  0.98066997\n",
      " 0.97949244 0.97949229 0.97841305 0.97870736 0.97870721 0.97851104\n",
      " 0.98017919 0.97998288 0.97968852 0.97978665 0.97988488 0.97978665\n",
      " 0.97968852 0.97919813 0.98017924 0.97968852 0.9797867  0.97910004\n",
      " 0.97890367 0.97968861 0.9787074  0.97821663 0.98076791 0.9800812\n",
      " 0.97959043 0.97978675 0.97968852 0.97929617 0.97998288 0.97959062\n",
      " 0.97968861 0.97959053 0.97978675 0.9793944  0.97890363 0.97831501\n",
      " 0.97831496 0.97860917 0.97968861 0.97929622 0.9797868  0.97949244\n",
      " 0.97988488 0.97929626 0.97939421 0.97929612 0.97988498 0.97929631\n",
      " 0.97929612 0.97909999 0.97811869 0.9790999  0.97890358 0.97900171\n",
      " 0.97949234 0.97968871 0.97978675 0.97959033 0.97919798 0.97968881\n",
      " 0.97929612 0.97949229 0.9790999  0.98008125 0.97949239 0.97880544\n",
      " 0.980179   0.9804735  0.9793944  0.98017915 0.97959053 0.98037566\n",
      " 0.97988513 0.97988493 0.97860941 0.97900186 0.97988527 0.97929617\n",
      " 0.97851113 0.97939445 0.97851157 0.97910009 0.97909956 0.97929636\n",
      " 0.97968866 0.97968837 0.9783151  0.97792246 0.97910004 0.9780205\n",
      " 0.97841314 0.97792256 0.97851137 0.97841324 0.97831501 0.97772605\n",
      " 0.97919837 0.9780207  0.97919774 0.97988508 0.98017939 0.97929622\n",
      " 0.9797868  0.97890396 0.979002   0.9793945  0.97959062 0.97772643\n",
      " 0.97880583 0.97890396 0.97919823 0.97851142 0.9783152  0.97811883\n",
      " 0.9797867  0.97919798 0.97841319 0.97949229 0.97919818 0.97831505\n",
      " 0.9783151  0.97978685 0.97890382 0.97890382 0.97831505 0.97910004\n",
      " 0.97860946 0.97851142 0.97860941 0.97900195 0.98037556 0.97919818\n",
      " 0.9787075  0.97890358 0.97939445 0.97978689 0.97919808 0.97890363\n",
      " 0.97968876 0.9796889  0.97880568 0.97900181 0.97900191 0.97968881\n",
      " 0.97870755 0.97909999 0.97968881 0.97959057 0.97880568 0.97900191\n",
      " 0.9793944  0.97939435 0.97939459 0.97900186 0.97860941 0.9793944\n",
      " 0.97988517 0.97890372 0.97831505 0.97860936 0.97978699 0.97890377\n",
      " 0.97752954 0.97821625 0.97723528 0.97851065 0.97743145 0.97654814]\n",
      "\n"
     ]
    },
    {
     "name": "stdout",
     "output_type": "stream",
     "text": [
      "Best model: Pipeline(steps=[('clf',\n",
      "                 ClfSwitcher(estimator=XGBClassifier(base_score=None,\n",
      "                                                     booster=None,\n",
      "                                                     callbacks=None,\n",
      "                                                     colsample_bylevel=None,\n",
      "                                                     colsample_bynode=None,\n",
      "                                                     colsample_bytree=None,\n",
      "                                                     device=None,\n",
      "                                                     early_stopping_rounds=None,\n",
      "                                                     enable_categorical=False,\n",
      "                                                     eval_metric=None,\n",
      "                                                     feature_types=None,\n",
      "                                                     feature_weights=None,\n",
      "                                                     gamma=None,\n",
      "                                                     grow_policy=None,\n",
      "                                                     importance_type=None,\n",
      "                                                     interaction_constraints=None,\n",
      "                                                     learning_rate=0.1,\n",
      "                                                     max_bin=None,\n",
      "                                                     max_cat_threshold=None,\n",
      "                                                     max_cat_to_onehot=None,\n",
      "                                                     max_delta_step=None,\n",
      "                                                     max_depth=5,\n",
      "                                                     max_leaves=None,\n",
      "                                                     min_child_weight=None,\n",
      "                                                     missing=nan,\n",
      "                                                     monotone_constraints=None,\n",
      "                                                     multi_strategy=None,\n",
      "                                                     n_estimators=100,\n",
      "                                                     n_jobs=None,\n",
      "                                                     num_parallel_tree=None, ...)))])\n",
      "Best parameters: {'clf__estimator': XGBClassifier(base_score=None, booster=None, callbacks=None,\n",
      "              colsample_bylevel=None, colsample_bynode=None,\n",
      "              colsample_bytree=None, device=None, early_stopping_rounds=None,\n",
      "              enable_categorical=False, eval_metric=None, feature_types=None,\n",
      "              feature_weights=None, gamma=None, grow_policy=None,\n",
      "              importance_type=None, interaction_constraints=None,\n",
      "              learning_rate=None, max_bin=None, max_cat_threshold=None,\n",
      "              max_cat_to_onehot=None, max_delta_step=None, max_depth=None,\n",
      "              max_leaves=None, min_child_weight=None, missing=nan,\n",
      "              monotone_constraints=None, multi_strategy=None, n_estimators=None,\n",
      "              n_jobs=None, num_parallel_tree=None, ...), 'clf__estimator__learning_rate': 0.1, 'clf__estimator__max_depth': 5, 'clf__estimator__n_estimators': 100, 'clf__estimator__subsample': 0.8}\n",
      "Best cross-validation accuracy: 0.9807679109186372\n"
     ]
    }
   ],
   "source": [
    "### We will implement grid search to see the best models available\n",
    "\n",
    "\n",
    "from sklearn.model_selection import  GridSearchCV\n",
    "\n",
    "\n",
    "from sklearn.naive_bayes import GaussianNB\n",
    "from sklearn.neighbors import KNeighborsClassifier\n",
    "from sklearn.svm import SVC\n",
    "from sklearn.tree import DecisionTreeClassifier\n",
    "from sklearn.ensemble import RandomForestClassifier\n",
    "from sklearn.linear_model import LogisticRegression\n",
    "from xgboost import XGBClassifier\n",
    "\n",
    "from sklearn.metrics import accuracy_score\n",
    "from sklearn.base import BaseEstimator\n",
    "from sklearn.pipeline import Pipeline\n",
    "\n",
    "\n",
    "class ClfSwitcher(BaseEstimator):\n",
    "    def __init__(self, estimator=None):\n",
    "        self.estimator = estimator\n",
    "\n",
    "    def fit(self, X, y):\n",
    "        self.estimator.fit(X, y)\n",
    "        return self\n",
    "\n",
    "    def predict(self, X):\n",
    "        return self.estimator.predict(X)\n",
    "\n",
    "    def predict_proba(self, X):\n",
    "        if hasattr(self.estimator, 'predict_proba'):\n",
    "            return self.estimator.predict_proba(X)\n",
    "        else:\n",
    "            raise AttributeError(f\"The estimator {self.estimator} does not support predict_proba.\")\n",
    "\n",
    "\n",
    "\n",
    "steps = [('clf', ClfSwitcher())]\n",
    "pipeline = Pipeline(steps)\n",
    "\n",
    "models = [\n",
    "    {\n",
    "        'clf__estimator': [GaussianNB()]\n",
    "    },\n",
    "\n",
    "    { \n",
    "        'clf__estimator': [LogisticRegression()],\n",
    "        'clf__estimator__penalty': ['l2','l1'],  \n",
    "        'clf__estimator__C': np.logspace(-4, 4, 10), \n",
    "    },\n",
    "    {\n",
    "        'clf__estimator': [DecisionTreeClassifier(max_depth=5)],\n",
    "        'clf__estimator__max_depth': np.arange(5, 16),\n",
    "    },\n",
    "    {\n",
    "        'clf__estimator': [KNeighborsClassifier()],\n",
    "        'clf__estimator__n_neighbors': np.arange(5, 16, 2),\n",
    "    },\n",
    "    {\n",
    "        'clf__estimator': [RandomForestClassifier()],\n",
    "        'clf__estimator__max_depth': np.arange(5, 21),\n",
    "        'clf__estimator__n_estimators': np.arange(5, 21),\n",
    "    },\n",
    "    {\n",
    "        'clf__estimator': [XGBClassifier()],\n",
    "        'clf__estimator__max_depth': np.arange(3, 15, 2),\n",
    "        'clf__estimator__n_estimators': np.arange(50, 201, 50),\n",
    "        'clf__estimator__learning_rate': [0.01, 0.1, 0.3],\n",
    "        'clf__estimator__subsample': [0.7, 0.8, 0.9, 1.0],\n",
    "    },\n",
    "\n",
    "    {\n",
    "        'clf__estimator': [SVC()],\n",
    "        'clf__estimator__C': [0.1, 1, 10],\n",
    "        'clf__estimator__kernel': ['linear', 'rbf']\n",
    "    }\n",
    "]\n",
    "\n",
    "gscv = GridSearchCV(pipeline, cv=5, param_grid=models, scoring=\"accuracy\",n_jobs=-1) # balanced model\n",
    "gscv.fit(X1_train, y1_train)\n",
    "\n",
    "print(\"Best model:\", gscv.best_estimator_)\n",
    "print(\"Best parameters:\", gscv.best_params_)\n",
    "print(\"Best cross-validation accuracy:\", gscv.best_score_)\n",
    "\n",
    "\n"
   ]
  },
  {
   "cell_type": "code",
   "execution_count": 31,
   "id": "7559d840",
   "metadata": {},
   "outputs": [
    {
     "name": "stdout",
     "output_type": "stream",
     "text": [
      "\n",
      "Classification Report on Test Set:\n",
      "              precision    recall  f1-score   support\n",
      "\n",
      "           0       0.98      0.98      0.98      1690\n",
      "           1       0.98      0.98      0.98      1708\n",
      "\n",
      "    accuracy                           0.98      3398\n",
      "   macro avg       0.98      0.98      0.98      3398\n",
      "weighted avg       0.98      0.98      0.98      3398\n",
      "\n"
     ]
    }
   ],
   "source": [
    "xgb_classifier = XGBClassifier(\n",
    "    learning_rate=0.1,\n",
    "    max_depth=5,\n",
    "    n_estimators=100,\n",
    "    subsample=0.8,\n",
    "    random_state=42,\n",
    ")\n",
    "\n",
    "\n",
    "classifier1 = ClfSwitcher(estimator=xgb_classifier)\n",
    "\n",
    "classifier1.fit(X1_train, y1_train)\n",
    "y1_pred = classifier1.predict(X1_test)\n",
    "\n",
    "from sklearn.metrics import classification_report\n",
    "\n",
    "\n",
    "print(\"\\nClassification Report on Test Set:\")\n",
    "print(classification_report(y1_test, y1_pred))\n"
   ]
  },
  {
   "cell_type": "markdown",
   "id": "d2cfcac7",
   "metadata": {},
   "source": [
    "# AutoML using Tpot"
   ]
  },
  {
   "cell_type": "code",
   "execution_count": 32,
   "id": "cce8982f",
   "metadata": {},
   "outputs": [
    {
     "name": "stdout",
     "output_type": "stream",
     "text": [
      "1.0.0\n"
     ]
    }
   ],
   "source": [
    "import tpot\n",
    "print(tpot.__version__)\n"
   ]
  },
  {
   "cell_type": "code",
   "execution_count": 33,
   "id": "a786a3d0",
   "metadata": {},
   "outputs": [
    {
     "name": "stderr",
     "output_type": "stream",
     "text": [
      "c:\\Users\\salah elsayed\\AppData\\Local\\Programs\\Python\\Python311\\Lib\\site-packages\\tpot\\tpot_estimator\\estimator.py:456: UserWarning:\n",
      "\n",
      "Both generations and max_time_mins are set. TPOT will terminate when the first condition is met.\n",
      "\n",
      "Generation:  33%|███▎      | 1/3 [04:46<09:33, 286.66s/it]"
     ]
    },
    {
     "name": "stdout",
     "output_type": "stream",
     "text": [
      "Generation:  1\n",
      "Best roc_auc_score score: 0.9977541536689314\n"
     ]
    },
    {
     "name": "stderr",
     "output_type": "stream",
     "text": [
      "Generation:  67%|██████▋   | 2/3 [10:44<05:28, 328.39s/it]"
     ]
    },
    {
     "name": "stdout",
     "output_type": "stream",
     "text": [
      "Generation:  2\n",
      "Best roc_auc_score score: 0.9980103608756761\n"
     ]
    },
    {
     "name": "stderr",
     "output_type": "stream",
     "text": [
      "Generation: 100%|██████████| 3/3 [16:13<00:00, 324.45s/it]"
     ]
    },
    {
     "name": "stdout",
     "output_type": "stream",
     "text": [
      "Generation:  3\n",
      "Best roc_auc_score score: 0.9980679328370365\n"
     ]
    },
    {
     "name": "stderr",
     "output_type": "stream",
     "text": [
      "\n"
     ]
    },
    {
     "name": "stdout",
     "output_type": "stream",
     "text": [
      "Pipeline(steps=[('maxabsscaler', MaxAbsScaler()),\n",
      "                ('variancethreshold',\n",
      "                 VarianceThreshold(threshold=0.0038213327122)),\n",
      "                ('featureunion-1',\n",
      "                 FeatureUnion(transformer_list=[('featureunion',\n",
      "                                                 FeatureUnion(transformer_list=[('nystroem',\n",
      "                                                                                 Nystroem(gamma=0.8991269036619,\n",
      "                                                                                          kernel='polynomial',\n",
      "                                                                                          n_components=4)),\n",
      "                                                                                ('kbinsdiscretizer',\n",
      "                                                                                 KBinsDiscretizer(encode='onehot-dense',\n",
      "                                                                                                  n_bins=90,\n",
      "                                                                                                  strategy='uniform'))])),\n",
      "                                                ('passthrough',\n",
      "                                                 Passthrough())])),\n",
      "                ('featureunion-2',\n",
      "                 FeatureUnion(transformer_list=[('skiptransformer',\n",
      "                                                 SkipTransformer()),\n",
      "                                                ('passthrough',\n",
      "                                                 Passthrough())])),\n",
      "                ('bernoullinb',\n",
      "                 BernoulliNB(alpha=0.1483476756921, fit_prior=False))])\n",
      "ROC AUC: 0.9989032427186149\n"
     ]
    }
   ],
   "source": [
    "from tpot import TPOTClassifier\n",
    "from sklearn.model_selection import train_test_split\n",
    "from sklearn.metrics import roc_auc_score\n",
    "\n",
    "# 1. Split your data\n",
    "X_train, X_test, y_train, y_test = train_test_split(X1, y1, test_size=0.2, random_state=42)\n",
    "\n",
    "# 2. Initialize TPOT\n",
    "tpot = TPOTClassifier(\n",
    "    generations=3,      \n",
    "    population_size=20,\n",
    "    scorers=\"roc_auc\",\n",
    "    cv=5,\n",
    "    verbose=3,\n",
    "    n_jobs=6\n",
    ")\n",
    "\n",
    "tpot.fit(X_train, y_train)\n",
    "print(tpot.fitted_pipeline_)\n",
    "\n",
    "y_pred = tpot.fitted_pipeline_.predict_proba(X_test)[:, 1]\n",
    "print(\"ROC AUC:\", roc_auc_score(y_test, y_pred))\n"
   ]
  },
  {
   "cell_type": "markdown",
   "id": "6f09e88b",
   "metadata": {},
   "source": [
    "# QSVM"
   ]
  },
  {
   "cell_type": "code",
   "execution_count": 34,
   "id": "3d94e8fc",
   "metadata": {},
   "outputs": [
    {
     "name": "stdout",
     "output_type": "stream",
     "text": [
      "Requirement already satisfied: cirq in c:\\users\\salah elsayed\\appdata\\local\\programs\\python\\python311\\lib\\site-packages (1.5.0)\n",
      "Requirement already satisfied: cirq-aqt==1.5.0 in c:\\users\\salah elsayed\\appdata\\local\\programs\\python\\python311\\lib\\site-packages (from cirq) (1.5.0)\n",
      "Requirement already satisfied: cirq-core==1.5.0 in c:\\users\\salah elsayed\\appdata\\local\\programs\\python\\python311\\lib\\site-packages (from cirq) (1.5.0)\n",
      "Requirement already satisfied: cirq-google==1.5.0 in c:\\users\\salah elsayed\\appdata\\local\\programs\\python\\python311\\lib\\site-packages (from cirq) (1.5.0)\n",
      "Requirement already satisfied: cirq-ionq==1.5.0 in c:\\users\\salah elsayed\\appdata\\local\\programs\\python\\python311\\lib\\site-packages (from cirq) (1.5.0)\n",
      "Requirement already satisfied: cirq-pasqal==1.5.0 in c:\\users\\salah elsayed\\appdata\\local\\programs\\python\\python311\\lib\\site-packages (from cirq) (1.5.0)\n",
      "Requirement already satisfied: cirq-web==1.5.0 in c:\\users\\salah elsayed\\appdata\\local\\programs\\python\\python311\\lib\\site-packages (from cirq) (1.5.0)\n",
      "Requirement already satisfied: requests~=2.32 in c:\\users\\salah elsayed\\appdata\\local\\programs\\python\\python311\\lib\\site-packages (from cirq-aqt==1.5.0->cirq) (2.32.3)\n",
      "Requirement already satisfied: attrs>=21.3.0 in c:\\users\\salah elsayed\\appdata\\local\\programs\\python\\python311\\lib\\site-packages (from cirq-core==1.5.0->cirq) (25.3.0)\n",
      "Requirement already satisfied: duet>=0.2.8 in c:\\users\\salah elsayed\\appdata\\local\\programs\\python\\python311\\lib\\site-packages (from cirq-core==1.5.0->cirq) (0.2.9)\n",
      "Requirement already satisfied: matplotlib~=3.7 in c:\\users\\salah elsayed\\appdata\\local\\programs\\python\\python311\\lib\\site-packages (from cirq-core==1.5.0->cirq) (3.10.1)\n",
      "Requirement already satisfied: networkx~=3.1 in c:\\users\\salah elsayed\\appdata\\local\\programs\\python\\python311\\lib\\site-packages (from cirq-core==1.5.0->cirq) (3.4.2)\n",
      "Requirement already satisfied: numpy>=1.25 in c:\\users\\salah elsayed\\appdata\\local\\programs\\python\\python311\\lib\\site-packages (from cirq-core==1.5.0->cirq) (1.26.4)\n",
      "Requirement already satisfied: pandas~=2.0 in c:\\users\\salah elsayed\\appdata\\local\\programs\\python\\python311\\lib\\site-packages (from cirq-core==1.5.0->cirq) (2.2.3)\n",
      "Requirement already satisfied: sortedcontainers~=2.0 in c:\\users\\salah elsayed\\appdata\\local\\programs\\python\\python311\\lib\\site-packages (from cirq-core==1.5.0->cirq) (2.4.0)\n",
      "Requirement already satisfied: scipy~=1.11 in c:\\users\\salah elsayed\\appdata\\local\\programs\\python\\python311\\lib\\site-packages (from cirq-core==1.5.0->cirq) (1.15.2)\n",
      "Requirement already satisfied: sympy in c:\\users\\salah elsayed\\appdata\\local\\programs\\python\\python311\\lib\\site-packages (from cirq-core==1.5.0->cirq) (1.13.3)\n",
      "Requirement already satisfied: typing_extensions>=4.2 in c:\\users\\salah elsayed\\appdata\\local\\programs\\python\\python311\\lib\\site-packages (from cirq-core==1.5.0->cirq) (4.12.2)\n",
      "Requirement already satisfied: tqdm>=4.12 in c:\\users\\salah elsayed\\appdata\\local\\programs\\python\\python311\\lib\\site-packages (from cirq-core==1.5.0->cirq) (4.67.1)\n",
      "Requirement already satisfied: google-api-core>=1.14.0 in c:\\users\\salah elsayed\\appdata\\local\\programs\\python\\python311\\lib\\site-packages (from google-api-core[grpc]>=1.14.0->cirq-google==1.5.0->cirq) (2.24.2)\n",
      "Requirement already satisfied: proto-plus>=1.20.0 in c:\\users\\salah elsayed\\appdata\\local\\programs\\python\\python311\\lib\\site-packages (from cirq-google==1.5.0->cirq) (1.26.1)\n",
      "Requirement already satisfied: protobuf<6.0,>=4.25 in c:\\users\\salah elsayed\\appdata\\local\\programs\\python\\python311\\lib\\site-packages (from cirq-google==1.5.0->cirq) (5.29.4)\n",
      "Requirement already satisfied: typedunits in c:\\users\\salah elsayed\\appdata\\local\\programs\\python\\python311\\lib\\site-packages (from cirq-google==1.5.0->cirq) (0.0.1.dev20250425170239)\n",
      "Requirement already satisfied: googleapis-common-protos<2.0.0,>=1.56.2 in c:\\users\\salah elsayed\\appdata\\local\\programs\\python\\python311\\lib\\site-packages (from google-api-core>=1.14.0->google-api-core[grpc]>=1.14.0->cirq-google==1.5.0->cirq) (1.70.0)\n",
      "Requirement already satisfied: google-auth<3.0.0,>=2.14.1 in c:\\users\\salah elsayed\\appdata\\local\\programs\\python\\python311\\lib\\site-packages (from google-api-core>=1.14.0->google-api-core[grpc]>=1.14.0->cirq-google==1.5.0->cirq) (2.40.1)\n",
      "Requirement already satisfied: grpcio<2.0dev,>=1.33.2 in c:\\users\\salah elsayed\\appdata\\local\\programs\\python\\python311\\lib\\site-packages (from google-api-core[grpc]>=1.14.0->cirq-google==1.5.0->cirq) (1.71.0)\n",
      "Requirement already satisfied: grpcio-status<2.0.dev0,>=1.33.2 in c:\\users\\salah elsayed\\appdata\\local\\programs\\python\\python311\\lib\\site-packages (from google-api-core[grpc]>=1.14.0->cirq-google==1.5.0->cirq) (1.71.0)\n",
      "Requirement already satisfied: contourpy>=1.0.1 in c:\\users\\salah elsayed\\appdata\\local\\programs\\python\\python311\\lib\\site-packages (from matplotlib~=3.7->cirq-core==1.5.0->cirq) (1.3.2)\n",
      "Requirement already satisfied: cycler>=0.10 in c:\\users\\salah elsayed\\appdata\\local\\programs\\python\\python311\\lib\\site-packages (from matplotlib~=3.7->cirq-core==1.5.0->cirq) (0.12.1)\n",
      "Requirement already satisfied: fonttools>=4.22.0 in c:\\users\\salah elsayed\\appdata\\local\\programs\\python\\python311\\lib\\site-packages (from matplotlib~=3.7->cirq-core==1.5.0->cirq) (4.57.0)\n",
      "Requirement already satisfied: kiwisolver>=1.3.1 in c:\\users\\salah elsayed\\appdata\\local\\programs\\python\\python311\\lib\\site-packages (from matplotlib~=3.7->cirq-core==1.5.0->cirq) (1.4.8)\n",
      "Requirement already satisfied: packaging>=20.0 in c:\\users\\salah elsayed\\appdata\\local\\programs\\python\\python311\\lib\\site-packages (from matplotlib~=3.7->cirq-core==1.5.0->cirq) (24.2)\n",
      "Requirement already satisfied: pillow>=8 in c:\\users\\salah elsayed\\appdata\\local\\programs\\python\\python311\\lib\\site-packages (from matplotlib~=3.7->cirq-core==1.5.0->cirq) (11.2.1)\n",
      "Requirement already satisfied: pyparsing>=2.3.1 in c:\\users\\salah elsayed\\appdata\\local\\programs\\python\\python311\\lib\\site-packages (from matplotlib~=3.7->cirq-core==1.5.0->cirq) (3.2.3)\n",
      "Requirement already satisfied: python-dateutil>=2.7 in c:\\users\\salah elsayed\\appdata\\local\\programs\\python\\python311\\lib\\site-packages (from matplotlib~=3.7->cirq-core==1.5.0->cirq) (2.9.0.post0)\n",
      "Requirement already satisfied: pytz>=2020.1 in c:\\users\\salah elsayed\\appdata\\local\\programs\\python\\python311\\lib\\site-packages (from pandas~=2.0->cirq-core==1.5.0->cirq) (2025.2)\n",
      "Requirement already satisfied: tzdata>=2022.7 in c:\\users\\salah elsayed\\appdata\\local\\programs\\python\\python311\\lib\\site-packages (from pandas~=2.0->cirq-core==1.5.0->cirq) (2025.2)\n",
      "Requirement already satisfied: charset-normalizer<4,>=2 in c:\\users\\salah elsayed\\appdata\\local\\programs\\python\\python311\\lib\\site-packages (from requests~=2.32->cirq-aqt==1.5.0->cirq) (3.4.1)\n",
      "Requirement already satisfied: idna<4,>=2.5 in c:\\users\\salah elsayed\\appdata\\local\\programs\\python\\python311\\lib\\site-packages (from requests~=2.32->cirq-aqt==1.5.0->cirq) (3.10)\n",
      "Requirement already satisfied: urllib3<3,>=1.21.1 in c:\\users\\salah elsayed\\appdata\\local\\programs\\python\\python311\\lib\\site-packages (from requests~=2.32->cirq-aqt==1.5.0->cirq) (2.3.0)\n",
      "Requirement already satisfied: certifi>=2017.4.17 in c:\\users\\salah elsayed\\appdata\\local\\programs\\python\\python311\\lib\\site-packages (from requests~=2.32->cirq-aqt==1.5.0->cirq) (2024.12.14)\n",
      "Requirement already satisfied: colorama in c:\\users\\salah elsayed\\appdata\\local\\programs\\python\\python311\\lib\\site-packages (from tqdm>=4.12->cirq-core==1.5.0->cirq) (0.4.6)\n",
      "Requirement already satisfied: mpmath<1.4,>=1.1.0 in c:\\users\\salah elsayed\\appdata\\local\\programs\\python\\python311\\lib\\site-packages (from sympy->cirq-core==1.5.0->cirq) (1.3.0)\n",
      "Requirement already satisfied: cython>=3.0.0 in c:\\users\\salah elsayed\\appdata\\local\\programs\\python\\python311\\lib\\site-packages (from typedunits->cirq-google==1.5.0->cirq) (3.1.0)\n",
      "Requirement already satisfied: cachetools<6.0,>=2.0.0 in c:\\users\\salah elsayed\\appdata\\local\\programs\\python\\python311\\lib\\site-packages (from google-auth<3.0.0,>=2.14.1->google-api-core>=1.14.0->google-api-core[grpc]>=1.14.0->cirq-google==1.5.0->cirq) (5.5.2)\n",
      "Requirement already satisfied: pyasn1-modules>=0.2.1 in c:\\users\\salah elsayed\\appdata\\local\\programs\\python\\python311\\lib\\site-packages (from google-auth<3.0.0,>=2.14.1->google-api-core>=1.14.0->google-api-core[grpc]>=1.14.0->cirq-google==1.5.0->cirq) (0.4.2)\n",
      "Requirement already satisfied: rsa<5,>=3.1.4 in c:\\users\\salah elsayed\\appdata\\local\\programs\\python\\python311\\lib\\site-packages (from google-auth<3.0.0,>=2.14.1->google-api-core>=1.14.0->google-api-core[grpc]>=1.14.0->cirq-google==1.5.0->cirq) (4.9.1)\n",
      "Requirement already satisfied: six>=1.5 in c:\\users\\salah elsayed\\appdata\\local\\programs\\python\\python311\\lib\\site-packages (from python-dateutil>=2.7->matplotlib~=3.7->cirq-core==1.5.0->cirq) (1.17.0)\n",
      "Requirement already satisfied: pyasn1<0.7.0,>=0.6.1 in c:\\users\\salah elsayed\\appdata\\local\\programs\\python\\python311\\lib\\site-packages (from pyasn1-modules>=0.2.1->google-auth<3.0.0,>=2.14.1->google-api-core>=1.14.0->google-api-core[grpc]>=1.14.0->cirq-google==1.5.0->cirq) (0.6.1)\n"
     ]
    },
    {
     "name": "stderr",
     "output_type": "stream",
     "text": [
      "\n",
      "[notice] A new release of pip is available: 24.0 -> 25.1.1\n",
      "[notice] To update, run: python.exe -m pip install --upgrade pip\n"
     ]
    }
   ],
   "source": [
    "!pip install cirq"
   ]
  },
  {
   "cell_type": "code",
   "execution_count": 35,
   "id": "01afa820",
   "metadata": {},
   "outputs": [
    {
     "name": "stdout",
     "output_type": "stream",
     "text": [
      "Time for K_train: 421.84052896499634\n",
      "Predictions: [0 0 0 0 1 1 1 0 0 0 0 0 0 0 1 1 1 0 0 0 1 1 1 1 1 1 1 0 0 1 0 1 1 0 0 0 0\n",
      " 0 0 1 1 1 1 0 0 1 0 1 0 0 0 0 0 1 0 0 0 0 0 1 0 1 0 1 0 0 1 0 0 0 0 0 0 0\n",
      " 1 1 1 1 1 1 0 1 1 1 1 1 1 0 0 1 1 1 1 0 1 1 0 1 0 0]\n",
      "Accuracy: 0.69\n"
     ]
    }
   ],
   "source": [
    "import cirq\n",
    "import time\n",
    "import numpy as np\n",
    "from sklearn.svm import SVC\n",
    "from sklearn.metrics import accuracy_score\n",
    "from sklearn.preprocessing import StandardScaler\n",
    "from sklearn.model_selection import train_test_split\n",
    "\n",
    "# Quantum feature map: encodes 2D data into a 2-qubit quantum state\n",
    "def create_feature_circuit(x):\n",
    "    qubits = cirq.LineQubit.range(2)\n",
    "    circuit = cirq.Circuit()\n",
    "    circuit.append(cirq.rx(x[0])(qubits[0]))\n",
    "    circuit.append(cirq.rz(x[1])(qubits[1]))\n",
    "    circuit.append(cirq.CNOT(qubits[0], qubits[1]))\n",
    "    return circuit\n",
    "\n",
    "# Kernel computation: fidelity between two quantum states\n",
    "def quantum_kernel(x1, x2):\n",
    "    circuit1 = create_feature_circuit(x1)\n",
    "    circuit2 = create_feature_circuit(x2)\n",
    "    \n",
    "    simulator = cirq.Simulator()\n",
    "    result1 = simulator.simulate(circuit1)\n",
    "    result2 = simulator.simulate(circuit2)\n",
    "\n",
    "    state1 = result1.final_state_vector\n",
    "    state2 = result2.final_state_vector\n",
    "\n",
    "    return np.abs(np.dot(np.conj(state1), state2)) ** 2\n",
    "\n",
    "# Build full kernel matrix (non-parallel version)\n",
    "def build_kernel_matrix(X1, X2):\n",
    "    n, m = len(X1), len(X2)\n",
    "    kernel = np.zeros((n, m))\n",
    "\n",
    "    for i in range(n):\n",
    "        for j in range(m):\n",
    "            kernel[i, j] = quantum_kernel(X1[i], X2[j])\n",
    "\n",
    "    return kernel\n",
    "# Sample data\n",
    "df_sampled=df.copy()\n",
    "df_sampled = df_sampled.sample(n=500, random_state=42)  # You may need to use df_sampled here\n",
    "scaler = StandardScaler()\n",
    "X1 = df_sampled.drop(columns='addicted')\n",
    "y1 = df_sampled['addicted']\n",
    "X1_train, X1_test, y1_train, y1_test = train_test_split(X1, y1, test_size=0.2, random_state=101)\n",
    "X_train = scaler.fit_transform(X1_train)\n",
    "X_test = scaler.transform(X1_test)\n",
    "\n",
    "# Kernel matrices\n",
    "start = time.time()\n",
    "K_train = build_kernel_matrix(X_train, X_train)\n",
    "print(\"Time for K_train:\", time.time() - start)\n",
    "\n",
    "K_test = build_kernel_matrix(X_test, X_train)\n",
    "\n",
    "# Train and evaluate SVM\n",
    "clf = SVC(kernel='precomputed')\n",
    "clf.fit(K_train, y1_train)\n",
    "y_pred = clf.predict(K_test)\n",
    "\n",
    "print(\"Predictions:\", y_pred)\n",
    "print(\"Accuracy:\", accuracy_score(y1_test, y_pred))\n"
   ]
  },
  {
   "cell_type": "markdown",
   "id": "e79d609c",
   "metadata": {},
   "source": [
    "## Neural Network"
   ]
  },
  {
   "cell_type": "code",
   "execution_count": 36,
   "id": "7ba5947a",
   "metadata": {},
   "outputs": [],
   "source": [
    "from tensorflow import keras\n",
    "from sklearn.preprocessing import StandardScaler\n",
    "from sklearn.model_selection import train_test_split\n",
    "df_copy=df.copy()\n",
    "X1 = df_copy.drop(columns='addicted')\n",
    "y1 = df_copy['addicted']\n",
    "X_train, X_test, y_train, y_test = train_test_split(X1, y1, test_size = 0.25, random_state = 0)\n",
    "scaler = StandardScaler()\n",
    "X_train = scaler.fit_transform(X_train)\n",
    "X_test  = scaler.transform(X_test)"
   ]
  },
  {
   "cell_type": "code",
   "execution_count": 37,
   "id": "674143ac",
   "metadata": {},
   "outputs": [
    {
     "name": "stderr",
     "output_type": "stream",
     "text": [
      "c:\\Users\\salah elsayed\\AppData\\Local\\Programs\\Python\\Python311\\Lib\\site-packages\\keras\\src\\layers\\core\\input_layer.py:27: UserWarning:\n",
      "\n",
      "Argument `input_shape` is deprecated. Use `shape` instead.\n",
      "\n"
     ]
    },
    {
     "data": {
      "text/html": [
       "<pre style=\"white-space:pre;overflow-x:auto;line-height:normal;font-family:Menlo,'DejaVu Sans Mono',consolas,'Courier New',monospace\"><span style=\"font-weight: bold\">Model: \"sequential\"</span>\n",
       "</pre>\n"
      ],
      "text/plain": [
       "\u001b[1mModel: \"sequential\"\u001b[0m\n"
      ]
     },
     "metadata": {},
     "output_type": "display_data"
    },
    {
     "data": {
      "text/html": [
       "<pre style=\"white-space:pre;overflow-x:auto;line-height:normal;font-family:Menlo,'DejaVu Sans Mono',consolas,'Courier New',monospace\">┏━━━━━━━━━━━━━━━━━━━━━━━━━━━━━━━━━┳━━━━━━━━━━━━━━━━━━━━━━━━┳━━━━━━━━━━━━━━━┓\n",
       "┃<span style=\"font-weight: bold\"> Layer (type)                    </span>┃<span style=\"font-weight: bold\"> Output Shape           </span>┃<span style=\"font-weight: bold\">       Param # </span>┃\n",
       "┡━━━━━━━━━━━━━━━━━━━━━━━━━━━━━━━━━╇━━━━━━━━━━━━━━━━━━━━━━━━╇━━━━━━━━━━━━━━━┩\n",
       "│ dense (<span style=\"color: #0087ff; text-decoration-color: #0087ff\">Dense</span>)                   │ (<span style=\"color: #00d7ff; text-decoration-color: #00d7ff\">None</span>, <span style=\"color: #00af00; text-decoration-color: #00af00\">16</span>)             │           <span style=\"color: #00af00; text-decoration-color: #00af00\">176</span> │\n",
       "├─────────────────────────────────┼────────────────────────┼───────────────┤\n",
       "│ dense_1 (<span style=\"color: #0087ff; text-decoration-color: #0087ff\">Dense</span>)                 │ (<span style=\"color: #00d7ff; text-decoration-color: #00d7ff\">None</span>, <span style=\"color: #00af00; text-decoration-color: #00af00\">8</span>)              │           <span style=\"color: #00af00; text-decoration-color: #00af00\">136</span> │\n",
       "├─────────────────────────────────┼────────────────────────┼───────────────┤\n",
       "│ dense_2 (<span style=\"color: #0087ff; text-decoration-color: #0087ff\">Dense</span>)                 │ (<span style=\"color: #00d7ff; text-decoration-color: #00d7ff\">None</span>, <span style=\"color: #00af00; text-decoration-color: #00af00\">1</span>)              │             <span style=\"color: #00af00; text-decoration-color: #00af00\">9</span> │\n",
       "└─────────────────────────────────┴────────────────────────┴───────────────┘\n",
       "</pre>\n"
      ],
      "text/plain": [
       "┏━━━━━━━━━━━━━━━━━━━━━━━━━━━━━━━━━┳━━━━━━━━━━━━━━━━━━━━━━━━┳━━━━━━━━━━━━━━━┓\n",
       "┃\u001b[1m \u001b[0m\u001b[1mLayer (type)                   \u001b[0m\u001b[1m \u001b[0m┃\u001b[1m \u001b[0m\u001b[1mOutput Shape          \u001b[0m\u001b[1m \u001b[0m┃\u001b[1m \u001b[0m\u001b[1m      Param #\u001b[0m\u001b[1m \u001b[0m┃\n",
       "┡━━━━━━━━━━━━━━━━━━━━━━━━━━━━━━━━━╇━━━━━━━━━━━━━━━━━━━━━━━━╇━━━━━━━━━━━━━━━┩\n",
       "│ dense (\u001b[38;5;33mDense\u001b[0m)                   │ (\u001b[38;5;45mNone\u001b[0m, \u001b[38;5;34m16\u001b[0m)             │           \u001b[38;5;34m176\u001b[0m │\n",
       "├─────────────────────────────────┼────────────────────────┼───────────────┤\n",
       "│ dense_1 (\u001b[38;5;33mDense\u001b[0m)                 │ (\u001b[38;5;45mNone\u001b[0m, \u001b[38;5;34m8\u001b[0m)              │           \u001b[38;5;34m136\u001b[0m │\n",
       "├─────────────────────────────────┼────────────────────────┼───────────────┤\n",
       "│ dense_2 (\u001b[38;5;33mDense\u001b[0m)                 │ (\u001b[38;5;45mNone\u001b[0m, \u001b[38;5;34m1\u001b[0m)              │             \u001b[38;5;34m9\u001b[0m │\n",
       "└─────────────────────────────────┴────────────────────────┴───────────────┘\n"
      ]
     },
     "metadata": {},
     "output_type": "display_data"
    },
    {
     "data": {
      "text/html": [
       "<pre style=\"white-space:pre;overflow-x:auto;line-height:normal;font-family:Menlo,'DejaVu Sans Mono',consolas,'Courier New',monospace\"><span style=\"font-weight: bold\"> Total params: </span><span style=\"color: #00af00; text-decoration-color: #00af00\">321</span> (1.25 KB)\n",
       "</pre>\n"
      ],
      "text/plain": [
       "\u001b[1m Total params: \u001b[0m\u001b[38;5;34m321\u001b[0m (1.25 KB)\n"
      ]
     },
     "metadata": {},
     "output_type": "display_data"
    },
    {
     "data": {
      "text/html": [
       "<pre style=\"white-space:pre;overflow-x:auto;line-height:normal;font-family:Menlo,'DejaVu Sans Mono',consolas,'Courier New',monospace\"><span style=\"font-weight: bold\"> Trainable params: </span><span style=\"color: #00af00; text-decoration-color: #00af00\">321</span> (1.25 KB)\n",
       "</pre>\n"
      ],
      "text/plain": [
       "\u001b[1m Trainable params: \u001b[0m\u001b[38;5;34m321\u001b[0m (1.25 KB)\n"
      ]
     },
     "metadata": {},
     "output_type": "display_data"
    },
    {
     "data": {
      "text/html": [
       "<pre style=\"white-space:pre;overflow-x:auto;line-height:normal;font-family:Menlo,'DejaVu Sans Mono',consolas,'Courier New',monospace\"><span style=\"font-weight: bold\"> Non-trainable params: </span><span style=\"color: #00af00; text-decoration-color: #00af00\">0</span> (0.00 B)\n",
       "</pre>\n"
      ],
      "text/plain": [
       "\u001b[1m Non-trainable params: \u001b[0m\u001b[38;5;34m0\u001b[0m (0.00 B)\n"
      ]
     },
     "metadata": {},
     "output_type": "display_data"
    }
   ],
   "source": [
    "# creation\n",
    "model = keras.Sequential([\n",
    "    keras.layers.InputLayer(input_shape=(X_train.shape[1],)),\n",
    "    keras.layers.Dense(16, activation=\"relu\"),   \n",
    "    keras.layers.Dense(8,  activation=\"relu\"),   \n",
    "    keras.layers.Dense(1,  activation=\"sigmoid\") \n",
    "])\n",
    "\n",
    "model.compile(\n",
    "    optimizer=keras.optimizers.Adam(learning_rate=0.001),\n",
    "    loss=\"binary_crossentropy\",\n",
    "    metrics=[\"accuracy\"]\n",
    ")\n",
    "model.summary()\n"
   ]
  },
  {
   "cell_type": "code",
   "execution_count": 38,
   "id": "14bb489e",
   "metadata": {},
   "outputs": [
    {
     "name": "stdout",
     "output_type": "stream",
     "text": [
      "Epoch 1/15\n",
      "\u001b[1m287/287\u001b[0m \u001b[32m━━━━━━━━━━━━━━━━━━━━\u001b[0m\u001b[37m\u001b[0m \u001b[1m3s\u001b[0m 5ms/step - accuracy: 0.7830 - loss: 0.4629 - val_accuracy: 0.9784 - val_loss: 0.0933\n",
      "Epoch 2/15\n",
      "\u001b[1m287/287\u001b[0m \u001b[32m━━━━━━━━━━━━━━━━━━━━\u001b[0m\u001b[37m\u001b[0m \u001b[1m1s\u001b[0m 4ms/step - accuracy: 0.9732 - loss: 0.0849 - val_accuracy: 0.9765 - val_loss: 0.0698\n",
      "Epoch 3/15\n",
      "\u001b[1m287/287\u001b[0m \u001b[32m━━━━━━━━━━━━━━━━━━━━\u001b[0m\u001b[37m\u001b[0m \u001b[1m1s\u001b[0m 4ms/step - accuracy: 0.9760 - loss: 0.0674 - val_accuracy: 0.9745 - val_loss: 0.0686\n",
      "Epoch 4/15\n",
      "\u001b[1m287/287\u001b[0m \u001b[32m━━━━━━━━━━━━━━━━━━━━\u001b[0m\u001b[37m\u001b[0m \u001b[1m1s\u001b[0m 5ms/step - accuracy: 0.9780 - loss: 0.0582 - val_accuracy: 0.9775 - val_loss: 0.0671\n",
      "Epoch 5/15\n",
      "\u001b[1m287/287\u001b[0m \u001b[32m━━━━━━━━━━━━━━━━━━━━\u001b[0m\u001b[37m\u001b[0m \u001b[1m1s\u001b[0m 4ms/step - accuracy: 0.9766 - loss: 0.0613 - val_accuracy: 0.9765 - val_loss: 0.0685\n",
      "Epoch 6/15\n",
      "\u001b[1m287/287\u001b[0m \u001b[32m━━━━━━━━━━━━━━━━━━━━\u001b[0m\u001b[37m\u001b[0m \u001b[1m1s\u001b[0m 4ms/step - accuracy: 0.9795 - loss: 0.0547 - val_accuracy: 0.9755 - val_loss: 0.0680\n",
      "Epoch 7/15\n",
      "\u001b[1m287/287\u001b[0m \u001b[32m━━━━━━━━━━━━━━━━━━━━\u001b[0m\u001b[37m\u001b[0m \u001b[1m1s\u001b[0m 4ms/step - accuracy: 0.9800 - loss: 0.0551 - val_accuracy: 0.9745 - val_loss: 0.0697\n",
      "Epoch 8/15\n",
      "\u001b[1m287/287\u001b[0m \u001b[32m━━━━━━━━━━━━━━━━━━━━\u001b[0m\u001b[37m\u001b[0m \u001b[1m1s\u001b[0m 4ms/step - accuracy: 0.9793 - loss: 0.0566 - val_accuracy: 0.9745 - val_loss: 0.0696\n",
      "Epoch 9/15\n",
      "\u001b[1m287/287\u001b[0m \u001b[32m━━━━━━━━━━━━━━━━━━━━\u001b[0m\u001b[37m\u001b[0m \u001b[1m1s\u001b[0m 4ms/step - accuracy: 0.9773 - loss: 0.0566 - val_accuracy: 0.9745 - val_loss: 0.0677\n",
      "Epoch 10/15\n",
      "\u001b[1m287/287\u001b[0m \u001b[32m━━━━━━━━━━━━━━━━━━━━\u001b[0m\u001b[37m\u001b[0m \u001b[1m1s\u001b[0m 4ms/step - accuracy: 0.9796 - loss: 0.0540 - val_accuracy: 0.9735 - val_loss: 0.0695\n",
      "Epoch 11/15\n",
      "\u001b[1m287/287\u001b[0m \u001b[32m━━━━━━━━━━━━━━━━━━━━\u001b[0m\u001b[37m\u001b[0m \u001b[1m1s\u001b[0m 4ms/step - accuracy: 0.9809 - loss: 0.0548 - val_accuracy: 0.9745 - val_loss: 0.0685\n",
      "Epoch 12/15\n",
      "\u001b[1m287/287\u001b[0m \u001b[32m━━━━━━━━━━━━━━━━━━━━\u001b[0m\u001b[37m\u001b[0m \u001b[1m1s\u001b[0m 5ms/step - accuracy: 0.9800 - loss: 0.0549 - val_accuracy: 0.9745 - val_loss: 0.0683\n",
      "Epoch 13/15\n",
      "\u001b[1m287/287\u001b[0m \u001b[32m━━━━━━━━━━━━━━━━━━━━\u001b[0m\u001b[37m\u001b[0m \u001b[1m1s\u001b[0m 4ms/step - accuracy: 0.9812 - loss: 0.0505 - val_accuracy: 0.9745 - val_loss: 0.0682\n",
      "Epoch 14/15\n",
      "\u001b[1m287/287\u001b[0m \u001b[32m━━━━━━━━━━━━━━━━━━━━\u001b[0m\u001b[37m\u001b[0m \u001b[1m1s\u001b[0m 5ms/step - accuracy: 0.9812 - loss: 0.0505 - val_accuracy: 0.9745 - val_loss: 0.0700\n",
      "Epoch 15/15\n",
      "\u001b[1m287/287\u001b[0m \u001b[32m━━━━━━━━━━━━━━━━━━━━\u001b[0m\u001b[37m\u001b[0m \u001b[1m1s\u001b[0m 4ms/step - accuracy: 0.9783 - loss: 0.0554 - val_accuracy: 0.9745 - val_loss: 0.0699\n"
     ]
    }
   ],
   "source": [
    "# train\n",
    "history = model.fit(X_train, y_train,validation_split=0.1,epochs=15,batch_size=32,)\n"
   ]
  },
  {
   "cell_type": "code",
   "execution_count": 39,
   "id": "80c81478",
   "metadata": {},
   "outputs": [
    {
     "name": "stdout",
     "output_type": "stream",
     "text": [
      "\u001b[1m107/107\u001b[0m \u001b[32m━━━━━━━━━━━━━━━━━━━━\u001b[0m\u001b[37m\u001b[0m \u001b[1m0s\u001b[0m 3ms/step - accuracy: 0.9796 - loss: 0.0579\n",
      "Test Accuracy: 0.9800\n"
     ]
    }
   ],
   "source": [
    "# test\n",
    "test_loss, test_acc = model.evaluate(X_test, y_test)\n",
    "print(f\"Test Accuracy: {test_acc:.4f}\")"
   ]
  },
  {
   "cell_type": "code",
   "execution_count": 41,
   "id": "45236857",
   "metadata": {},
   "outputs": [
    {
     "data": {
      "text/plain": [
       "['scaler.pkl']"
      ]
     },
     "execution_count": 41,
     "metadata": {},
     "output_type": "execute_result"
    }
   ],
   "source": [
    "import joblib\n",
    "joblib.dump(model, 'NN_Classification_model.pkl')\n",
    "joblib.dump(scaler, \"scaler.pkl\")"
   ]
  },
  {
   "cell_type": "code",
   "execution_count": null,
   "id": "7e3352d2",
   "metadata": {},
   "outputs": [],
   "source": []
  }
 ],
 "metadata": {
  "kernelspec": {
   "display_name": "Python 3",
   "language": "python",
   "name": "python3"
  },
  "language_info": {
   "codemirror_mode": {
    "name": "ipython",
    "version": 3
   },
   "file_extension": ".py",
   "mimetype": "text/x-python",
   "name": "python",
   "nbconvert_exporter": "python",
   "pygments_lexer": "ipython3",
   "version": "3.11.9"
  }
 },
 "nbformat": 4,
 "nbformat_minor": 5
}
