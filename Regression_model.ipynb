{
  "cells": [
    {
      "cell_type": "code",
      "execution_count": 1,
      "metadata": {
        "id": "h7KHcQ0wPu18"
      },
      "outputs": [],
      "source": [
        "import numpy as np\n",
        "import pandas as pd\n",
        "import matplotlib.pyplot as plt\n",
        "import seaborn as sns\n",
        "import plotly.express as px"
      ]
    },
    {
      "cell_type": "code",
      "execution_count": 2,
      "metadata": {
        "colab": {
          "base_uri": "https://localhost:8080/"
        },
        "id": "omKA9_foR9nq",
        "outputId": "fe042781-5d92-469c-d20b-05c260a5ea3a"
      },
      "outputs": [],
      "source": [
        "file_path ='mobile_addiction_modified.csv'\n",
        "df=pd.read_csv(file_path)"
      ]
    },
    {
      "cell_type": "code",
      "execution_count": 3,
      "metadata": {
        "colab": {
          "base_uri": "https://localhost:8080/"
        },
        "id": "r7l-ggpiSKhC",
        "outputId": "98eca648-a67f-436d-8cf3-f1ee7504e119"
      },
      "outputs": [
        {
          "data": {
            "text/plain": [
              "(13589, 12)"
            ]
          },
          "execution_count": 3,
          "metadata": {},
          "output_type": "execute_result"
        }
      ],
      "source": [
        "df.shape"
      ]
    },
    {
      "cell_type": "code",
      "execution_count": 4,
      "metadata": {
        "colab": {
          "base_uri": "https://localhost:8080/",
          "height": 300
        },
        "id": "G7VmY8CCSQiS",
        "outputId": "2598d85d-dd5e-4d66-95e5-381a4c075264"
      },
      "outputs": [
        {
          "data": {
            "text/html": [
              "<div>\n",
              "<style scoped>\n",
              "    .dataframe tbody tr th:only-of-type {\n",
              "        vertical-align: middle;\n",
              "    }\n",
              "\n",
              "    .dataframe tbody tr th {\n",
              "        vertical-align: top;\n",
              "    }\n",
              "\n",
              "    .dataframe thead th {\n",
              "        text-align: right;\n",
              "    }\n",
              "</style>\n",
              "<table border=\"1\" class=\"dataframe\">\n",
              "  <thead>\n",
              "    <tr style=\"text-align: right;\">\n",
              "      <th></th>\n",
              "      <th>Unnamed: 0</th>\n",
              "      <th>daily_screen_time</th>\n",
              "      <th>app_sessions</th>\n",
              "      <th>social_media_usage</th>\n",
              "      <th>gaming_time</th>\n",
              "      <th>notifications</th>\n",
              "      <th>night_usage</th>\n",
              "      <th>age</th>\n",
              "      <th>work_study_hours</th>\n",
              "      <th>stress_level</th>\n",
              "      <th>apps_installed</th>\n",
              "      <th>Addiction Score</th>\n",
              "    </tr>\n",
              "  </thead>\n",
              "  <tbody>\n",
              "    <tr>\n",
              "      <th>count</th>\n",
              "      <td>13589.000000</td>\n",
              "      <td>13589.000000</td>\n",
              "      <td>13589.000000</td>\n",
              "      <td>13589.000000</td>\n",
              "      <td>13589.000000</td>\n",
              "      <td>13589.000000</td>\n",
              "      <td>13589.000000</td>\n",
              "      <td>13589.000000</td>\n",
              "      <td>13589.00000</td>\n",
              "      <td>13589.000000</td>\n",
              "      <td>13589.000000</td>\n",
              "      <td>13589.000000</td>\n",
              "    </tr>\n",
              "    <tr>\n",
              "      <th>mean</th>\n",
              "      <td>6794.000000</td>\n",
              "      <td>3.768121</td>\n",
              "      <td>30.037604</td>\n",
              "      <td>1.545956</td>\n",
              "      <td>1.034219</td>\n",
              "      <td>60.015306</td>\n",
              "      <td>0.990213</td>\n",
              "      <td>33.055707</td>\n",
              "      <td>5.97807</td>\n",
              "      <td>4.265288</td>\n",
              "      <td>27.532048</td>\n",
              "      <td>52.998189</td>\n",
              "    </tr>\n",
              "    <tr>\n",
              "      <th>std</th>\n",
              "      <td>3922.950739</td>\n",
              "      <td>1.897280</td>\n",
              "      <td>7.406585</td>\n",
              "      <td>1.204830</td>\n",
              "      <td>0.993172</td>\n",
              "      <td>12.732064</td>\n",
              "      <td>0.946606</td>\n",
              "      <td>10.118145</td>\n",
              "      <td>2.07139</td>\n",
              "      <td>2.288454</td>\n",
              "      <td>5.894790</td>\n",
              "      <td>17.330196</td>\n",
              "    </tr>\n",
              "    <tr>\n",
              "      <th>min</th>\n",
              "      <td>0.000000</td>\n",
              "      <td>0.000000</td>\n",
              "      <td>8.000000</td>\n",
              "      <td>0.000000</td>\n",
              "      <td>0.000000</td>\n",
              "      <td>25.000000</td>\n",
              "      <td>0.000000</td>\n",
              "      <td>15.000000</td>\n",
              "      <td>0.00000</td>\n",
              "      <td>0.000000</td>\n",
              "      <td>10.000000</td>\n",
              "      <td>10.692000</td>\n",
              "    </tr>\n",
              "    <tr>\n",
              "      <th>25%</th>\n",
              "      <td>3397.000000</td>\n",
              "      <td>2.000000</td>\n",
              "      <td>25.000000</td>\n",
              "      <td>1.000000</td>\n",
              "      <td>0.000000</td>\n",
              "      <td>50.000000</td>\n",
              "      <td>0.000000</td>\n",
              "      <td>25.000000</td>\n",
              "      <td>5.00000</td>\n",
              "      <td>3.000000</td>\n",
              "      <td>23.000000</td>\n",
              "      <td>38.016000</td>\n",
              "    </tr>\n",
              "    <tr>\n",
              "      <th>50%</th>\n",
              "      <td>6794.000000</td>\n",
              "      <td>4.000000</td>\n",
              "      <td>30.000000</td>\n",
              "      <td>1.000000</td>\n",
              "      <td>1.000000</td>\n",
              "      <td>59.000000</td>\n",
              "      <td>1.000000</td>\n",
              "      <td>33.000000</td>\n",
              "      <td>6.00000</td>\n",
              "      <td>4.000000</td>\n",
              "      <td>27.000000</td>\n",
              "      <td>52.635000</td>\n",
              "    </tr>\n",
              "    <tr>\n",
              "      <th>75%</th>\n",
              "      <td>10191.000000</td>\n",
              "      <td>5.000000</td>\n",
              "      <td>35.000000</td>\n",
              "      <td>2.000000</td>\n",
              "      <td>2.000000</td>\n",
              "      <td>70.000000</td>\n",
              "      <td>2.000000</td>\n",
              "      <td>41.000000</td>\n",
              "      <td>7.00000</td>\n",
              "      <td>6.000000</td>\n",
              "      <td>31.000000</td>\n",
              "      <td>67.749000</td>\n",
              "    </tr>\n",
              "    <tr>\n",
              "      <th>max</th>\n",
              "      <td>13588.000000</td>\n",
              "      <td>12.000000</td>\n",
              "      <td>60.000000</td>\n",
              "      <td>7.000000</td>\n",
              "      <td>6.000000</td>\n",
              "      <td>103.000000</td>\n",
              "      <td>6.000000</td>\n",
              "      <td>55.000000</td>\n",
              "      <td>14.00000</td>\n",
              "      <td>10.000000</td>\n",
              "      <td>55.000000</td>\n",
              "      <td>100.122000</td>\n",
              "    </tr>\n",
              "  </tbody>\n",
              "</table>\n",
              "</div>"
            ],
            "text/plain": [
              "         Unnamed: 0  daily_screen_time  app_sessions  social_media_usage  \\\n",
              "count  13589.000000       13589.000000  13589.000000        13589.000000   \n",
              "mean    6794.000000           3.768121     30.037604            1.545956   \n",
              "std     3922.950739           1.897280      7.406585            1.204830   \n",
              "min        0.000000           0.000000      8.000000            0.000000   \n",
              "25%     3397.000000           2.000000     25.000000            1.000000   \n",
              "50%     6794.000000           4.000000     30.000000            1.000000   \n",
              "75%    10191.000000           5.000000     35.000000            2.000000   \n",
              "max    13588.000000          12.000000     60.000000            7.000000   \n",
              "\n",
              "        gaming_time  notifications   night_usage           age  \\\n",
              "count  13589.000000   13589.000000  13589.000000  13589.000000   \n",
              "mean       1.034219      60.015306      0.990213     33.055707   \n",
              "std        0.993172      12.732064      0.946606     10.118145   \n",
              "min        0.000000      25.000000      0.000000     15.000000   \n",
              "25%        0.000000      50.000000      0.000000     25.000000   \n",
              "50%        1.000000      59.000000      1.000000     33.000000   \n",
              "75%        2.000000      70.000000      2.000000     41.000000   \n",
              "max        6.000000     103.000000      6.000000     55.000000   \n",
              "\n",
              "       work_study_hours  stress_level  apps_installed  Addiction Score  \n",
              "count       13589.00000  13589.000000    13589.000000     13589.000000  \n",
              "mean            5.97807      4.265288       27.532048        52.998189  \n",
              "std             2.07139      2.288454        5.894790        17.330196  \n",
              "min             0.00000      0.000000       10.000000        10.692000  \n",
              "25%             5.00000      3.000000       23.000000        38.016000  \n",
              "50%             6.00000      4.000000       27.000000        52.635000  \n",
              "75%             7.00000      6.000000       31.000000        67.749000  \n",
              "max            14.00000     10.000000       55.000000       100.122000  "
            ]
          },
          "execution_count": 4,
          "metadata": {},
          "output_type": "execute_result"
        }
      ],
      "source": [
        "df.describe()"
      ]
    },
    {
      "cell_type": "code",
      "execution_count": 5,
      "metadata": {
        "colab": {
          "base_uri": "https://localhost:8080/"
        },
        "id": "slrDNKsNSR9J",
        "outputId": "8e162fbf-323d-4c13-8480-7d5e09a3cbf7"
      },
      "outputs": [
        {
          "name": "stdout",
          "output_type": "stream",
          "text": [
            "<class 'pandas.core.frame.DataFrame'>\n",
            "RangeIndex: 13589 entries, 0 to 13588\n",
            "Data columns (total 12 columns):\n",
            " #   Column              Non-Null Count  Dtype  \n",
            "---  ------              --------------  -----  \n",
            " 0   Unnamed: 0          13589 non-null  int64  \n",
            " 1   daily_screen_time   13589 non-null  int64  \n",
            " 2   app_sessions        13589 non-null  int64  \n",
            " 3   social_media_usage  13589 non-null  int64  \n",
            " 4   gaming_time         13589 non-null  int64  \n",
            " 5   notifications       13589 non-null  int64  \n",
            " 6   night_usage         13589 non-null  int64  \n",
            " 7   age                 13589 non-null  int64  \n",
            " 8   work_study_hours    13589 non-null  int64  \n",
            " 9   stress_level        13589 non-null  int64  \n",
            " 10  apps_installed      13589 non-null  int64  \n",
            " 11  Addiction Score     13589 non-null  float64\n",
            "dtypes: float64(1), int64(11)\n",
            "memory usage: 1.2 MB\n"
          ]
        }
      ],
      "source": [
        "df.info()"
      ]
    },
    {
      "cell_type": "code",
      "execution_count": 6,
      "metadata": {
        "colab": {
          "base_uri": "https://localhost:8080/",
          "height": 206
        },
        "id": "hQbzEvg0SVH_",
        "outputId": "e5761557-a5ea-400d-bb27-a3226d13ff54"
      },
      "outputs": [
        {
          "data": {
            "text/html": [
              "<div>\n",
              "<style scoped>\n",
              "    .dataframe tbody tr th:only-of-type {\n",
              "        vertical-align: middle;\n",
              "    }\n",
              "\n",
              "    .dataframe tbody tr th {\n",
              "        vertical-align: top;\n",
              "    }\n",
              "\n",
              "    .dataframe thead th {\n",
              "        text-align: right;\n",
              "    }\n",
              "</style>\n",
              "<table border=\"1\" class=\"dataframe\">\n",
              "  <thead>\n",
              "    <tr style=\"text-align: right;\">\n",
              "      <th></th>\n",
              "      <th>daily_screen_time</th>\n",
              "      <th>app_sessions</th>\n",
              "      <th>social_media_usage</th>\n",
              "      <th>gaming_time</th>\n",
              "      <th>notifications</th>\n",
              "      <th>night_usage</th>\n",
              "      <th>age</th>\n",
              "      <th>work_study_hours</th>\n",
              "      <th>stress_level</th>\n",
              "      <th>apps_installed</th>\n",
              "      <th>Addiction Score</th>\n",
              "    </tr>\n",
              "  </thead>\n",
              "  <tbody>\n",
              "    <tr>\n",
              "      <th>0</th>\n",
              "      <td>2</td>\n",
              "      <td>29</td>\n",
              "      <td>0</td>\n",
              "      <td>0</td>\n",
              "      <td>49</td>\n",
              "      <td>0</td>\n",
              "      <td>44</td>\n",
              "      <td>5</td>\n",
              "      <td>3</td>\n",
              "      <td>35</td>\n",
              "      <td>28.281</td>\n",
              "    </tr>\n",
              "    <tr>\n",
              "      <th>1</th>\n",
              "      <td>6</td>\n",
              "      <td>29</td>\n",
              "      <td>1</td>\n",
              "      <td>2</td>\n",
              "      <td>65</td>\n",
              "      <td>1</td>\n",
              "      <td>29</td>\n",
              "      <td>5</td>\n",
              "      <td>9</td>\n",
              "      <td>21</td>\n",
              "      <td>73.920</td>\n",
              "    </tr>\n",
              "    <tr>\n",
              "      <th>2</th>\n",
              "      <td>9</td>\n",
              "      <td>28</td>\n",
              "      <td>2</td>\n",
              "      <td>0</td>\n",
              "      <td>57</td>\n",
              "      <td>3</td>\n",
              "      <td>28</td>\n",
              "      <td>7</td>\n",
              "      <td>5</td>\n",
              "      <td>39</td>\n",
              "      <td>62.568</td>\n",
              "    </tr>\n",
              "    <tr>\n",
              "      <th>3</th>\n",
              "      <td>6</td>\n",
              "      <td>39</td>\n",
              "      <td>2</td>\n",
              "      <td>0</td>\n",
              "      <td>69</td>\n",
              "      <td>1</td>\n",
              "      <td>28</td>\n",
              "      <td>6</td>\n",
              "      <td>8</td>\n",
              "      <td>24</td>\n",
              "      <td>73.392</td>\n",
              "    </tr>\n",
              "    <tr>\n",
              "      <th>4</th>\n",
              "      <td>5</td>\n",
              "      <td>37</td>\n",
              "      <td>3</td>\n",
              "      <td>1</td>\n",
              "      <td>64</td>\n",
              "      <td>2</td>\n",
              "      <td>27</td>\n",
              "      <td>4</td>\n",
              "      <td>5</td>\n",
              "      <td>26</td>\n",
              "      <td>71.082</td>\n",
              "    </tr>\n",
              "  </tbody>\n",
              "</table>\n",
              "</div>"
            ],
            "text/plain": [
              "   daily_screen_time  app_sessions  social_media_usage  gaming_time  \\\n",
              "0                  2            29                   0            0   \n",
              "1                  6            29                   1            2   \n",
              "2                  9            28                   2            0   \n",
              "3                  6            39                   2            0   \n",
              "4                  5            37                   3            1   \n",
              "\n",
              "   notifications  night_usage  age  work_study_hours  stress_level  \\\n",
              "0             49            0   44                 5             3   \n",
              "1             65            1   29                 5             9   \n",
              "2             57            3   28                 7             5   \n",
              "3             69            1   28                 6             8   \n",
              "4             64            2   27                 4             5   \n",
              "\n",
              "   apps_installed  Addiction Score  \n",
              "0              35           28.281  \n",
              "1              21           73.920  \n",
              "2              39           62.568  \n",
              "3              24           73.392  \n",
              "4              26           71.082  "
            ]
          },
          "execution_count": 6,
          "metadata": {},
          "output_type": "execute_result"
        }
      ],
      "source": [
        "df = df.select_dtypes(include=['number'])\n",
        "df = df.drop(['Unnamed: 0'], axis=1)\n",
        "df.head()\n",
        "\n"
      ]
    },
    {
      "cell_type": "markdown",
      "metadata": {
        "id": "Es1_C61_aiIk"
      },
      "source": [
        "# Regression\n",
        "\n",
        "- Built-In Linear Regression (from lec)\n",
        "- Built-In Ridge Regression (from lec)\n",
        "- Built-In Polynomial regression (from lec)\n",
        "\n",
        "- Manual Ridge Regression (from lec)\n",
        "- Manual Polynomial regression (from lec)\n",
        "- Decision Tree Regression\n",
        "- Manual Locally Weighted Regression (LWR)"
      ]
    },
    {
      "cell_type": "code",
      "execution_count": 7,
      "metadata": {
        "id": "Epp7g3MUal2r"
      },
      "outputs": [],
      "source": [
        "import numpy as np\n",
        "\n",
        "def print_metrics(y_true, y_pred, label):\n",
        "    # Regression metrics\n",
        "    mse  = np.mean((y_true - y_pred) ** 2)\n",
        "    rmse = np.sqrt(mse)\n",
        "    mae  = np.mean(np.abs(y_true - y_pred))\n",
        "    r2   = 1 - np.sum((y_true - y_pred)**2) / np.sum((y_true - np.mean(y_true))**2)\n",
        "\n",
        "    print(\n",
        "        f\"{label} → \"\n",
        "        f\"MSE: {mse:.4f}, RMSE: {rmse:.4f}, MAE: {mae:.4f}, R²: {r2:.4f};  \"\n",
        "    )\n"
      ]
    },
    {
      "cell_type": "markdown",
      "metadata": {
        "id": "_8RNVbQdaqC2"
      },
      "source": [
        "## Built-In Regression"
      ]
    },
    {
      "cell_type": "code",
      "execution_count": 8,
      "metadata": {
        "id": "LyfBXx1Qar-O"
      },
      "outputs": [],
      "source": [
        "from sklearn.model_selection import train_test_split\n",
        "\n",
        "# Define features (X) and Target (y)\n",
        "X = df.drop(columns=[\"Addiction Score\"])\n",
        "y = df[\"Addiction Score\"]\n",
        "\n",
        "# Split the data into training and testing\n",
        "X_train, X_test, y_train, y_test = train_test_split(X, y, test_size=0.2, random_state=42)\n"
      ]
    },
    {
      "cell_type": "code",
      "execution_count": 9,
      "metadata": {
        "id": "BNuegP9vauje"
      },
      "outputs": [],
      "source": [
        "from sklearn.preprocessing import StandardScaler\n",
        "\n",
        "# scaling the data using normalization\n",
        "scaler = StandardScaler()\n",
        "\n",
        "X_train_scaled = scaler.fit_transform(X_train)\n",
        "X_test_scaled = scaler.transform(X_test)\n"
      ]
    },
    {
      "cell_type": "markdown",
      "metadata": {
        "id": "jVGO-Hywaw6V"
      },
      "source": [
        "## Built-In Linear Regression"
      ]
    },
    {
      "cell_type": "code",
      "execution_count": 10,
      "metadata": {
        "colab": {
          "base_uri": "https://localhost:8080/"
        },
        "id": "UBfW03EAawG2",
        "outputId": "62d4ed6b-484c-4514-e2cb-1a92c55084a3"
      },
      "outputs": [
        {
          "name": "stdout",
          "output_type": "stream",
          "text": [
            "Linear Regression:\n",
            "MSE:  5.103401827623396e-28\n",
            "R2:  1.0\n"
          ]
        }
      ],
      "source": [
        "from sklearn.linear_model import LinearRegression\n",
        "from sklearn.preprocessing import PolynomialFeatures\n",
        "from sklearn.linear_model import Ridge\n",
        "from sklearn.metrics import mean_squared_error, r2_score\n",
        "\n",
        "\n",
        "# Train the Linear Regression model\n",
        "LR_model = LinearRegression()\n",
        "LR_model.fit(X_train_scaled, y_train)\n",
        "\n",
        "y_pred_LR = LR_model.predict(X_test_scaled)\n",
        "\n",
        "mse_LR = mean_squared_error(y_test, y_pred_LR)\n",
        "r2_LR = r2_score(y_test, y_pred_LR)\n",
        "\n",
        "print(\"Linear Regression:\")\n",
        "print(\"MSE: \", mse_LR)\n",
        "print(\"R2: \", r2_LR)\n"
      ]
    },
    {
      "cell_type": "markdown",
      "metadata": {
        "id": "Ups1xSPca4nA"
      },
      "source": [
        "## Built-In Polynomial Regression"
      ]
    },
    {
      "cell_type": "code",
      "execution_count": 11,
      "metadata": {
        "colab": {
          "base_uri": "https://localhost:8080/"
        },
        "id": "1wjCtCYda44n",
        "outputId": "84b2a70c-057e-45a2-f19b-546f1e571f9e"
      },
      "outputs": [
        {
          "name": "stdout",
          "output_type": "stream",
          "text": [
            "\n",
            "Polynomial Regression (degree=2):\n",
            "MSE:  1.2295305645924415e-27\n",
            "R2:  1.0\n"
          ]
        }
      ],
      "source": [
        "# Define the degree of the polynomial\n",
        "poly = PolynomialFeatures(degree=2)\n",
        "\n",
        "# Transform the scaled features into polynomial features\n",
        "X_train_poly = poly.fit_transform(X_train_scaled)\n",
        "X_test_poly = poly.transform(X_test_scaled)\n",
        "\n",
        "# Train the Polynomial Regression model\n",
        "poly_model = LinearRegression()\n",
        "poly_model.fit(X_train_poly, y_train)\n",
        "\n",
        "# Predict using the polynomial model\n",
        "y_pred_poly = poly_model.predict(X_test_poly)\n",
        "\n",
        "# Evaluate the polynomial regression model\n",
        "mse_poly = mean_squared_error(y_test, y_pred_poly)\n",
        "r2_poly = r2_score(y_test, y_pred_poly)\n",
        "\n",
        "print(\"\\nPolynomial Regression (degree=2):\")\n",
        "print(\"MSE: \", mse_poly)\n",
        "print(\"R2: \", r2_poly)"
      ]
    },
    {
      "cell_type": "markdown",
      "metadata": {
        "id": "G86D4dECa9GZ"
      },
      "source": [
        "## Built-In Ridge Regression"
      ]
    },
    {
      "cell_type": "code",
      "execution_count": null,
      "metadata": {
        "colab": {
          "base_uri": "https://localhost:8080/",
          "height": 578,
          "referenced_widgets": [
            "d43fc67265314563b39803a056de7f2a",
            "e52d5febe50b409083016bc0b6827e77",
            "ee43481d989f4a9ab4ca6147c1a810b0",
            "232112f2c7d94c918b97921f6090bd5e",
            "2470a445452d40dfadfa62d40c27482a",
            "a2ecf5acb08e44218e62eb3bdb591feb",
            "5589e7f5d9ae4c7eab39f2ad2348d180"
          ]
        },
        "id": "DRH-byMSbCxh",
        "outputId": "0953efed-fc06-4d71-d5b0-fcfbe8335dfd"
      },
      "outputs": [
        {
          "data": {
            "application/vnd.jupyter.widget-view+json": {
              "model_id": "f3b3ea721ba84d6caa3a7722e3c17151",
              "version_major": 2,
              "version_minor": 0
            },
            "text/plain": [
              "interactive(children=(IntSlider(value=0, description='Alpha index:', max=11, style=SliderStyle(description_wid…"
            ]
          },
          "metadata": {},
          "output_type": "display_data"
        },
        {
          "data": {
            "text/plain": [
              "<function __main__.ridge_interactive(alpha_index)>"
            ]
          },
          "execution_count": 12,
          "metadata": {},
          "output_type": "execute_result"
        }
      ],
      "source": [
        "import ipywidgets as widgets\n",
        "from IPython.display import clear_output\n",
        "\n",
        "# Define alpha range\n",
        "alpha_values = [0.0001 * (10 ** i) for i in range(12)]\n",
        "\n",
        "# Function to train Ridge model and show results\n",
        "def ridge_interactive(alpha_index):\n",
        "    alpha = alpha_values[alpha_index]\n",
        "\n",
        "    # Train model\n",
        "    model = Ridge(alpha=alpha)\n",
        "    model.fit(X_train_scaled, y_train)\n",
        "    y_pred = model.predict(X_test_scaled)\n",
        "\n",
        "    # Compute metrics\n",
        "    mse = mean_squared_error(y_test, y_pred)\n",
        "    r2 = r2_score(y_test, y_pred)\n",
        "\n",
        "    # Display scores\n",
        "    clear_output(wait=True)\n",
        "    print(f\"Alpha = {alpha:.5f}\")\n",
        "    print(f\"MSE = {mse:.5f}\")\n",
        "    print(f\"R² = {r2:.5f}\")\n",
        "\n",
        "    # Plot actual vs predicted\n",
        "    plt.figure(figsize=(6, 4))\n",
        "    plt.scatter(y_test, y_pred, alpha=0.7)\n",
        "    plt.plot([y_test.min(), y_test.max()], [y_test.min(), y_test.max()], 'r--')\n",
        "    plt.xlabel(\"Actual\")\n",
        "    plt.ylabel(\"Predicted\")\n",
        "    plt.title(f\"Ridge Regression (alpha = {alpha:.5f})\")\n",
        "    plt.grid(True)\n",
        "    plt.tight_layout()\n",
        "    plt.show()\n",
        "\n",
        "# Create slider for alpha selection\n",
        "alpha_slider = widgets.IntSlider(\n",
        "    value=0,\n",
        "    min=0,\n",
        "    max=len(alpha_values) - 1,\n",
        "    step=1,\n",
        "    description='Alpha index:',\n",
        "    style={'description_width': 'initial'}\n",
        ")\n",
        "\n",
        "# Create interactive output\n",
        "widgets.interact(ridge_interactive, alpha_index=alpha_slider)\n"
      ]
    },
    {
      "cell_type": "markdown",
      "metadata": {
        "id": "nEV4LHTxbG_P"
      },
      "source": [
        "## Manual Ridge Regression (from Lec)"
      ]
    },
    {
      "cell_type": "code",
      "execution_count": 13,
      "metadata": {
        "id": "chKPaXVFbH6B"
      },
      "outputs": [],
      "source": [
        "import numpy as np\n",
        "from ipywidgets import interact, FloatSlider\n",
        "from sklearn.model_selection import train_test_split\n",
        "\n",
        "# Separate features and target\n",
        "X_raw = df.drop(columns=['Addiction Score'])\n",
        "y = df['Addiction Score'].values\n",
        "\n",
        "# Split data into train and test sets\n",
        "X_train_raw, X_test_raw, y_train, y_test = train_test_split(X_raw, y, test_size=0.2, random_state=42)\n",
        "\n"
      ]
    },
    {
      "cell_type": "code",
      "execution_count": 14,
      "metadata": {
        "colab": {
          "base_uri": "https://localhost:8080/",
          "height": 171,
          "referenced_widgets": [
            "7668fad9c6d94492aad04bbe13ffb623",
            "05d5f5e4612c4e6fb46b10762d1f4c62",
            "1d7d020fd1c0434ca7b0506ec49f3c59",
            "56fd743fe8db44678c256047ef393eae",
            "b10a23837b664cf980e0a9eba878a2af",
            "148b2a250c104b90a26847722ca19be1",
            "aceb352f2411489c82bfda47e47a156b"
          ]
        },
        "id": "8qNFLJHzbJch",
        "outputId": "8e9f5b04-8762-421c-d65d-33bee54a188c"
      },
      "outputs": [
        {
          "data": {
            "application/vnd.jupyter.widget-view+json": {
              "model_id": "22a404e9f3154560926092249b5c4aee",
              "version_major": 2,
              "version_minor": 0
            },
            "text/plain": [
              "interactive(children=(FloatSlider(value=10.0, description='alpha', step=1.0), Output()), _dom_classes=('widget…"
            ]
          },
          "metadata": {},
          "output_type": "display_data"
        }
      ],
      "source": [
        "\n",
        "\n",
        "X_train = np.hstack([np.ones((X_train_raw.shape[0], 1)), X_train_raw.values])\n",
        "X_test = np.hstack([np.ones((X_test_raw.shape[0], 1)), X_test_raw.values])\n",
        "\n",
        "# Define interactive function\n",
        "def ridge_with_output(alpha):\n",
        "    I = np.eye(X_train.shape[1])\n",
        "    I[0, 0] = 0  # Don't regularize intercept\n",
        "    w_ridge = np.linalg.inv(X_train.T @ X_train + alpha * I) @ X_train.T @ y_train\n",
        "\n",
        "    y_pred_train = X_train @ w_ridge\n",
        "    y_pred_test = X_test @ w_ridge\n",
        "\n",
        "    # Print weights and metrics\n",
        "    print(f\"\\nRidge Weights (alpha={alpha:.1f}):\\n\", w_ridge)\n",
        "    print_metrics(y_train, y_pred_train, 'Train Set')\n",
        "    print_metrics(y_test, y_pred_test, 'Test Set')\n",
        "\n",
        "# Interactive slider\n",
        "interact(ridge_with_output, alpha=FloatSlider(value=10, min=0, max=100, step=1));\n"
      ]
    },
    {
      "cell_type": "markdown",
      "metadata": {
        "id": "rMSTCY9rbNla"
      },
      "source": [
        "## Manual Polynomial regression (from lec)"
      ]
    },
    {
      "cell_type": "code",
      "execution_count": 19,
      "metadata": {
        "colab": {
          "base_uri": "https://localhost:8080/",
          "height": 597,
          "referenced_widgets": [
            "afc680135ae5413cb7c760623a74bb11",
            "bd16e17f53094e649132af7d03480839",
            "f74840a4df9f4c92909b97ff06c88edd",
            "5cd7a89d07d8449bbeb7595dc6f6a517",
            "bdacf676e25248c789ee5e556dc8f07c",
            "42b3201392264f608aa0e9084b0ad96d",
            "588f1b317d7140dc956b187c69c3bdea"
          ]
        },
        "id": "NQSY9PcEbPMC",
        "outputId": "1aaf6e85-5b22-47b6-9972-56ebef1b9c75"
      },
      "outputs": [
        {
          "data": {
            "application/vnd.jupyter.widget-view+json": {
              "model_id": "569580c488914765bfe0c5b1c14b2800",
              "version_major": 2,
              "version_minor": 0
            },
            "text/plain": [
              "interactive(children=(IntSlider(value=2, description='Degree', max=20, min=1), Output()), _dom_classes=('widge…"
            ]
          },
          "metadata": {},
          "output_type": "display_data"
        },
        {
          "data": {
            "text/plain": [
              "<function __main__.run_poly_regression(degree)>"
            ]
          },
          "execution_count": 19,
          "metadata": {},
          "output_type": "execute_result"
        }
      ],
      "source": [
        "import numpy as np\n",
        "from sklearn.model_selection import train_test_split\n",
        "import ipywidgets as widgets\n",
        "\n",
        "# 1. Split (and immediately convert to numpy)\n",
        "Xtr_df, Xte_df, ytr, yte = train_test_split(X_raw, y, test_size=0.2, random_state=42)\n",
        "Xtr, Xte = Xtr_df.values, Xte_df.values\n",
        "\n",
        "# 2. Poly‐feature builder (now X is always np.ndarray)\n",
        "def build_poly_features(X, degree):\n",
        "    feats = [np.ones(X.shape[0])]\n",
        "    for d in range(1, degree + 1):\n",
        "        for j in range(X.shape[1]):\n",
        "            feats.append(X[:, j] ** d)\n",
        "    return np.column_stack(feats)\n",
        "\n",
        "# 3. Interactive fit\n",
        "def run_poly_regression(degree):\n",
        "    A, B = build_poly_features(Xtr, degree), build_poly_features(Xte, degree)\n",
        "    β = np.linalg.pinv(A) @ ytr\n",
        "    print(f\"\\nDegree = {degree}\")\n",
        "    print_metrics(ytr, A @ β, \"Train set\")\n",
        "    print_metrics(yte, B @ β, \"Test set\")\n",
        "\n",
        "widgets.interact(\n",
        "    run_poly_regression,\n",
        "    degree=widgets.IntSlider(min=1, max=20, step=1, value=2, description=\"Degree\")\n",
        ")\n"
      ]
    },
    {
      "cell_type": "markdown",
      "metadata": {
        "id": "X3jKYtWobRT7"
      },
      "source": [
        "## Decision Tree Regression"
      ]
    },
    {
      "cell_type": "code",
      "execution_count": 22,
      "metadata": {
        "colab": {
          "base_uri": "https://localhost:8080/",
          "height": 1000,
          "referenced_widgets": [
            "6f6a1426c1d4445da0beefefcc1cbfd3",
            "26ae1cd4908541e7a2a711ee97a2e8f9",
            "a1ef831b9d2744809f15c734fa9efd5e",
            "7cd539d04b0c4617bd0d035a4ea65051",
            "6e8787a4544d40bf827ffec2ea3849e9",
            "9f3638e4d8dd420398dabd55c8881b9b",
            "057763b24a3e4b398f7720261382a016"
          ]
        },
        "id": "TLMJWrOAbT08",
        "outputId": "d90215bb-03e5-4007-aabf-b3c0bccd1034"
      },
      "outputs": [
        {
          "data": {
            "application/vnd.jupyter.widget-view+json": {
              "model_id": "b7bc7b87654e4cc397dc676219fd2c86",
              "version_major": 2,
              "version_minor": 0
            },
            "text/plain": [
              "interactive(children=(IntSlider(value=5, continuous_update=False, description='Max Depth', max=10, min=1), Out…"
            ]
          },
          "metadata": {},
          "output_type": "display_data"
        },
        {
          "data": {
            "text/plain": [
              "<function __main__.run_dt(depth)>"
            ]
          },
          "execution_count": 22,
          "metadata": {},
          "output_type": "execute_result"
        }
      ],
      "source": [
        "from sklearn.model_selection import train_test_split\n",
        "from sklearn.tree import DecisionTreeRegressor, plot_tree\n",
        "import matplotlib.pyplot as plt\n",
        "import ipywidgets as widgets\n",
        "\n",
        "\n",
        "feature_names = list(df.drop(columns=['Addiction Score']).columns)\n",
        "\n",
        "Xtr, Xte, ytr, yte = train_test_split(\n",
        "    df[feature_names].values, df['Addiction Score'].values,\n",
        "    test_size=0.2, random_state=42\n",
        ")\n",
        "\n",
        "def run_dt(depth):\n",
        "    dt = DecisionTreeRegressor(max_depth=depth, min_samples_leaf=5, random_state=42)\n",
        "    dt.fit(Xtr, ytr)\n",
        "    print(f\"\\nmax_depth = {depth}\")\n",
        "    print_metrics(yte, dt.predict(Xte), \"Test Set\")\n",
        "    plt.figure(figsize=(60,16))\n",
        "    plot_tree(\n",
        "        dt,\n",
        "        feature_names=feature_names,\n",
        "        filled=True, rounded=True, fontsize=10\n",
        "    )\n",
        "    plt.tight_layout()\n",
        "    plt.show()\n",
        "\n",
        "widgets.interact(\n",
        "    run_dt,\n",
        "    depth=widgets.IntSlider(value=5, min=1, max=10, step=1, description=\"Max Depth\", continuous_update=False)\n",
        ")\n",
        "\n"
      ]
    },
    {
      "cell_type": "markdown",
      "metadata": {
        "id": "bYer4V_fbWGU"
      },
      "source": [
        "#### Explanation for the root node\n",
        "\n",
        "notifications <= 60.5\n",
        "This is the split condition at this node: any sample whose notifications feature is ≤ 60.5 will follow the left branch, and the others go right.\n",
        "\n",
        "squared_error = 300.172\n",
        "This is the node’s impurity, measured as the mean-squared error (MSE) of the target values if you were to predict every sample here by the same constant. In other words, if you predict each of these 10 871 samples by the node’s average (52.922, see below), you’d incur on average a squared error of 300.172.\n",
        "\n",
        "samples = 10871\n",
        "There are 10 871 training examples that satisfy notifications <= 60.5 and have reached this node.\n",
        "\n",
        "value = 52.922\n",
        "This is the node’s prediction, i.e. the mean of the target (Addiction Score, or whatever you’re predicting) over those 10 871 samples."
      ]
    },
    {
      "cell_type": "markdown",
      "metadata": {
        "id": "qnaFiSVTbcEt"
      },
      "source": [
        "## Manual Locally Weighted Regression (LWR)"
      ]
    },
    {
      "cell_type": "code",
      "execution_count": 28,
      "metadata": {
        "colab": {
          "base_uri": "https://localhost:8080/",
          "height": 206,
          "referenced_widgets": [
            "7a17c1faf36b47cab3f82fc7cf7abc16",
            "829463e63ef34d77b46f951cf3bca521",
            "76c9dcb8a1dc418e978d24bbebc0df77",
            "0bac84c12d504fefb0cadc6c295b30ea",
            "2e157b19c276418b89555bfd108415da",
            "8f7bc5364d884fa08bdbc5505f9bbc62",
            "0056feb3848844caab27dd4eca29956b"
          ]
        },
        "id": "RVcnxmz8bc5r",
        "outputId": "3010b9e8-2acd-4813-9b04-0049f31ef580"
      },
      "outputs": [
        {
          "data": {
            "application/vnd.jupyter.widget-view+json": {
              "model_id": "5bd8f4b1db3e444f87bf803233bcecb3",
              "version_major": 2,
              "version_minor": 0
            },
            "text/plain": [
              "interactive(children=(FloatSlider(value=5.0, continuous_update=False, description='tau:', min=5.0, step=5.0), …"
            ]
          },
          "metadata": {},
          "output_type": "display_data"
        },
        {
          "data": {
            "text/plain": [
              "<function __main__.lwlr_pred(tau)>"
            ]
          },
          "execution_count": 28,
          "metadata": {},
          "output_type": "execute_result"
        }
      ],
      "source": [
        "import numpy as np\n",
        "from numpy.linalg import solve\n",
        "from sklearn.model_selection import train_test_split\n",
        "import ipywidgets as widgets\n",
        "\n",
        "# 1. Split & bias\n",
        "Xtr_base, Xte_base, ytr, yte = train_test_split(X_raw, y, test_size=0.2, random_state=42)\n",
        "m_tr, d = Xtr_base.shape\n",
        "m_te     = Xte_base.shape[0]\n",
        "Xtr = np.hstack([np.ones((m_tr,1)), Xtr_base])\n",
        "Xte = np.hstack([np.ones((m_te,1)), Xte_base])\n",
        "\n",
        "lam = 1e-5  # fixed regularization\n",
        "\n",
        "# 2. LWR predictor with variable tau\n",
        "def lwlr_pred(tau):\n",
        "    def predict(X_train, y_train, x_q):\n",
        "        diffs = X_train - x_q\n",
        "        w     = np.exp(-np.einsum('ij,ij->i', diffs, diffs)/(2*tau*tau))\n",
        "        sw    = np.sqrt(w)\n",
        "\n",
        "        # weighted matrix\n",
        "        Xw = X_train * sw[:, None]\n",
        "        A  = Xw.T @ Xw\n",
        "        b  = Xw.T @ (y_train * w)\n",
        "\n",
        "        # regularize dynamically\n",
        "        p  = A.shape[0]\n",
        "        A += lam * np.eye(p)\n",
        "\n",
        "        β  = solve(A, b)\n",
        "        return x_q @ β\n",
        "\n",
        "    ytr_pred = np.array([predict(Xtr, ytr, x) for x in Xtr])\n",
        "    yte_pred = np.array([predict(Xtr, ytr, x) for x in Xte])\n",
        "\n",
        "    print(f\"\\ntau = {tau:.2f}\")\n",
        "    print_metrics(ytr, ytr_pred, \"Train LWR\")\n",
        "    print_metrics(yte, yte_pred, \"Test LWR\")\n",
        "\n",
        "\n",
        "# 3. Slider\n",
        "slider = widgets.FloatSlider(\n",
        "    value=1.0, min=5, max=100.0, step=5, description='tau:',\n",
        "    continuous_update=False\n",
        ")\n",
        "widgets.interact(lwlr_pred, tau=slider)\n"
      ]
    },
    {
      "cell_type": "markdown",
      "metadata": {
        "id": "d9C0H7BBbgEN"
      },
      "source": [
        "### 1. Query-point problem  \n",
        "Fit a separate linear model around each query point $x^*$ rather than globally.\n",
        "\n",
        "### 2. Gaussian weights  \n",
        "$$\n",
        "w_i = \\exp\\bigl(-\\frac{\\|x_i - x^*\\|^2}{2\\tau^2}\\bigr) \\quad (2.1)\n",
        "$$  \n",
        "where $\\tau$ is the bandwidth.\n",
        "\n",
        "### 3. Weighted normal equations  \n",
        "Let $X\\in\\mathbb{R}^{m\\times(d+1)}$ (with a leading column of 1’s) and $y\\in\\mathbb{R}^m$. Define  \n",
        "$$\n",
        "X_w = \\mathrm{diag}(\\sqrt{w})\\,X,\\quad y_w = \\mathrm{diag}(\\sqrt{w})\\,y \\quad (3.1)\n",
        "$$  \n",
        "Then  \n",
        "$$\n",
        "\\beta(x^*) = (X_w^\\top X_w)^{-1}X_w^\\top y_w \\quad (3.2)\n",
        "$$\n",
        "\n",
        "### 4. Ridge regularization  (we need it when weights are so small, and inverting the matrix gives errors)\n",
        "To stabilize inversion, add $\\lambda I$:  \n",
        "$$\n",
        "\\beta(x^*) = (X_w^\\top X_w + \\lambda I)^{-1}X_w^\\top y_w \\quad (4.1)\n",
        "$$\n",
        "\n",
        "### 5. Prediction  \n",
        "$$\n",
        "\\hat y(x^*) = x^{*\\top}\\beta(x^*) \\quad (5.1)\n",
        "$$\n",
        "\n",
        "Running this for each of the $m$ points yields the fitted vector $\\hat y\\in\\mathbb{R}^m$.\n"
      ]
    }
  ],
  "metadata": {
    "colab": {
      "provenance": []
    },
    "kernelspec": {
      "display_name": "Python 3",
      "name": "python3"
    },
    "language_info": {
      "codemirror_mode": {
        "name": "ipython",
        "version": 3
      },
      "file_extension": ".py",
      "mimetype": "text/x-python",
      "name": "python",
      "nbconvert_exporter": "python",
      "pygments_lexer": "ipython3",
      "version": "3.9.20"
    },
    "widgets": {
      "application/vnd.jupyter.widget-state+json": {
        "0056feb3848844caab27dd4eca29956b": {
          "model_module": "@jupyter-widgets/base",
          "model_module_version": "1.2.0",
          "model_name": "LayoutModel",
          "state": {
            "_model_module": "@jupyter-widgets/base",
            "_model_module_version": "1.2.0",
            "_model_name": "LayoutModel",
            "_view_count": null,
            "_view_module": "@jupyter-widgets/base",
            "_view_module_version": "1.2.0",
            "_view_name": "LayoutView",
            "align_content": null,
            "align_items": null,
            "align_self": null,
            "border": null,
            "bottom": null,
            "display": null,
            "flex": null,
            "flex_flow": null,
            "grid_area": null,
            "grid_auto_columns": null,
            "grid_auto_flow": null,
            "grid_auto_rows": null,
            "grid_column": null,
            "grid_gap": null,
            "grid_row": null,
            "grid_template_areas": null,
            "grid_template_columns": null,
            "grid_template_rows": null,
            "height": null,
            "justify_content": null,
            "justify_items": null,
            "left": null,
            "margin": null,
            "max_height": null,
            "max_width": null,
            "min_height": null,
            "min_width": null,
            "object_fit": null,
            "object_position": null,
            "order": null,
            "overflow": null,
            "overflow_x": null,
            "overflow_y": null,
            "padding": null,
            "right": null,
            "top": null,
            "visibility": null,
            "width": null
          }
        },
        "057763b24a3e4b398f7720261382a016": {
          "model_module": "@jupyter-widgets/base",
          "model_module_version": "1.2.0",
          "model_name": "LayoutModel",
          "state": {
            "_model_module": "@jupyter-widgets/base",
            "_model_module_version": "1.2.0",
            "_model_name": "LayoutModel",
            "_view_count": null,
            "_view_module": "@jupyter-widgets/base",
            "_view_module_version": "1.2.0",
            "_view_name": "LayoutView",
            "align_content": null,
            "align_items": null,
            "align_self": null,
            "border": null,
            "bottom": null,
            "display": null,
            "flex": null,
            "flex_flow": null,
            "grid_area": null,
            "grid_auto_columns": null,
            "grid_auto_flow": null,
            "grid_auto_rows": null,
            "grid_column": null,
            "grid_gap": null,
            "grid_row": null,
            "grid_template_areas": null,
            "grid_template_columns": null,
            "grid_template_rows": null,
            "height": null,
            "justify_content": null,
            "justify_items": null,
            "left": null,
            "margin": null,
            "max_height": null,
            "max_width": null,
            "min_height": null,
            "min_width": null,
            "object_fit": null,
            "object_position": null,
            "order": null,
            "overflow": null,
            "overflow_x": null,
            "overflow_y": null,
            "padding": null,
            "right": null,
            "top": null,
            "visibility": null,
            "width": null
          }
        },
        "05d5f5e4612c4e6fb46b10762d1f4c62": {
          "model_module": "@jupyter-widgets/controls",
          "model_module_version": "1.5.0",
          "model_name": "FloatSliderModel",
          "state": {
            "_dom_classes": [],
            "_model_module": "@jupyter-widgets/controls",
            "_model_module_version": "1.5.0",
            "_model_name": "FloatSliderModel",
            "_view_count": null,
            "_view_module": "@jupyter-widgets/controls",
            "_view_module_version": "1.5.0",
            "_view_name": "FloatSliderView",
            "continuous_update": true,
            "description": "alpha",
            "description_tooltip": null,
            "disabled": false,
            "layout": "IPY_MODEL_b10a23837b664cf980e0a9eba878a2af",
            "max": 100,
            "min": 0,
            "orientation": "horizontal",
            "readout": true,
            "readout_format": ".2f",
            "step": 1,
            "style": "IPY_MODEL_148b2a250c104b90a26847722ca19be1",
            "value": 10
          }
        },
        "0bac84c12d504fefb0cadc6c295b30ea": {
          "model_module": "@jupyter-widgets/base",
          "model_module_version": "1.2.0",
          "model_name": "LayoutModel",
          "state": {
            "_model_module": "@jupyter-widgets/base",
            "_model_module_version": "1.2.0",
            "_model_name": "LayoutModel",
            "_view_count": null,
            "_view_module": "@jupyter-widgets/base",
            "_view_module_version": "1.2.0",
            "_view_name": "LayoutView",
            "align_content": null,
            "align_items": null,
            "align_self": null,
            "border": null,
            "bottom": null,
            "display": null,
            "flex": null,
            "flex_flow": null,
            "grid_area": null,
            "grid_auto_columns": null,
            "grid_auto_flow": null,
            "grid_auto_rows": null,
            "grid_column": null,
            "grid_gap": null,
            "grid_row": null,
            "grid_template_areas": null,
            "grid_template_columns": null,
            "grid_template_rows": null,
            "height": null,
            "justify_content": null,
            "justify_items": null,
            "left": null,
            "margin": null,
            "max_height": null,
            "max_width": null,
            "min_height": null,
            "min_width": null,
            "object_fit": null,
            "object_position": null,
            "order": null,
            "overflow": null,
            "overflow_x": null,
            "overflow_y": null,
            "padding": null,
            "right": null,
            "top": null,
            "visibility": null,
            "width": null
          }
        },
        "148b2a250c104b90a26847722ca19be1": {
          "model_module": "@jupyter-widgets/controls",
          "model_module_version": "1.5.0",
          "model_name": "SliderStyleModel",
          "state": {
            "_model_module": "@jupyter-widgets/controls",
            "_model_module_version": "1.5.0",
            "_model_name": "SliderStyleModel",
            "_view_count": null,
            "_view_module": "@jupyter-widgets/base",
            "_view_module_version": "1.2.0",
            "_view_name": "StyleView",
            "description_width": "",
            "handle_color": null
          }
        },
        "1d7d020fd1c0434ca7b0506ec49f3c59": {
          "model_module": "@jupyter-widgets/output",
          "model_module_version": "1.0.0",
          "model_name": "OutputModel",
          "state": {
            "_dom_classes": [],
            "_model_module": "@jupyter-widgets/output",
            "_model_module_version": "1.0.0",
            "_model_name": "OutputModel",
            "_view_count": null,
            "_view_module": "@jupyter-widgets/output",
            "_view_module_version": "1.0.0",
            "_view_name": "OutputView",
            "layout": "IPY_MODEL_aceb352f2411489c82bfda47e47a156b",
            "msg_id": "",
            "outputs": [
              {
                "name": "stdout",
                "output_type": "stream",
                "text": [
                  "\n",
                  "Ridge Weights (alpha=10.0):\n",
                  " [-2.91764008e-03  1.64967934e+00  4.29130211e-01  2.63839282e+00\n",
                  "  2.96716993e+00  4.95144921e-01  2.96690365e+00 -1.65044175e-01\n",
                  " -6.59997122e-01  2.30976677e+00 -2.30912122e-01]\n",
                  "Train Set → MSE: 0.0000, RMSE: 0.0046, MAE: 0.0037, R²: 1.0000;  \n",
                  "Test Set → MSE: 0.0000, RMSE: 0.0046, MAE: 0.0036, R²: 1.0000;  \n"
                ]
              }
            ]
          }
        },
        "232112f2c7d94c918b97921f6090bd5e": {
          "model_module": "@jupyter-widgets/base",
          "model_module_version": "1.2.0",
          "model_name": "LayoutModel",
          "state": {
            "_model_module": "@jupyter-widgets/base",
            "_model_module_version": "1.2.0",
            "_model_name": "LayoutModel",
            "_view_count": null,
            "_view_module": "@jupyter-widgets/base",
            "_view_module_version": "1.2.0",
            "_view_name": "LayoutView",
            "align_content": null,
            "align_items": null,
            "align_self": null,
            "border": null,
            "bottom": null,
            "display": null,
            "flex": null,
            "flex_flow": null,
            "grid_area": null,
            "grid_auto_columns": null,
            "grid_auto_flow": null,
            "grid_auto_rows": null,
            "grid_column": null,
            "grid_gap": null,
            "grid_row": null,
            "grid_template_areas": null,
            "grid_template_columns": null,
            "grid_template_rows": null,
            "height": null,
            "justify_content": null,
            "justify_items": null,
            "left": null,
            "margin": null,
            "max_height": null,
            "max_width": null,
            "min_height": null,
            "min_width": null,
            "object_fit": null,
            "object_position": null,
            "order": null,
            "overflow": null,
            "overflow_x": null,
            "overflow_y": null,
            "padding": null,
            "right": null,
            "top": null,
            "visibility": null,
            "width": null
          }
        },
        "2470a445452d40dfadfa62d40c27482a": {
          "model_module": "@jupyter-widgets/base",
          "model_module_version": "1.2.0",
          "model_name": "LayoutModel",
          "state": {
            "_model_module": "@jupyter-widgets/base",
            "_model_module_version": "1.2.0",
            "_model_name": "LayoutModel",
            "_view_count": null,
            "_view_module": "@jupyter-widgets/base",
            "_view_module_version": "1.2.0",
            "_view_name": "LayoutView",
            "align_content": null,
            "align_items": null,
            "align_self": null,
            "border": null,
            "bottom": null,
            "display": null,
            "flex": null,
            "flex_flow": null,
            "grid_area": null,
            "grid_auto_columns": null,
            "grid_auto_flow": null,
            "grid_auto_rows": null,
            "grid_column": null,
            "grid_gap": null,
            "grid_row": null,
            "grid_template_areas": null,
            "grid_template_columns": null,
            "grid_template_rows": null,
            "height": null,
            "justify_content": null,
            "justify_items": null,
            "left": null,
            "margin": null,
            "max_height": null,
            "max_width": null,
            "min_height": null,
            "min_width": null,
            "object_fit": null,
            "object_position": null,
            "order": null,
            "overflow": null,
            "overflow_x": null,
            "overflow_y": null,
            "padding": null,
            "right": null,
            "top": null,
            "visibility": null,
            "width": null
          }
        },
        "26ae1cd4908541e7a2a711ee97a2e8f9": {
          "model_module": "@jupyter-widgets/controls",
          "model_module_version": "1.5.0",
          "model_name": "IntSliderModel",
          "state": {
            "_dom_classes": [],
            "_model_module": "@jupyter-widgets/controls",
            "_model_module_version": "1.5.0",
            "_model_name": "IntSliderModel",
            "_view_count": null,
            "_view_module": "@jupyter-widgets/controls",
            "_view_module_version": "1.5.0",
            "_view_name": "IntSliderView",
            "continuous_update": false,
            "description": "Max Depth",
            "description_tooltip": null,
            "disabled": false,
            "layout": "IPY_MODEL_6e8787a4544d40bf827ffec2ea3849e9",
            "max": 10,
            "min": 1,
            "orientation": "horizontal",
            "readout": true,
            "readout_format": "d",
            "step": 1,
            "style": "IPY_MODEL_9f3638e4d8dd420398dabd55c8881b9b",
            "value": 8
          }
        },
        "2e157b19c276418b89555bfd108415da": {
          "model_module": "@jupyter-widgets/base",
          "model_module_version": "1.2.0",
          "model_name": "LayoutModel",
          "state": {
            "_model_module": "@jupyter-widgets/base",
            "_model_module_version": "1.2.0",
            "_model_name": "LayoutModel",
            "_view_count": null,
            "_view_module": "@jupyter-widgets/base",
            "_view_module_version": "1.2.0",
            "_view_name": "LayoutView",
            "align_content": null,
            "align_items": null,
            "align_self": null,
            "border": null,
            "bottom": null,
            "display": null,
            "flex": null,
            "flex_flow": null,
            "grid_area": null,
            "grid_auto_columns": null,
            "grid_auto_flow": null,
            "grid_auto_rows": null,
            "grid_column": null,
            "grid_gap": null,
            "grid_row": null,
            "grid_template_areas": null,
            "grid_template_columns": null,
            "grid_template_rows": null,
            "height": null,
            "justify_content": null,
            "justify_items": null,
            "left": null,
            "margin": null,
            "max_height": null,
            "max_width": null,
            "min_height": null,
            "min_width": null,
            "object_fit": null,
            "object_position": null,
            "order": null,
            "overflow": null,
            "overflow_x": null,
            "overflow_y": null,
            "padding": null,
            "right": null,
            "top": null,
            "visibility": null,
            "width": null
          }
        },
        "42b3201392264f608aa0e9084b0ad96d": {
          "model_module": "@jupyter-widgets/controls",
          "model_module_version": "1.5.0",
          "model_name": "SliderStyleModel",
          "state": {
            "_model_module": "@jupyter-widgets/controls",
            "_model_module_version": "1.5.0",
            "_model_name": "SliderStyleModel",
            "_view_count": null,
            "_view_module": "@jupyter-widgets/base",
            "_view_module_version": "1.2.0",
            "_view_name": "StyleView",
            "description_width": "",
            "handle_color": null
          }
        },
        "5589e7f5d9ae4c7eab39f2ad2348d180": {
          "model_module": "@jupyter-widgets/base",
          "model_module_version": "1.2.0",
          "model_name": "LayoutModel",
          "state": {
            "_model_module": "@jupyter-widgets/base",
            "_model_module_version": "1.2.0",
            "_model_name": "LayoutModel",
            "_view_count": null,
            "_view_module": "@jupyter-widgets/base",
            "_view_module_version": "1.2.0",
            "_view_name": "LayoutView",
            "align_content": null,
            "align_items": null,
            "align_self": null,
            "border": null,
            "bottom": null,
            "display": null,
            "flex": null,
            "flex_flow": null,
            "grid_area": null,
            "grid_auto_columns": null,
            "grid_auto_flow": null,
            "grid_auto_rows": null,
            "grid_column": null,
            "grid_gap": null,
            "grid_row": null,
            "grid_template_areas": null,
            "grid_template_columns": null,
            "grid_template_rows": null,
            "height": null,
            "justify_content": null,
            "justify_items": null,
            "left": null,
            "margin": null,
            "max_height": null,
            "max_width": null,
            "min_height": null,
            "min_width": null,
            "object_fit": null,
            "object_position": null,
            "order": null,
            "overflow": null,
            "overflow_x": null,
            "overflow_y": null,
            "padding": null,
            "right": null,
            "top": null,
            "visibility": null,
            "width": null
          }
        },
        "56fd743fe8db44678c256047ef393eae": {
          "model_module": "@jupyter-widgets/base",
          "model_module_version": "1.2.0",
          "model_name": "LayoutModel",
          "state": {
            "_model_module": "@jupyter-widgets/base",
            "_model_module_version": "1.2.0",
            "_model_name": "LayoutModel",
            "_view_count": null,
            "_view_module": "@jupyter-widgets/base",
            "_view_module_version": "1.2.0",
            "_view_name": "LayoutView",
            "align_content": null,
            "align_items": null,
            "align_self": null,
            "border": null,
            "bottom": null,
            "display": null,
            "flex": null,
            "flex_flow": null,
            "grid_area": null,
            "grid_auto_columns": null,
            "grid_auto_flow": null,
            "grid_auto_rows": null,
            "grid_column": null,
            "grid_gap": null,
            "grid_row": null,
            "grid_template_areas": null,
            "grid_template_columns": null,
            "grid_template_rows": null,
            "height": null,
            "justify_content": null,
            "justify_items": null,
            "left": null,
            "margin": null,
            "max_height": null,
            "max_width": null,
            "min_height": null,
            "min_width": null,
            "object_fit": null,
            "object_position": null,
            "order": null,
            "overflow": null,
            "overflow_x": null,
            "overflow_y": null,
            "padding": null,
            "right": null,
            "top": null,
            "visibility": null,
            "width": null
          }
        },
        "588f1b317d7140dc956b187c69c3bdea": {
          "model_module": "@jupyter-widgets/base",
          "model_module_version": "1.2.0",
          "model_name": "LayoutModel",
          "state": {
            "_model_module": "@jupyter-widgets/base",
            "_model_module_version": "1.2.0",
            "_model_name": "LayoutModel",
            "_view_count": null,
            "_view_module": "@jupyter-widgets/base",
            "_view_module_version": "1.2.0",
            "_view_name": "LayoutView",
            "align_content": null,
            "align_items": null,
            "align_self": null,
            "border": null,
            "bottom": null,
            "display": null,
            "flex": null,
            "flex_flow": null,
            "grid_area": null,
            "grid_auto_columns": null,
            "grid_auto_flow": null,
            "grid_auto_rows": null,
            "grid_column": null,
            "grid_gap": null,
            "grid_row": null,
            "grid_template_areas": null,
            "grid_template_columns": null,
            "grid_template_rows": null,
            "height": null,
            "justify_content": null,
            "justify_items": null,
            "left": null,
            "margin": null,
            "max_height": null,
            "max_width": null,
            "min_height": null,
            "min_width": null,
            "object_fit": null,
            "object_position": null,
            "order": null,
            "overflow": null,
            "overflow_x": null,
            "overflow_y": null,
            "padding": null,
            "right": null,
            "top": null,
            "visibility": null,
            "width": null
          }
        },
        "5cd7a89d07d8449bbeb7595dc6f6a517": {
          "model_module": "@jupyter-widgets/base",
          "model_module_version": "1.2.0",
          "model_name": "LayoutModel",
          "state": {
            "_model_module": "@jupyter-widgets/base",
            "_model_module_version": "1.2.0",
            "_model_name": "LayoutModel",
            "_view_count": null,
            "_view_module": "@jupyter-widgets/base",
            "_view_module_version": "1.2.0",
            "_view_name": "LayoutView",
            "align_content": null,
            "align_items": null,
            "align_self": null,
            "border": null,
            "bottom": null,
            "display": null,
            "flex": null,
            "flex_flow": null,
            "grid_area": null,
            "grid_auto_columns": null,
            "grid_auto_flow": null,
            "grid_auto_rows": null,
            "grid_column": null,
            "grid_gap": null,
            "grid_row": null,
            "grid_template_areas": null,
            "grid_template_columns": null,
            "grid_template_rows": null,
            "height": null,
            "justify_content": null,
            "justify_items": null,
            "left": null,
            "margin": null,
            "max_height": null,
            "max_width": null,
            "min_height": null,
            "min_width": null,
            "object_fit": null,
            "object_position": null,
            "order": null,
            "overflow": null,
            "overflow_x": null,
            "overflow_y": null,
            "padding": null,
            "right": null,
            "top": null,
            "visibility": null,
            "width": null
          }
        },
        "6e8787a4544d40bf827ffec2ea3849e9": {
          "model_module": "@jupyter-widgets/base",
          "model_module_version": "1.2.0",
          "model_name": "LayoutModel",
          "state": {
            "_model_module": "@jupyter-widgets/base",
            "_model_module_version": "1.2.0",
            "_model_name": "LayoutModel",
            "_view_count": null,
            "_view_module": "@jupyter-widgets/base",
            "_view_module_version": "1.2.0",
            "_view_name": "LayoutView",
            "align_content": null,
            "align_items": null,
            "align_self": null,
            "border": null,
            "bottom": null,
            "display": null,
            "flex": null,
            "flex_flow": null,
            "grid_area": null,
            "grid_auto_columns": null,
            "grid_auto_flow": null,
            "grid_auto_rows": null,
            "grid_column": null,
            "grid_gap": null,
            "grid_row": null,
            "grid_template_areas": null,
            "grid_template_columns": null,
            "grid_template_rows": null,
            "height": null,
            "justify_content": null,
            "justify_items": null,
            "left": null,
            "margin": null,
            "max_height": null,
            "max_width": null,
            "min_height": null,
            "min_width": null,
            "object_fit": null,
            "object_position": null,
            "order": null,
            "overflow": null,
            "overflow_x": null,
            "overflow_y": null,
            "padding": null,
            "right": null,
            "top": null,
            "visibility": null,
            "width": null
          }
        },
        "6f6a1426c1d4445da0beefefcc1cbfd3": {
          "model_module": "@jupyter-widgets/controls",
          "model_module_version": "1.5.0",
          "model_name": "VBoxModel",
          "state": {
            "_dom_classes": [
              "widget-interact"
            ],
            "_model_module": "@jupyter-widgets/controls",
            "_model_module_version": "1.5.0",
            "_model_name": "VBoxModel",
            "_view_count": null,
            "_view_module": "@jupyter-widgets/controls",
            "_view_module_version": "1.5.0",
            "_view_name": "VBoxView",
            "box_style": "",
            "children": [
              "IPY_MODEL_26ae1cd4908541e7a2a711ee97a2e8f9",
              "IPY_MODEL_a1ef831b9d2744809f15c734fa9efd5e"
            ],
            "layout": "IPY_MODEL_7cd539d04b0c4617bd0d035a4ea65051"
          }
        },
        "7668fad9c6d94492aad04bbe13ffb623": {
          "model_module": "@jupyter-widgets/controls",
          "model_module_version": "1.5.0",
          "model_name": "VBoxModel",
          "state": {
            "_dom_classes": [
              "widget-interact"
            ],
            "_model_module": "@jupyter-widgets/controls",
            "_model_module_version": "1.5.0",
            "_model_name": "VBoxModel",
            "_view_count": null,
            "_view_module": "@jupyter-widgets/controls",
            "_view_module_version": "1.5.0",
            "_view_name": "VBoxView",
            "box_style": "",
            "children": [
              "IPY_MODEL_05d5f5e4612c4e6fb46b10762d1f4c62",
              "IPY_MODEL_1d7d020fd1c0434ca7b0506ec49f3c59"
            ],
            "layout": "IPY_MODEL_56fd743fe8db44678c256047ef393eae"
          }
        },
        "76c9dcb8a1dc418e978d24bbebc0df77": {
          "model_module": "@jupyter-widgets/output",
          "model_module_version": "1.0.0",
          "model_name": "OutputModel",
          "state": {
            "_dom_classes": [],
            "_model_module": "@jupyter-widgets/output",
            "_model_module_version": "1.0.0",
            "_model_name": "OutputModel",
            "_view_count": null,
            "_view_module": "@jupyter-widgets/output",
            "_view_module_version": "1.0.0",
            "_view_name": "OutputView",
            "layout": "IPY_MODEL_0056feb3848844caab27dd4eca29956b",
            "msg_id": "",
            "outputs": [
              {
                "name": "stdout",
                "output_type": "stream",
                "text": [
                  "\n",
                  "tau = 1.00\n",
                  "Train LWR → MSE: 0.0000, RMSE: 0.0000, MAE: 0.0000, R²: 1.0000;  \n",
                  "Test LWR → MSE: 114.7894, RMSE: 10.7140, MAE: 4.3098, R²: 0.6183;  \n"
                ]
              }
            ]
          }
        },
        "7a17c1faf36b47cab3f82fc7cf7abc16": {
          "model_module": "@jupyter-widgets/controls",
          "model_module_version": "1.5.0",
          "model_name": "VBoxModel",
          "state": {
            "_dom_classes": [
              "widget-interact"
            ],
            "_model_module": "@jupyter-widgets/controls",
            "_model_module_version": "1.5.0",
            "_model_name": "VBoxModel",
            "_view_count": null,
            "_view_module": "@jupyter-widgets/controls",
            "_view_module_version": "1.5.0",
            "_view_name": "VBoxView",
            "box_style": "",
            "children": [
              "IPY_MODEL_829463e63ef34d77b46f951cf3bca521",
              "IPY_MODEL_76c9dcb8a1dc418e978d24bbebc0df77"
            ],
            "layout": "IPY_MODEL_0bac84c12d504fefb0cadc6c295b30ea"
          }
        },
        "7cd539d04b0c4617bd0d035a4ea65051": {
          "model_module": "@jupyter-widgets/base",
          "model_module_version": "1.2.0",
          "model_name": "LayoutModel",
          "state": {
            "_model_module": "@jupyter-widgets/base",
            "_model_module_version": "1.2.0",
            "_model_name": "LayoutModel",
            "_view_count": null,
            "_view_module": "@jupyter-widgets/base",
            "_view_module_version": "1.2.0",
            "_view_name": "LayoutView",
            "align_content": null,
            "align_items": null,
            "align_self": null,
            "border": null,
            "bottom": null,
            "display": null,
            "flex": null,
            "flex_flow": null,
            "grid_area": null,
            "grid_auto_columns": null,
            "grid_auto_flow": null,
            "grid_auto_rows": null,
            "grid_column": null,
            "grid_gap": null,
            "grid_row": null,
            "grid_template_areas": null,
            "grid_template_columns": null,
            "grid_template_rows": null,
            "height": null,
            "justify_content": null,
            "justify_items": null,
            "left": null,
            "margin": null,
            "max_height": null,
            "max_width": null,
            "min_height": null,
            "min_width": null,
            "object_fit": null,
            "object_position": null,
            "order": null,
            "overflow": null,
            "overflow_x": null,
            "overflow_y": null,
            "padding": null,
            "right": null,
            "top": null,
            "visibility": null,
            "width": null
          }
        },
        "829463e63ef34d77b46f951cf3bca521": {
          "model_module": "@jupyter-widgets/controls",
          "model_module_version": "1.5.0",
          "model_name": "FloatSliderModel",
          "state": {
            "_dom_classes": [],
            "_model_module": "@jupyter-widgets/controls",
            "_model_module_version": "1.5.0",
            "_model_name": "FloatSliderModel",
            "_view_count": null,
            "_view_module": "@jupyter-widgets/controls",
            "_view_module_version": "1.5.0",
            "_view_name": "FloatSliderView",
            "continuous_update": false,
            "description": "tau:",
            "description_tooltip": null,
            "disabled": false,
            "layout": "IPY_MODEL_2e157b19c276418b89555bfd108415da",
            "max": 5,
            "min": 0.1,
            "orientation": "horizontal",
            "readout": true,
            "readout_format": ".2f",
            "step": 0.1,
            "style": "IPY_MODEL_8f7bc5364d884fa08bdbc5505f9bbc62",
            "value": 1
          }
        },
        "8f7bc5364d884fa08bdbc5505f9bbc62": {
          "model_module": "@jupyter-widgets/controls",
          "model_module_version": "1.5.0",
          "model_name": "SliderStyleModel",
          "state": {
            "_model_module": "@jupyter-widgets/controls",
            "_model_module_version": "1.5.0",
            "_model_name": "SliderStyleModel",
            "_view_count": null,
            "_view_module": "@jupyter-widgets/base",
            "_view_module_version": "1.2.0",
            "_view_name": "StyleView",
            "description_width": "",
            "handle_color": null
          }
        },
        "9f3638e4d8dd420398dabd55c8881b9b": {
          "model_module": "@jupyter-widgets/controls",
          "model_module_version": "1.5.0",
          "model_name": "SliderStyleModel",
          "state": {
            "_model_module": "@jupyter-widgets/controls",
            "_model_module_version": "1.5.0",
            "_model_name": "SliderStyleModel",
            "_view_count": null,
            "_view_module": "@jupyter-widgets/base",
            "_view_module_version": "1.2.0",
            "_view_name": "StyleView",
            "description_width": "",
            "handle_color": null
          }
        },
        "a1ef831b9d2744809f15c734fa9efd5e": {
          "model_module": "@jupyter-widgets/output",
          "model_module_version": "1.0.0",
          "model_name": "OutputModel",
          "state": {
            "_dom_classes": [],
            "_model_module": "@jupyter-widgets/output",
            "_model_module_version": "1.0.0",
            "_model_name": "OutputModel",
            "_view_count": null,
            "_view_module": "@jupyter-widgets/output",
            "_view_module_version": "1.0.0",
            "_view_name": "OutputView",
            "layout": "IPY_MODEL_057763b24a3e4b398f7720261382a016",
            "msg_id": "",
            "outputs": [
              {
                "name": "stdout",
                "output_type": "stream",
                "text": [
                  "\n",
                  "max_depth = 8\n",
                  "Test Set → MSE: 33.4640, RMSE: 5.7848, MAE: 4.6275, R²: 0.8887;  \n"
                ]
              },
              {
                "ename": "IndexError",
                "evalue": "list index out of range",
                "output_type": "error",
                "traceback": [
                  "\u001b[0;31m---------------------------------------------------------------------------\u001b[0m",
                  "\u001b[0;31mIndexError\u001b[0m                                Traceback (most recent call last)",
                  "\u001b[0;32m/usr/local/lib/python3.11/dist-packages/ipywidgets/widgets/interaction.py\u001b[0m in \u001b[0;36mupdate\u001b[0;34m(self, *args)\u001b[0m\n\u001b[1;32m    255\u001b[0m                     \u001b[0mvalue\u001b[0m \u001b[0;34m=\u001b[0m \u001b[0mwidget\u001b[0m\u001b[0;34m.\u001b[0m\u001b[0mget_interact_value\u001b[0m\u001b[0;34m(\u001b[0m\u001b[0;34m)\u001b[0m\u001b[0;34m\u001b[0m\u001b[0;34m\u001b[0m\u001b[0m\n\u001b[1;32m    256\u001b[0m                     \u001b[0mself\u001b[0m\u001b[0;34m.\u001b[0m\u001b[0mkwargs\u001b[0m\u001b[0;34m[\u001b[0m\u001b[0mwidget\u001b[0m\u001b[0;34m.\u001b[0m\u001b[0m_kwarg\u001b[0m\u001b[0;34m]\u001b[0m \u001b[0;34m=\u001b[0m \u001b[0mvalue\u001b[0m\u001b[0;34m\u001b[0m\u001b[0;34m\u001b[0m\u001b[0m\n\u001b[0;32m--> 257\u001b[0;31m                 \u001b[0mself\u001b[0m\u001b[0;34m.\u001b[0m\u001b[0mresult\u001b[0m \u001b[0;34m=\u001b[0m \u001b[0mself\u001b[0m\u001b[0;34m.\u001b[0m\u001b[0mf\u001b[0m\u001b[0;34m(\u001b[0m\u001b[0;34m**\u001b[0m\u001b[0mself\u001b[0m\u001b[0;34m.\u001b[0m\u001b[0mkwargs\u001b[0m\u001b[0;34m)\u001b[0m\u001b[0;34m\u001b[0m\u001b[0;34m\u001b[0m\u001b[0m\n\u001b[0m\u001b[1;32m    258\u001b[0m                 \u001b[0mshow_inline_matplotlib_plots\u001b[0m\u001b[0;34m(\u001b[0m\u001b[0;34m)\u001b[0m\u001b[0;34m\u001b[0m\u001b[0;34m\u001b[0m\u001b[0m\n\u001b[1;32m    259\u001b[0m                 \u001b[0;32mif\u001b[0m \u001b[0mself\u001b[0m\u001b[0;34m.\u001b[0m\u001b[0mauto_display\u001b[0m \u001b[0;32mand\u001b[0m \u001b[0mself\u001b[0m\u001b[0;34m.\u001b[0m\u001b[0mresult\u001b[0m \u001b[0;32mis\u001b[0m \u001b[0;32mnot\u001b[0m \u001b[0;32mNone\u001b[0m\u001b[0;34m:\u001b[0m\u001b[0;34m\u001b[0m\u001b[0;34m\u001b[0m\u001b[0m\n",
                  "\u001b[0;32m<ipython-input-16-44fba4703c33>\u001b[0m in \u001b[0;36mrun_dt\u001b[0;34m(depth)\u001b[0m\n\u001b[1;32m     18\u001b[0m     \u001b[0mprint_metrics\u001b[0m\u001b[0;34m(\u001b[0m\u001b[0myte\u001b[0m\u001b[0;34m,\u001b[0m \u001b[0mdt\u001b[0m\u001b[0;34m.\u001b[0m\u001b[0mpredict\u001b[0m\u001b[0;34m(\u001b[0m\u001b[0mXte\u001b[0m\u001b[0;34m)\u001b[0m\u001b[0;34m,\u001b[0m \u001b[0;34m\"Test Set\"\u001b[0m\u001b[0;34m)\u001b[0m\u001b[0;34m\u001b[0m\u001b[0;34m\u001b[0m\u001b[0m\n\u001b[1;32m     19\u001b[0m     \u001b[0mplt\u001b[0m\u001b[0;34m.\u001b[0m\u001b[0mfigure\u001b[0m\u001b[0;34m(\u001b[0m\u001b[0mfigsize\u001b[0m\u001b[0;34m=\u001b[0m\u001b[0;34m(\u001b[0m\u001b[0;36m20\u001b[0m\u001b[0;34m,\u001b[0m\u001b[0;36m6\u001b[0m\u001b[0;34m)\u001b[0m\u001b[0;34m)\u001b[0m\u001b[0;34m\u001b[0m\u001b[0;34m\u001b[0m\u001b[0m\n\u001b[0;32m---> 20\u001b[0;31m     plot_tree(\n\u001b[0m\u001b[1;32m     21\u001b[0m         \u001b[0mdt\u001b[0m\u001b[0;34m,\u001b[0m\u001b[0;34m\u001b[0m\u001b[0;34m\u001b[0m\u001b[0m\n\u001b[1;32m     22\u001b[0m         \u001b[0mfeature_names\u001b[0m\u001b[0;34m=\u001b[0m\u001b[0mfeature_names\u001b[0m\u001b[0;34m,\u001b[0m   \u001b[0;31m# ← exact same length as n_features_in_\u001b[0m\u001b[0;34m\u001b[0m\u001b[0;34m\u001b[0m\u001b[0m\n",
                  "\u001b[0;32m/usr/local/lib/python3.11/dist-packages/sklearn/utils/_param_validation.py\u001b[0m in \u001b[0;36mwrapper\u001b[0;34m(*args, **kwargs)\u001b[0m\n\u001b[1;32m    214\u001b[0m                     )\n\u001b[1;32m    215\u001b[0m                 ):\n\u001b[0;32m--> 216\u001b[0;31m                     \u001b[0;32mreturn\u001b[0m \u001b[0mfunc\u001b[0m\u001b[0;34m(\u001b[0m\u001b[0;34m*\u001b[0m\u001b[0margs\u001b[0m\u001b[0;34m,\u001b[0m \u001b[0;34m**\u001b[0m\u001b[0mkwargs\u001b[0m\u001b[0;34m)\u001b[0m\u001b[0;34m\u001b[0m\u001b[0;34m\u001b[0m\u001b[0m\n\u001b[0m\u001b[1;32m    217\u001b[0m             \u001b[0;32mexcept\u001b[0m \u001b[0mInvalidParameterError\u001b[0m \u001b[0;32mas\u001b[0m \u001b[0me\u001b[0m\u001b[0;34m:\u001b[0m\u001b[0;34m\u001b[0m\u001b[0;34m\u001b[0m\u001b[0m\n\u001b[1;32m    218\u001b[0m                 \u001b[0;31m# When the function is just a wrapper around an estimator, we allow\u001b[0m\u001b[0;34m\u001b[0m\u001b[0;34m\u001b[0m\u001b[0m\n",
                  "\u001b[0;32m/usr/local/lib/python3.11/dist-packages/sklearn/tree/_export.py\u001b[0m in \u001b[0;36mplot_tree\u001b[0;34m(decision_tree, max_depth, feature_names, class_names, label, filled, impurity, node_ids, proportion, rounded, precision, ax, fontsize)\u001b[0m\n\u001b[1;32m    203\u001b[0m         \u001b[0mfontsize\u001b[0m\u001b[0;34m=\u001b[0m\u001b[0mfontsize\u001b[0m\u001b[0;34m,\u001b[0m\u001b[0;34m\u001b[0m\u001b[0;34m\u001b[0m\u001b[0m\n\u001b[1;32m    204\u001b[0m     )\n\u001b[0;32m--> 205\u001b[0;31m     \u001b[0;32mreturn\u001b[0m \u001b[0mexporter\u001b[0m\u001b[0;34m.\u001b[0m\u001b[0mexport\u001b[0m\u001b[0;34m(\u001b[0m\u001b[0mdecision_tree\u001b[0m\u001b[0;34m,\u001b[0m \u001b[0max\u001b[0m\u001b[0;34m=\u001b[0m\u001b[0max\u001b[0m\u001b[0;34m)\u001b[0m\u001b[0;34m\u001b[0m\u001b[0;34m\u001b[0m\u001b[0m\n\u001b[0m\u001b[1;32m    206\u001b[0m \u001b[0;34m\u001b[0m\u001b[0m\n\u001b[1;32m    207\u001b[0m \u001b[0;34m\u001b[0m\u001b[0m\n",
                  "\u001b[0;32m/usr/local/lib/python3.11/dist-packages/sklearn/tree/_export.py\u001b[0m in \u001b[0;36mexport\u001b[0;34m(self, decision_tree, ax)\u001b[0m\n\u001b[1;32m    650\u001b[0m         \u001b[0max\u001b[0m\u001b[0;34m.\u001b[0m\u001b[0mclear\u001b[0m\u001b[0;34m(\u001b[0m\u001b[0;34m)\u001b[0m\u001b[0;34m\u001b[0m\u001b[0;34m\u001b[0m\u001b[0m\n\u001b[1;32m    651\u001b[0m         \u001b[0max\u001b[0m\u001b[0;34m.\u001b[0m\u001b[0mset_axis_off\u001b[0m\u001b[0;34m(\u001b[0m\u001b[0;34m)\u001b[0m\u001b[0;34m\u001b[0m\u001b[0;34m\u001b[0m\u001b[0m\n\u001b[0;32m--> 652\u001b[0;31m         \u001b[0mmy_tree\u001b[0m \u001b[0;34m=\u001b[0m \u001b[0mself\u001b[0m\u001b[0;34m.\u001b[0m\u001b[0m_make_tree\u001b[0m\u001b[0;34m(\u001b[0m\u001b[0;36m0\u001b[0m\u001b[0;34m,\u001b[0m \u001b[0mdecision_tree\u001b[0m\u001b[0;34m.\u001b[0m\u001b[0mtree_\u001b[0m\u001b[0;34m,\u001b[0m \u001b[0mdecision_tree\u001b[0m\u001b[0;34m.\u001b[0m\u001b[0mcriterion\u001b[0m\u001b[0;34m)\u001b[0m\u001b[0;34m\u001b[0m\u001b[0;34m\u001b[0m\u001b[0m\n\u001b[0m\u001b[1;32m    653\u001b[0m         \u001b[0mdraw_tree\u001b[0m \u001b[0;34m=\u001b[0m \u001b[0mbuchheim\u001b[0m\u001b[0;34m(\u001b[0m\u001b[0mmy_tree\u001b[0m\u001b[0;34m)\u001b[0m\u001b[0;34m\u001b[0m\u001b[0;34m\u001b[0m\u001b[0m\n\u001b[1;32m    654\u001b[0m \u001b[0;34m\u001b[0m\u001b[0m\n",
                  "\u001b[0;32m/usr/local/lib/python3.11/dist-packages/sklearn/tree/_export.py\u001b[0m in \u001b[0;36m_make_tree\u001b[0;34m(self, node_id, et, criterion, depth)\u001b[0m\n\u001b[1;32m    631\u001b[0m         ):\n\u001b[1;32m    632\u001b[0m             children = [\n\u001b[0;32m--> 633\u001b[0;31m                 self._make_tree(\n\u001b[0m\u001b[1;32m    634\u001b[0m                     \u001b[0met\u001b[0m\u001b[0;34m.\u001b[0m\u001b[0mchildren_left\u001b[0m\u001b[0;34m[\u001b[0m\u001b[0mnode_id\u001b[0m\u001b[0;34m]\u001b[0m\u001b[0;34m,\u001b[0m \u001b[0met\u001b[0m\u001b[0;34m,\u001b[0m \u001b[0mcriterion\u001b[0m\u001b[0;34m,\u001b[0m \u001b[0mdepth\u001b[0m\u001b[0;34m=\u001b[0m\u001b[0mdepth\u001b[0m \u001b[0;34m+\u001b[0m \u001b[0;36m1\u001b[0m\u001b[0;34m\u001b[0m\u001b[0;34m\u001b[0m\u001b[0m\n\u001b[1;32m    635\u001b[0m                 ),\n",
                  "\u001b[0;32m/usr/local/lib/python3.11/dist-packages/sklearn/tree/_export.py\u001b[0m in \u001b[0;36m_make_tree\u001b[0;34m(self, node_id, et, criterion, depth)\u001b[0m\n\u001b[1;32m    631\u001b[0m         ):\n\u001b[1;32m    632\u001b[0m             children = [\n\u001b[0;32m--> 633\u001b[0;31m                 self._make_tree(\n\u001b[0m\u001b[1;32m    634\u001b[0m                     \u001b[0met\u001b[0m\u001b[0;34m.\u001b[0m\u001b[0mchildren_left\u001b[0m\u001b[0;34m[\u001b[0m\u001b[0mnode_id\u001b[0m\u001b[0;34m]\u001b[0m\u001b[0;34m,\u001b[0m \u001b[0met\u001b[0m\u001b[0;34m,\u001b[0m \u001b[0mcriterion\u001b[0m\u001b[0;34m,\u001b[0m \u001b[0mdepth\u001b[0m\u001b[0;34m=\u001b[0m\u001b[0mdepth\u001b[0m \u001b[0;34m+\u001b[0m \u001b[0;36m1\u001b[0m\u001b[0;34m\u001b[0m\u001b[0;34m\u001b[0m\u001b[0m\n\u001b[1;32m    635\u001b[0m                 ),\n",
                  "\u001b[0;32m/usr/local/lib/python3.11/dist-packages/sklearn/tree/_export.py\u001b[0m in \u001b[0;36m_make_tree\u001b[0;34m(self, node_id, et, criterion, depth)\u001b[0m\n\u001b[1;32m    631\u001b[0m         ):\n\u001b[1;32m    632\u001b[0m             children = [\n\u001b[0;32m--> 633\u001b[0;31m                 self._make_tree(\n\u001b[0m\u001b[1;32m    634\u001b[0m                     \u001b[0met\u001b[0m\u001b[0;34m.\u001b[0m\u001b[0mchildren_left\u001b[0m\u001b[0;34m[\u001b[0m\u001b[0mnode_id\u001b[0m\u001b[0;34m]\u001b[0m\u001b[0;34m,\u001b[0m \u001b[0met\u001b[0m\u001b[0;34m,\u001b[0m \u001b[0mcriterion\u001b[0m\u001b[0;34m,\u001b[0m \u001b[0mdepth\u001b[0m\u001b[0;34m=\u001b[0m\u001b[0mdepth\u001b[0m \u001b[0;34m+\u001b[0m \u001b[0;36m1\u001b[0m\u001b[0;34m\u001b[0m\u001b[0;34m\u001b[0m\u001b[0m\n\u001b[1;32m    635\u001b[0m                 ),\n",
                  "\u001b[0;32m/usr/local/lib/python3.11/dist-packages/sklearn/tree/_export.py\u001b[0m in \u001b[0;36m_make_tree\u001b[0;34m(self, node_id, et, criterion, depth)\u001b[0m\n\u001b[1;32m    634\u001b[0m                     \u001b[0met\u001b[0m\u001b[0;34m.\u001b[0m\u001b[0mchildren_left\u001b[0m\u001b[0;34m[\u001b[0m\u001b[0mnode_id\u001b[0m\u001b[0;34m]\u001b[0m\u001b[0;34m,\u001b[0m \u001b[0met\u001b[0m\u001b[0;34m,\u001b[0m \u001b[0mcriterion\u001b[0m\u001b[0;34m,\u001b[0m \u001b[0mdepth\u001b[0m\u001b[0;34m=\u001b[0m\u001b[0mdepth\u001b[0m \u001b[0;34m+\u001b[0m \u001b[0;36m1\u001b[0m\u001b[0;34m\u001b[0m\u001b[0;34m\u001b[0m\u001b[0m\n\u001b[1;32m    635\u001b[0m                 ),\n\u001b[0;32m--> 636\u001b[0;31m                 self._make_tree(\n\u001b[0m\u001b[1;32m    637\u001b[0m                     \u001b[0met\u001b[0m\u001b[0;34m.\u001b[0m\u001b[0mchildren_right\u001b[0m\u001b[0;34m[\u001b[0m\u001b[0mnode_id\u001b[0m\u001b[0;34m]\u001b[0m\u001b[0;34m,\u001b[0m \u001b[0met\u001b[0m\u001b[0;34m,\u001b[0m \u001b[0mcriterion\u001b[0m\u001b[0;34m,\u001b[0m \u001b[0mdepth\u001b[0m\u001b[0;34m=\u001b[0m\u001b[0mdepth\u001b[0m \u001b[0;34m+\u001b[0m \u001b[0;36m1\u001b[0m\u001b[0;34m\u001b[0m\u001b[0;34m\u001b[0m\u001b[0m\n\u001b[1;32m    638\u001b[0m                 ),\n",
                  "\u001b[0;32m/usr/local/lib/python3.11/dist-packages/sklearn/tree/_export.py\u001b[0m in \u001b[0;36m_make_tree\u001b[0;34m(self, node_id, et, criterion, depth)\u001b[0m\n\u001b[1;32m    634\u001b[0m                     \u001b[0met\u001b[0m\u001b[0;34m.\u001b[0m\u001b[0mchildren_left\u001b[0m\u001b[0;34m[\u001b[0m\u001b[0mnode_id\u001b[0m\u001b[0;34m]\u001b[0m\u001b[0;34m,\u001b[0m \u001b[0met\u001b[0m\u001b[0;34m,\u001b[0m \u001b[0mcriterion\u001b[0m\u001b[0;34m,\u001b[0m \u001b[0mdepth\u001b[0m\u001b[0;34m=\u001b[0m\u001b[0mdepth\u001b[0m \u001b[0;34m+\u001b[0m \u001b[0;36m1\u001b[0m\u001b[0;34m\u001b[0m\u001b[0;34m\u001b[0m\u001b[0m\n\u001b[1;32m    635\u001b[0m                 ),\n\u001b[0;32m--> 636\u001b[0;31m                 self._make_tree(\n\u001b[0m\u001b[1;32m    637\u001b[0m                     \u001b[0met\u001b[0m\u001b[0;34m.\u001b[0m\u001b[0mchildren_right\u001b[0m\u001b[0;34m[\u001b[0m\u001b[0mnode_id\u001b[0m\u001b[0;34m]\u001b[0m\u001b[0;34m,\u001b[0m \u001b[0met\u001b[0m\u001b[0;34m,\u001b[0m \u001b[0mcriterion\u001b[0m\u001b[0;34m,\u001b[0m \u001b[0mdepth\u001b[0m\u001b[0;34m=\u001b[0m\u001b[0mdepth\u001b[0m \u001b[0;34m+\u001b[0m \u001b[0;36m1\u001b[0m\u001b[0;34m\u001b[0m\u001b[0;34m\u001b[0m\u001b[0m\n\u001b[1;32m    638\u001b[0m                 ),\n",
                  "\u001b[0;32m/usr/local/lib/python3.11/dist-packages/sklearn/tree/_export.py\u001b[0m in \u001b[0;36m_make_tree\u001b[0;34m(self, node_id, et, criterion, depth)\u001b[0m\n\u001b[1;32m    634\u001b[0m                     \u001b[0met\u001b[0m\u001b[0;34m.\u001b[0m\u001b[0mchildren_left\u001b[0m\u001b[0;34m[\u001b[0m\u001b[0mnode_id\u001b[0m\u001b[0;34m]\u001b[0m\u001b[0;34m,\u001b[0m \u001b[0met\u001b[0m\u001b[0;34m,\u001b[0m \u001b[0mcriterion\u001b[0m\u001b[0;34m,\u001b[0m \u001b[0mdepth\u001b[0m\u001b[0;34m=\u001b[0m\u001b[0mdepth\u001b[0m \u001b[0;34m+\u001b[0m \u001b[0;36m1\u001b[0m\u001b[0;34m\u001b[0m\u001b[0;34m\u001b[0m\u001b[0m\n\u001b[1;32m    635\u001b[0m                 ),\n\u001b[0;32m--> 636\u001b[0;31m                 self._make_tree(\n\u001b[0m\u001b[1;32m    637\u001b[0m                     \u001b[0met\u001b[0m\u001b[0;34m.\u001b[0m\u001b[0mchildren_right\u001b[0m\u001b[0;34m[\u001b[0m\u001b[0mnode_id\u001b[0m\u001b[0;34m]\u001b[0m\u001b[0;34m,\u001b[0m \u001b[0met\u001b[0m\u001b[0;34m,\u001b[0m \u001b[0mcriterion\u001b[0m\u001b[0;34m,\u001b[0m \u001b[0mdepth\u001b[0m\u001b[0;34m=\u001b[0m\u001b[0mdepth\u001b[0m \u001b[0;34m+\u001b[0m \u001b[0;36m1\u001b[0m\u001b[0;34m\u001b[0m\u001b[0;34m\u001b[0m\u001b[0m\n\u001b[1;32m    638\u001b[0m                 ),\n",
                  "\u001b[0;32m/usr/local/lib/python3.11/dist-packages/sklearn/tree/_export.py\u001b[0m in \u001b[0;36m_make_tree\u001b[0;34m(self, node_id, et, criterion, depth)\u001b[0m\n\u001b[1;32m    626\u001b[0m         \u001b[0;31m# traverses _tree.Tree recursively, builds intermediate\u001b[0m\u001b[0;34m\u001b[0m\u001b[0;34m\u001b[0m\u001b[0m\n\u001b[1;32m    627\u001b[0m         \u001b[0;31m# \"_reingold_tilford.Tree\" object\u001b[0m\u001b[0;34m\u001b[0m\u001b[0;34m\u001b[0m\u001b[0m\n\u001b[0;32m--> 628\u001b[0;31m         \u001b[0mname\u001b[0m \u001b[0;34m=\u001b[0m \u001b[0mself\u001b[0m\u001b[0;34m.\u001b[0m\u001b[0mnode_to_str\u001b[0m\u001b[0;34m(\u001b[0m\u001b[0met\u001b[0m\u001b[0;34m,\u001b[0m \u001b[0mnode_id\u001b[0m\u001b[0;34m,\u001b[0m \u001b[0mcriterion\u001b[0m\u001b[0;34m=\u001b[0m\u001b[0mcriterion\u001b[0m\u001b[0;34m)\u001b[0m\u001b[0;34m\u001b[0m\u001b[0;34m\u001b[0m\u001b[0m\n\u001b[0m\u001b[1;32m    629\u001b[0m         if et.children_left[node_id] != _tree.TREE_LEAF and (\n\u001b[1;32m    630\u001b[0m             \u001b[0mself\u001b[0m\u001b[0;34m.\u001b[0m\u001b[0mmax_depth\u001b[0m \u001b[0;32mis\u001b[0m \u001b[0;32mNone\u001b[0m \u001b[0;32mor\u001b[0m \u001b[0mdepth\u001b[0m \u001b[0;34m<=\u001b[0m \u001b[0mself\u001b[0m\u001b[0;34m.\u001b[0m\u001b[0mmax_depth\u001b[0m\u001b[0;34m\u001b[0m\u001b[0;34m\u001b[0m\u001b[0m\n",
                  "\u001b[0;32m/usr/local/lib/python3.11/dist-packages/sklearn/tree/_export.py\u001b[0m in \u001b[0;36mnode_to_str\u001b[0;34m(self, tree, node_id, criterion)\u001b[0m\n\u001b[1;32m    308\u001b[0m             \u001b[0;31m# Always write node decision criteria, except for leaves\u001b[0m\u001b[0;34m\u001b[0m\u001b[0;34m\u001b[0m\u001b[0m\n\u001b[1;32m    309\u001b[0m             \u001b[0;32mif\u001b[0m \u001b[0mself\u001b[0m\u001b[0;34m.\u001b[0m\u001b[0mfeature_names\u001b[0m \u001b[0;32mis\u001b[0m \u001b[0;32mnot\u001b[0m \u001b[0;32mNone\u001b[0m\u001b[0;34m:\u001b[0m\u001b[0;34m\u001b[0m\u001b[0;34m\u001b[0m\u001b[0m\n\u001b[0;32m--> 310\u001b[0;31m                 \u001b[0mfeature\u001b[0m \u001b[0;34m=\u001b[0m \u001b[0mself\u001b[0m\u001b[0;34m.\u001b[0m\u001b[0mfeature_names\u001b[0m\u001b[0;34m[\u001b[0m\u001b[0mtree\u001b[0m\u001b[0;34m.\u001b[0m\u001b[0mfeature\u001b[0m\u001b[0;34m[\u001b[0m\u001b[0mnode_id\u001b[0m\u001b[0;34m]\u001b[0m\u001b[0;34m]\u001b[0m\u001b[0;34m\u001b[0m\u001b[0;34m\u001b[0m\u001b[0m\n\u001b[0m\u001b[1;32m    311\u001b[0m                 \u001b[0mfeature\u001b[0m \u001b[0;34m=\u001b[0m \u001b[0mself\u001b[0m\u001b[0;34m.\u001b[0m\u001b[0mstr_escape\u001b[0m\u001b[0;34m(\u001b[0m\u001b[0mfeature\u001b[0m\u001b[0;34m)\u001b[0m\u001b[0;34m\u001b[0m\u001b[0;34m\u001b[0m\u001b[0m\n\u001b[1;32m    312\u001b[0m             \u001b[0;32melse\u001b[0m\u001b[0;34m:\u001b[0m\u001b[0;34m\u001b[0m\u001b[0;34m\u001b[0m\u001b[0m\n",
                  "\u001b[0;31mIndexError\u001b[0m: list index out of range"
                ]
              }
            ]
          }
        },
        "a2ecf5acb08e44218e62eb3bdb591feb": {
          "model_module": "@jupyter-widgets/controls",
          "model_module_version": "1.5.0",
          "model_name": "SliderStyleModel",
          "state": {
            "_model_module": "@jupyter-widgets/controls",
            "_model_module_version": "1.5.0",
            "_model_name": "SliderStyleModel",
            "_view_count": null,
            "_view_module": "@jupyter-widgets/base",
            "_view_module_version": "1.2.0",
            "_view_name": "StyleView",
            "description_width": "initial",
            "handle_color": null
          }
        },
        "aceb352f2411489c82bfda47e47a156b": {
          "model_module": "@jupyter-widgets/base",
          "model_module_version": "1.2.0",
          "model_name": "LayoutModel",
          "state": {
            "_model_module": "@jupyter-widgets/base",
            "_model_module_version": "1.2.0",
            "_model_name": "LayoutModel",
            "_view_count": null,
            "_view_module": "@jupyter-widgets/base",
            "_view_module_version": "1.2.0",
            "_view_name": "LayoutView",
            "align_content": null,
            "align_items": null,
            "align_self": null,
            "border": null,
            "bottom": null,
            "display": null,
            "flex": null,
            "flex_flow": null,
            "grid_area": null,
            "grid_auto_columns": null,
            "grid_auto_flow": null,
            "grid_auto_rows": null,
            "grid_column": null,
            "grid_gap": null,
            "grid_row": null,
            "grid_template_areas": null,
            "grid_template_columns": null,
            "grid_template_rows": null,
            "height": null,
            "justify_content": null,
            "justify_items": null,
            "left": null,
            "margin": null,
            "max_height": null,
            "max_width": null,
            "min_height": null,
            "min_width": null,
            "object_fit": null,
            "object_position": null,
            "order": null,
            "overflow": null,
            "overflow_x": null,
            "overflow_y": null,
            "padding": null,
            "right": null,
            "top": null,
            "visibility": null,
            "width": null
          }
        },
        "afc680135ae5413cb7c760623a74bb11": {
          "model_module": "@jupyter-widgets/controls",
          "model_module_version": "1.5.0",
          "model_name": "VBoxModel",
          "state": {
            "_dom_classes": [
              "widget-interact"
            ],
            "_model_module": "@jupyter-widgets/controls",
            "_model_module_version": "1.5.0",
            "_model_name": "VBoxModel",
            "_view_count": null,
            "_view_module": "@jupyter-widgets/controls",
            "_view_module_version": "1.5.0",
            "_view_name": "VBoxView",
            "box_style": "",
            "children": [
              "IPY_MODEL_bd16e17f53094e649132af7d03480839",
              "IPY_MODEL_f74840a4df9f4c92909b97ff06c88edd"
            ],
            "layout": "IPY_MODEL_5cd7a89d07d8449bbeb7595dc6f6a517"
          }
        },
        "b10a23837b664cf980e0a9eba878a2af": {
          "model_module": "@jupyter-widgets/base",
          "model_module_version": "1.2.0",
          "model_name": "LayoutModel",
          "state": {
            "_model_module": "@jupyter-widgets/base",
            "_model_module_version": "1.2.0",
            "_model_name": "LayoutModel",
            "_view_count": null,
            "_view_module": "@jupyter-widgets/base",
            "_view_module_version": "1.2.0",
            "_view_name": "LayoutView",
            "align_content": null,
            "align_items": null,
            "align_self": null,
            "border": null,
            "bottom": null,
            "display": null,
            "flex": null,
            "flex_flow": null,
            "grid_area": null,
            "grid_auto_columns": null,
            "grid_auto_flow": null,
            "grid_auto_rows": null,
            "grid_column": null,
            "grid_gap": null,
            "grid_row": null,
            "grid_template_areas": null,
            "grid_template_columns": null,
            "grid_template_rows": null,
            "height": null,
            "justify_content": null,
            "justify_items": null,
            "left": null,
            "margin": null,
            "max_height": null,
            "max_width": null,
            "min_height": null,
            "min_width": null,
            "object_fit": null,
            "object_position": null,
            "order": null,
            "overflow": null,
            "overflow_x": null,
            "overflow_y": null,
            "padding": null,
            "right": null,
            "top": null,
            "visibility": null,
            "width": null
          }
        },
        "bd16e17f53094e649132af7d03480839": {
          "model_module": "@jupyter-widgets/controls",
          "model_module_version": "1.5.0",
          "model_name": "IntSliderModel",
          "state": {
            "_dom_classes": [],
            "_model_module": "@jupyter-widgets/controls",
            "_model_module_version": "1.5.0",
            "_model_name": "IntSliderModel",
            "_view_count": null,
            "_view_module": "@jupyter-widgets/controls",
            "_view_module_version": "1.5.0",
            "_view_name": "IntSliderView",
            "continuous_update": true,
            "description": "Degree",
            "description_tooltip": null,
            "disabled": false,
            "layout": "IPY_MODEL_bdacf676e25248c789ee5e556dc8f07c",
            "max": 10,
            "min": 1,
            "orientation": "horizontal",
            "readout": true,
            "readout_format": "d",
            "step": 1,
            "style": "IPY_MODEL_42b3201392264f608aa0e9084b0ad96d",
            "value": 2
          }
        },
        "bdacf676e25248c789ee5e556dc8f07c": {
          "model_module": "@jupyter-widgets/base",
          "model_module_version": "1.2.0",
          "model_name": "LayoutModel",
          "state": {
            "_model_module": "@jupyter-widgets/base",
            "_model_module_version": "1.2.0",
            "_model_name": "LayoutModel",
            "_view_count": null,
            "_view_module": "@jupyter-widgets/base",
            "_view_module_version": "1.2.0",
            "_view_name": "LayoutView",
            "align_content": null,
            "align_items": null,
            "align_self": null,
            "border": null,
            "bottom": null,
            "display": null,
            "flex": null,
            "flex_flow": null,
            "grid_area": null,
            "grid_auto_columns": null,
            "grid_auto_flow": null,
            "grid_auto_rows": null,
            "grid_column": null,
            "grid_gap": null,
            "grid_row": null,
            "grid_template_areas": null,
            "grid_template_columns": null,
            "grid_template_rows": null,
            "height": null,
            "justify_content": null,
            "justify_items": null,
            "left": null,
            "margin": null,
            "max_height": null,
            "max_width": null,
            "min_height": null,
            "min_width": null,
            "object_fit": null,
            "object_position": null,
            "order": null,
            "overflow": null,
            "overflow_x": null,
            "overflow_y": null,
            "padding": null,
            "right": null,
            "top": null,
            "visibility": null,
            "width": null
          }
        },
        "d43fc67265314563b39803a056de7f2a": {
          "model_module": "@jupyter-widgets/controls",
          "model_module_version": "1.5.0",
          "model_name": "VBoxModel",
          "state": {
            "_dom_classes": [
              "widget-interact"
            ],
            "_model_module": "@jupyter-widgets/controls",
            "_model_module_version": "1.5.0",
            "_model_name": "VBoxModel",
            "_view_count": null,
            "_view_module": "@jupyter-widgets/controls",
            "_view_module_version": "1.5.0",
            "_view_name": "VBoxView",
            "box_style": "",
            "children": [
              "IPY_MODEL_e52d5febe50b409083016bc0b6827e77",
              "IPY_MODEL_ee43481d989f4a9ab4ca6147c1a810b0"
            ],
            "layout": "IPY_MODEL_232112f2c7d94c918b97921f6090bd5e"
          }
        },
        "e52d5febe50b409083016bc0b6827e77": {
          "model_module": "@jupyter-widgets/controls",
          "model_module_version": "1.5.0",
          "model_name": "IntSliderModel",
          "state": {
            "_dom_classes": [],
            "_model_module": "@jupyter-widgets/controls",
            "_model_module_version": "1.5.0",
            "_model_name": "IntSliderModel",
            "_view_count": null,
            "_view_module": "@jupyter-widgets/controls",
            "_view_module_version": "1.5.0",
            "_view_name": "IntSliderView",
            "continuous_update": true,
            "description": "Alpha index:",
            "description_tooltip": null,
            "disabled": false,
            "layout": "IPY_MODEL_2470a445452d40dfadfa62d40c27482a",
            "max": 11,
            "min": 0,
            "orientation": "horizontal",
            "readout": true,
            "readout_format": "d",
            "step": 1,
            "style": "IPY_MODEL_a2ecf5acb08e44218e62eb3bdb591feb",
            "value": 0
          }
        },
        "ee43481d989f4a9ab4ca6147c1a810b0": {
          "model_module": "@jupyter-widgets/output",
          "model_module_version": "1.0.0",
          "model_name": "OutputModel",
          "state": {
            "_dom_classes": [],
            "_model_module": "@jupyter-widgets/output",
            "_model_module_version": "1.0.0",
            "_model_name": "OutputModel",
            "_view_count": null,
            "_view_module": "@jupyter-widgets/output",
            "_view_module_version": "1.0.0",
            "_view_name": "OutputView",
            "layout": "IPY_MODEL_5589e7f5d9ae4c7eab39f2ad2348d180",
            "msg_id": "",
            "outputs": [
              {
                "name": "stdout",
                "output_type": "stream",
                "text": [
                  "Alpha = 0.00010\n",
                  "MSE = 0.00000\n",
                  "R² = 1.00000\n"
                ]
              },
              {
                "data": {
                  "image/png": "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\n",
                  "text/plain": "<Figure size 600x400 with 1 Axes>"
                },
                "metadata": {},
                "output_type": "display_data"
              }
            ]
          }
        },
        "f74840a4df9f4c92909b97ff06c88edd": {
          "model_module": "@jupyter-widgets/output",
          "model_module_version": "1.0.0",
          "model_name": "OutputModel",
          "state": {
            "_dom_classes": [],
            "_model_module": "@jupyter-widgets/output",
            "_model_module_version": "1.0.0",
            "_model_name": "OutputModel",
            "_view_count": null,
            "_view_module": "@jupyter-widgets/output",
            "_view_module_version": "1.0.0",
            "_view_name": "OutputView",
            "layout": "IPY_MODEL_588f1b317d7140dc956b187c69c3bdea",
            "msg_id": "",
            "outputs": [
              {
                "ename": "InvalidIndexError",
                "evalue": "(slice(None, None, None), 0)",
                "output_type": "error",
                "traceback": [
                  "\u001b[0;31m---------------------------------------------------------------------------\u001b[0m",
                  "\u001b[0;31mTypeError\u001b[0m                                 Traceback (most recent call last)",
                  "\u001b[0;32m/usr/local/lib/python3.11/dist-packages/pandas/core/indexes/base.py\u001b[0m in \u001b[0;36mget_loc\u001b[0;34m(self, key)\u001b[0m\n\u001b[1;32m   3804\u001b[0m         \u001b[0;32mtry\u001b[0m\u001b[0;34m:\u001b[0m\u001b[0;34m\u001b[0m\u001b[0;34m\u001b[0m\u001b[0m\n\u001b[0;32m-> 3805\u001b[0;31m             \u001b[0;32mreturn\u001b[0m \u001b[0mself\u001b[0m\u001b[0;34m.\u001b[0m\u001b[0m_engine\u001b[0m\u001b[0;34m.\u001b[0m\u001b[0mget_loc\u001b[0m\u001b[0;34m(\u001b[0m\u001b[0mcasted_key\u001b[0m\u001b[0;34m)\u001b[0m\u001b[0;34m\u001b[0m\u001b[0;34m\u001b[0m\u001b[0m\n\u001b[0m\u001b[1;32m   3806\u001b[0m         \u001b[0;32mexcept\u001b[0m \u001b[0mKeyError\u001b[0m \u001b[0;32mas\u001b[0m \u001b[0merr\u001b[0m\u001b[0;34m:\u001b[0m\u001b[0;34m\u001b[0m\u001b[0;34m\u001b[0m\u001b[0m\n",
                  "\u001b[0;32mindex.pyx\u001b[0m in \u001b[0;36mpandas._libs.index.IndexEngine.get_loc\u001b[0;34m()\u001b[0m\n",
                  "\u001b[0;32mindex.pyx\u001b[0m in \u001b[0;36mpandas._libs.index.IndexEngine.get_loc\u001b[0;34m()\u001b[0m\n",
                  "\u001b[0;31mTypeError\u001b[0m: '(slice(None, None, None), 0)' is an invalid key",
                  "\nDuring handling of the above exception, another exception occurred:\n",
                  "\u001b[0;31mInvalidIndexError\u001b[0m                         Traceback (most recent call last)",
                  "\u001b[0;32m/usr/local/lib/python3.11/dist-packages/ipywidgets/widgets/interaction.py\u001b[0m in \u001b[0;36mupdate\u001b[0;34m(self, *args)\u001b[0m\n\u001b[1;32m    255\u001b[0m                     \u001b[0mvalue\u001b[0m \u001b[0;34m=\u001b[0m \u001b[0mwidget\u001b[0m\u001b[0;34m.\u001b[0m\u001b[0mget_interact_value\u001b[0m\u001b[0;34m(\u001b[0m\u001b[0;34m)\u001b[0m\u001b[0;34m\u001b[0m\u001b[0;34m\u001b[0m\u001b[0m\n\u001b[1;32m    256\u001b[0m                     \u001b[0mself\u001b[0m\u001b[0;34m.\u001b[0m\u001b[0mkwargs\u001b[0m\u001b[0;34m[\u001b[0m\u001b[0mwidget\u001b[0m\u001b[0;34m.\u001b[0m\u001b[0m_kwarg\u001b[0m\u001b[0;34m]\u001b[0m \u001b[0;34m=\u001b[0m \u001b[0mvalue\u001b[0m\u001b[0;34m\u001b[0m\u001b[0;34m\u001b[0m\u001b[0m\n\u001b[0;32m--> 257\u001b[0;31m                 \u001b[0mself\u001b[0m\u001b[0;34m.\u001b[0m\u001b[0mresult\u001b[0m \u001b[0;34m=\u001b[0m \u001b[0mself\u001b[0m\u001b[0;34m.\u001b[0m\u001b[0mf\u001b[0m\u001b[0;34m(\u001b[0m\u001b[0;34m**\u001b[0m\u001b[0mself\u001b[0m\u001b[0;34m.\u001b[0m\u001b[0mkwargs\u001b[0m\u001b[0;34m)\u001b[0m\u001b[0;34m\u001b[0m\u001b[0;34m\u001b[0m\u001b[0m\n\u001b[0m\u001b[1;32m    258\u001b[0m                 \u001b[0mshow_inline_matplotlib_plots\u001b[0m\u001b[0;34m(\u001b[0m\u001b[0;34m)\u001b[0m\u001b[0;34m\u001b[0m\u001b[0;34m\u001b[0m\u001b[0m\n\u001b[1;32m    259\u001b[0m                 \u001b[0;32mif\u001b[0m \u001b[0mself\u001b[0m\u001b[0;34m.\u001b[0m\u001b[0mauto_display\u001b[0m \u001b[0;32mand\u001b[0m \u001b[0mself\u001b[0m\u001b[0;34m.\u001b[0m\u001b[0mresult\u001b[0m \u001b[0;32mis\u001b[0m \u001b[0;32mnot\u001b[0m \u001b[0;32mNone\u001b[0m\u001b[0;34m:\u001b[0m\u001b[0;34m\u001b[0m\u001b[0;34m\u001b[0m\u001b[0m\n",
                  "\u001b[0;32m<ipython-input-15-677de0f07020>\u001b[0m in \u001b[0;36mrun_poly_regression\u001b[0;34m(degree)\u001b[0m\n\u001b[1;32m     18\u001b[0m \u001b[0;31m# The interactive regression + plot function\u001b[0m\u001b[0;34m\u001b[0m\u001b[0;34m\u001b[0m\u001b[0m\n\u001b[1;32m     19\u001b[0m \u001b[0;32mdef\u001b[0m \u001b[0mrun_poly_regression\u001b[0m\u001b[0;34m(\u001b[0m\u001b[0mdegree\u001b[0m\u001b[0;34m)\u001b[0m\u001b[0;34m:\u001b[0m\u001b[0;34m\u001b[0m\u001b[0;34m\u001b[0m\u001b[0m\n\u001b[0;32m---> 20\u001b[0;31m     \u001b[0mXtr\u001b[0m \u001b[0;34m=\u001b[0m \u001b[0mbuild_poly_features\u001b[0m\u001b[0;34m(\u001b[0m\u001b[0mX_train\u001b[0m\u001b[0;34m,\u001b[0m \u001b[0mdegree\u001b[0m\u001b[0;34m)\u001b[0m\u001b[0;34m\u001b[0m\u001b[0;34m\u001b[0m\u001b[0m\n\u001b[0m\u001b[1;32m     21\u001b[0m     \u001b[0mXte\u001b[0m \u001b[0;34m=\u001b[0m \u001b[0mbuild_poly_features\u001b[0m\u001b[0;34m(\u001b[0m\u001b[0mX_test\u001b[0m\u001b[0;34m,\u001b[0m  \u001b[0mdegree\u001b[0m\u001b[0;34m)\u001b[0m\u001b[0;34m\u001b[0m\u001b[0;34m\u001b[0m\u001b[0m\n\u001b[1;32m     22\u001b[0m     \u001b[0;31m# Normal equation\u001b[0m\u001b[0;34m\u001b[0m\u001b[0;34m\u001b[0m\u001b[0m\n",
                  "\u001b[0;32m<ipython-input-15-677de0f07020>\u001b[0m in \u001b[0;36mbuild_poly_features\u001b[0;34m(X, degree)\u001b[0m\n\u001b[1;32m     13\u001b[0m     \u001b[0;32mfor\u001b[0m \u001b[0md\u001b[0m \u001b[0;32min\u001b[0m \u001b[0mrange\u001b[0m\u001b[0;34m(\u001b[0m\u001b[0;36m1\u001b[0m\u001b[0;34m,\u001b[0m \u001b[0mdegree\u001b[0m \u001b[0;34m+\u001b[0m \u001b[0;36m1\u001b[0m\u001b[0;34m)\u001b[0m\u001b[0;34m:\u001b[0m\u001b[0;34m\u001b[0m\u001b[0;34m\u001b[0m\u001b[0m\n\u001b[1;32m     14\u001b[0m         \u001b[0;32mfor\u001b[0m \u001b[0mj\u001b[0m \u001b[0;32min\u001b[0m \u001b[0mrange\u001b[0m\u001b[0;34m(\u001b[0m\u001b[0mX\u001b[0m\u001b[0;34m.\u001b[0m\u001b[0mshape\u001b[0m\u001b[0;34m[\u001b[0m\u001b[0;36m1\u001b[0m\u001b[0;34m]\u001b[0m\u001b[0;34m)\u001b[0m\u001b[0;34m:\u001b[0m\u001b[0;34m\u001b[0m\u001b[0;34m\u001b[0m\u001b[0m\n\u001b[0;32m---> 15\u001b[0;31m             \u001b[0mfeatures\u001b[0m\u001b[0;34m.\u001b[0m\u001b[0mappend\u001b[0m\u001b[0;34m(\u001b[0m\u001b[0mX\u001b[0m\u001b[0;34m[\u001b[0m\u001b[0;34m:\u001b[0m\u001b[0;34m,\u001b[0m \u001b[0mj\u001b[0m\u001b[0;34m]\u001b[0m \u001b[0;34m**\u001b[0m \u001b[0md\u001b[0m\u001b[0;34m)\u001b[0m\u001b[0;34m\u001b[0m\u001b[0;34m\u001b[0m\u001b[0m\n\u001b[0m\u001b[1;32m     16\u001b[0m     \u001b[0;32mreturn\u001b[0m \u001b[0mnp\u001b[0m\u001b[0;34m.\u001b[0m\u001b[0mcolumn_stack\u001b[0m\u001b[0;34m(\u001b[0m\u001b[0mfeatures\u001b[0m\u001b[0;34m)\u001b[0m\u001b[0;34m\u001b[0m\u001b[0;34m\u001b[0m\u001b[0m\n\u001b[1;32m     17\u001b[0m \u001b[0;34m\u001b[0m\u001b[0m\n",
                  "\u001b[0;32m/usr/local/lib/python3.11/dist-packages/pandas/core/frame.py\u001b[0m in \u001b[0;36m__getitem__\u001b[0;34m(self, key)\u001b[0m\n\u001b[1;32m   4100\u001b[0m             \u001b[0;32mif\u001b[0m \u001b[0mself\u001b[0m\u001b[0;34m.\u001b[0m\u001b[0mcolumns\u001b[0m\u001b[0;34m.\u001b[0m\u001b[0mnlevels\u001b[0m \u001b[0;34m>\u001b[0m \u001b[0;36m1\u001b[0m\u001b[0;34m:\u001b[0m\u001b[0;34m\u001b[0m\u001b[0;34m\u001b[0m\u001b[0m\n\u001b[1;32m   4101\u001b[0m                 \u001b[0;32mreturn\u001b[0m \u001b[0mself\u001b[0m\u001b[0;34m.\u001b[0m\u001b[0m_getitem_multilevel\u001b[0m\u001b[0;34m(\u001b[0m\u001b[0mkey\u001b[0m\u001b[0;34m)\u001b[0m\u001b[0;34m\u001b[0m\u001b[0;34m\u001b[0m\u001b[0m\n\u001b[0;32m-> 4102\u001b[0;31m             \u001b[0mindexer\u001b[0m \u001b[0;34m=\u001b[0m \u001b[0mself\u001b[0m\u001b[0;34m.\u001b[0m\u001b[0mcolumns\u001b[0m\u001b[0;34m.\u001b[0m\u001b[0mget_loc\u001b[0m\u001b[0;34m(\u001b[0m\u001b[0mkey\u001b[0m\u001b[0;34m)\u001b[0m\u001b[0;34m\u001b[0m\u001b[0;34m\u001b[0m\u001b[0m\n\u001b[0m\u001b[1;32m   4103\u001b[0m             \u001b[0;32mif\u001b[0m \u001b[0mis_integer\u001b[0m\u001b[0;34m(\u001b[0m\u001b[0mindexer\u001b[0m\u001b[0;34m)\u001b[0m\u001b[0;34m:\u001b[0m\u001b[0;34m\u001b[0m\u001b[0;34m\u001b[0m\u001b[0m\n\u001b[1;32m   4104\u001b[0m                 \u001b[0mindexer\u001b[0m \u001b[0;34m=\u001b[0m \u001b[0;34m[\u001b[0m\u001b[0mindexer\u001b[0m\u001b[0;34m]\u001b[0m\u001b[0;34m\u001b[0m\u001b[0;34m\u001b[0m\u001b[0m\n",
                  "\u001b[0;32m/usr/local/lib/python3.11/dist-packages/pandas/core/indexes/base.py\u001b[0m in \u001b[0;36mget_loc\u001b[0;34m(self, key)\u001b[0m\n\u001b[1;32m   3815\u001b[0m             \u001b[0;31m#  InvalidIndexError. Otherwise we fall through and re-raise\u001b[0m\u001b[0;34m\u001b[0m\u001b[0;34m\u001b[0m\u001b[0m\n\u001b[1;32m   3816\u001b[0m             \u001b[0;31m#  the TypeError.\u001b[0m\u001b[0;34m\u001b[0m\u001b[0;34m\u001b[0m\u001b[0m\n\u001b[0;32m-> 3817\u001b[0;31m             \u001b[0mself\u001b[0m\u001b[0;34m.\u001b[0m\u001b[0m_check_indexing_error\u001b[0m\u001b[0;34m(\u001b[0m\u001b[0mkey\u001b[0m\u001b[0;34m)\u001b[0m\u001b[0;34m\u001b[0m\u001b[0;34m\u001b[0m\u001b[0m\n\u001b[0m\u001b[1;32m   3818\u001b[0m             \u001b[0;32mraise\u001b[0m\u001b[0;34m\u001b[0m\u001b[0;34m\u001b[0m\u001b[0m\n\u001b[1;32m   3819\u001b[0m \u001b[0;34m\u001b[0m\u001b[0m\n",
                  "\u001b[0;32m/usr/local/lib/python3.11/dist-packages/pandas/core/indexes/base.py\u001b[0m in \u001b[0;36m_check_indexing_error\u001b[0;34m(self, key)\u001b[0m\n\u001b[1;32m   6057\u001b[0m             \u001b[0;31m# if key is not a scalar, directly raise an error (the code below\u001b[0m\u001b[0;34m\u001b[0m\u001b[0;34m\u001b[0m\u001b[0m\n\u001b[1;32m   6058\u001b[0m             \u001b[0;31m# would convert to numpy arrays and raise later any way) - GH29926\u001b[0m\u001b[0;34m\u001b[0m\u001b[0;34m\u001b[0m\u001b[0m\n\u001b[0;32m-> 6059\u001b[0;31m             \u001b[0;32mraise\u001b[0m \u001b[0mInvalidIndexError\u001b[0m\u001b[0;34m(\u001b[0m\u001b[0mkey\u001b[0m\u001b[0;34m)\u001b[0m\u001b[0;34m\u001b[0m\u001b[0;34m\u001b[0m\u001b[0m\n\u001b[0m\u001b[1;32m   6060\u001b[0m \u001b[0;34m\u001b[0m\u001b[0m\n\u001b[1;32m   6061\u001b[0m     \u001b[0;34m@\u001b[0m\u001b[0mcache_readonly\u001b[0m\u001b[0;34m\u001b[0m\u001b[0;34m\u001b[0m\u001b[0m\n",
                  "\u001b[0;31mInvalidIndexError\u001b[0m: (slice(None, None, None), 0)"
                ]
              }
            ]
          }
        }
      }
    }
  },
  "nbformat": 4,
  "nbformat_minor": 0
}
